{
  "metadata": {
    "kernelspec": {
      "name": "python3",
      "display_name": "Python 3"
    },
    "language_info": {
      "name": "python"
    },
    "colab": {
      "provenance": [],
      "toc_visible": true,
      "include_colab_link": true
    }
  },
  "nbformat_minor": 0,
  "nbformat": 4,
  "cells": [
    {
      "cell_type": "markdown",
      "metadata": {
        "id": "view-in-github",
        "colab_type": "text"
      },
      "source": [
        "<a href=\"https://colab.research.google.com/github/Huang-Yongzhi/MusicLM_Jupyter/blob/main/musiclm.ipynb\" target=\"_parent\"><img src=\"https://colab.research.google.com/assets/colab-badge.svg\" alt=\"Open In Colab\"/></a>"
      ]
    },
    {
      "cell_type": "markdown",
      "source": [
        "如果重新运行，需要重启，不然trainer会报错，认为有多个实例"
      ],
      "metadata": {
        "id": "8rB8R87lnjHE"
      }
    },
    {
      "cell_type": "markdown",
      "source": [
        "# 一、加载数据\n",
        "## 1.安装必要的包"
      ],
      "metadata": {
        "id": "DkjAlaMGnjHF"
      }
    },
    {
      "cell_type": "code",
      "source": [
        "# !pip install you-get\n",
        "!pip install yt-dlp\n",
        "!sudo apt-get install ffmpeg"
      ],
      "metadata": {
        "colab": {
          "base_uri": "https://localhost:8080/"
        },
        "id": "AubllYUfS2mY",
        "outputId": "fd415799-6e8c-4ed2-cb52-66110f8277d7",
        "trusted": true
      },
      "execution_count": 2,
      "outputs": [
        {
          "output_type": "stream",
          "name": "stdout",
          "text": [
            "Collecting yt-dlp\n",
            "  Downloading yt_dlp-2023.10.13-py2.py3-none-any.whl (3.1 MB)\n",
            "\u001b[2K     \u001b[90m━━━━━━━━━━━━━━━━━━━━━━━━━━━━━━━━━━━━━━━━\u001b[0m \u001b[32m3.1/3.1 MB\u001b[0m \u001b[31m28.1 MB/s\u001b[0m eta \u001b[36m0:00:00\u001b[0m\n",
            "\u001b[?25hCollecting mutagen (from yt-dlp)\n",
            "  Downloading mutagen-1.47.0-py3-none-any.whl (194 kB)\n",
            "\u001b[2K     \u001b[90m━━━━━━━━━━━━━━━━━━━━━━━━━━━━━━━━━━━━━━━━\u001b[0m \u001b[32m194.4/194.4 kB\u001b[0m \u001b[31m24.2 MB/s\u001b[0m eta \u001b[36m0:00:00\u001b[0m\n",
            "\u001b[?25hCollecting pycryptodomex (from yt-dlp)\n",
            "  Downloading pycryptodomex-3.19.0-cp35-abi3-manylinux_2_17_x86_64.manylinux2014_x86_64.whl (2.1 MB)\n",
            "\u001b[2K     \u001b[90m━━━━━━━━━━━━━━━━━━━━━━━━━━━━━━━━━━━━━━━━\u001b[0m \u001b[32m2.1/2.1 MB\u001b[0m \u001b[31m77.1 MB/s\u001b[0m eta \u001b[36m0:00:00\u001b[0m\n",
            "\u001b[?25hCollecting websockets (from yt-dlp)\n",
            "  Downloading websockets-12.0-cp310-cp310-manylinux_2_5_x86_64.manylinux1_x86_64.manylinux_2_17_x86_64.manylinux2014_x86_64.whl (130 kB)\n",
            "\u001b[2K     \u001b[90m━━━━━━━━━━━━━━━━━━━━━━━━━━━━━━━━━━━━━━━━\u001b[0m \u001b[32m130.2/130.2 kB\u001b[0m \u001b[31m15.6 MB/s\u001b[0m eta \u001b[36m0:00:00\u001b[0m\n",
            "\u001b[?25hRequirement already satisfied: certifi in /usr/local/lib/python3.10/dist-packages (from yt-dlp) (2023.7.22)\n",
            "Collecting brotli (from yt-dlp)\n",
            "  Downloading Brotli-1.1.0-cp310-cp310-manylinux_2_5_x86_64.manylinux1_x86_64.manylinux_2_12_x86_64.manylinux2010_x86_64.whl (3.0 MB)\n",
            "\u001b[2K     \u001b[90m━━━━━━━━━━━━━━━━━━━━━━━━━━━━━━━━━━━━━━━━\u001b[0m \u001b[32m3.0/3.0 MB\u001b[0m \u001b[31m70.7 MB/s\u001b[0m eta \u001b[36m0:00:00\u001b[0m\n",
            "\u001b[?25hInstalling collected packages: brotli, websockets, pycryptodomex, mutagen, yt-dlp\n",
            "Successfully installed brotli-1.1.0 mutagen-1.47.0 pycryptodomex-3.19.0 websockets-12.0 yt-dlp-2023.10.13\n",
            "Reading package lists... Done\n",
            "Building dependency tree... Done\n",
            "Reading state information... Done\n",
            "ffmpeg is already the newest version (7:4.4.2-0ubuntu0.22.04.1).\n",
            "0 upgraded, 0 newly installed, 0 to remove and 6 not upgraded.\n"
          ]
        }
      ]
    },
    {
      "cell_type": "markdown",
      "source": [
        "## 加载数据集\n",
        "\n",
        "**数据集内容**\n",
        "\n",
        "调用的.csv文件内容如下\n",
        "```\n",
        "ytid,start_s,end_s,audioset_positive_labels,aspect_list,caption,author_id,is_balanced_subset,is_audioset_eval\n",
        "-0Gj8-vB1q4,30,40,\"/m/0140xf,/m/02cjck,/m/04rlf\",\"['low quality', 'sustained strings melody', 'soft female vocal', 'mellow piano melody', 'sad', 'soulful', 'ballad']\",\"The low quality recording features a ballad song that contains sustained strings, mellow piano melody and soft female vocal singing over it. It sounds sad and soulful, like something you would hear at Sunday services.\",4,False,True\n",
        "...\n",
        "```"
      ],
      "metadata": {
        "id": "8tuFD0_Z-1AG"
      }
    },
    {
      "cell_type": "code",
      "source": [
        "import pandas as pd\n",
        "\n",
        "#  GitHub 上的 .csv 文件的 Raw 链接\n",
        "url = \"https://raw.githubusercontent.com/Huang-Yongzhi/MusicLM_Jupyter/main/Data/musiccaps-public.csv\"\n",
        "\n",
        "df = pd.read_csv(url)\n",
        "\n",
        "# 显示数据以验证加载正确\n",
        "print(df.head())\n",
        "\n",
        "# 指定文件保存路径\n",
        "file_path = '/content/musiccaps-public.csv'\n",
        "\n",
        "# 将 DataFrame 保存为 CSV 文件\n",
        "df.to_csv(file_path, index=False)  # 设置index=False以防止添加额外的索引列\n",
        "\n",
        "\n",
        "# 检查文件是否已保存\n",
        "!ls /content\n"
      ],
      "metadata": {
        "colab": {
          "base_uri": "https://localhost:8080/"
        },
        "id": "cmLpHSV-ibtk",
        "outputId": "75cab210-4d44-4e2b-aed1-e55598a26a7f"
      },
      "execution_count": 3,
      "outputs": [
        {
          "output_type": "stream",
          "name": "stdout",
          "text": [
            "          ytid  start_s  end_s  \\\n",
            "0  -0Gj8-vB1q4       30     40   \n",
            "1  -0SdAVK79lg       30     40   \n",
            "2  -0vPFx-wRRI       30     40   \n",
            "3  -0xzrMun0Rs       30     40   \n",
            "4  -1LrH01Ei1w       30     40   \n",
            "\n",
            "                            audioset_positive_labels  \\\n",
            "0                       /m/0140xf,/m/02cjck,/m/04rlf   \n",
            "1  /m/0155w,/m/01lyv,/m/0342h,/m/042v_gx,/m/04rlf...   \n",
            "2                                /m/025_jnm,/m/04rlf   \n",
            "3                                 /m/01g90h,/m/04rlf   \n",
            "4                                /m/02p0sh1,/m/04rlf   \n",
            "\n",
            "                                         aspect_list  \\\n",
            "0  ['low quality', 'sustained strings melody', 's...   \n",
            "1  ['guitar song', 'piano backing', 'simple percu...   \n",
            "2  ['amateur recording', 'finger snipping', 'male...   \n",
            "3  ['backing track', 'jazzy', 'digital drums', 'p...   \n",
            "4  ['rubab instrument', 'repetitive melody on dif...   \n",
            "\n",
            "                                             caption  author_id  \\\n",
            "0  The low quality recording features a ballad so...          4   \n",
            "1  This song features an electric guitar as the m...          0   \n",
            "2  a male voice is singing a melody with changing...          6   \n",
            "3  This song contains digital drums playing a sim...          6   \n",
            "4  This song features a rubber instrument being p...          0   \n",
            "\n",
            "   is_balanced_subset  is_audioset_eval  \n",
            "0               False              True  \n",
            "1               False             False  \n",
            "2               False              True  \n",
            "3               False              True  \n",
            "4               False             False  \n",
            "musiccaps-public.csv  sample_data\n"
          ]
        }
      ]
    },
    {
      "cell_type": "markdown",
      "source": [
        "**解释**：\n",
        "数据集是一个包含音频信息和描述的元数据文件，格式类似于 CSV。每行包含一个 YouTube 音频的标识符（ytid），音频的开始和结束时间（start_s 和 end_s），音频标签（audioset_positive_labels）和其他相关信息。"
      ],
      "metadata": {
        "id": "cmEZ4Rk2-8g-"
      }
    },
    {
      "cell_type": "markdown",
      "source": [
        "\n",
        "\n",
        "## 使用 yt-dlp 下载音频\n",
        "使用如 youtube-dl，yt-dlp 等 这类工具来下载视频，然后使用音频处理库（例如 librosa 或 pydub）来裁剪音频。但是**youtube-dl还是停留在2021年，很多功能不能用了**....\n",
        "\n",
        "\n",
        "下载 YouTube 音频\n",
        "首先，需要安装 yt-dlp："
      ],
      "metadata": {
        "id": "puuachnT_ymu"
      }
    },
    {
      "cell_type": "code",
      "source": [
        "# !pip install yt-dlp"
      ],
      "metadata": {
        "trusted": true,
        "id": "3ml1_hyMnjHJ"
      },
      "execution_count": 4,
      "outputs": []
    },
    {
      "cell_type": "markdown",
      "source": [
        "测试yt-dlp"
      ],
      "metadata": {
        "id": "gOVXSn4hnjHJ"
      }
    },
    {
      "cell_type": "code",
      "source": [
        "# !yt-dlp -f140 -x --audio-format mp3 https://www.youtube.com/watch?v=-0vPFx-wRRI"
      ],
      "metadata": {
        "trusted": true,
        "id": "KQi_rzeOnjHK"
      },
      "execution_count": 5,
      "outputs": []
    },
    {
      "cell_type": "markdown",
      "source": [
        "测试命令行"
      ],
      "metadata": {
        "id": "uAvbZ0NSHofL"
      }
    },
    {
      "cell_type": "code",
      "source": [
        "# import subprocess\n",
        "# import os\n",
        "# import glob\n",
        "\n",
        "# ytid = \"-0xzrMun0Rs\"  # 示例 YouTube 视频ID\n",
        "# start_s = 10  # 裁剪开始时间（秒）\n",
        "# end_s = 20    # 裁剪结束时间（秒）\n",
        "# audio_output_dir = '/content/downloaded_audios'  # 音频输出目录\n",
        "\n",
        "# # 确保输出目录存在\n",
        "# os.makedirs(audio_output_dir, exist_ok=True)\n",
        "\n",
        "# video_url = f'https://www.youtube.com/watch?v={ytid}'\n",
        "# temp_audio_path_pattern  = os.path.join(audio_output_dir, f'{ytid}_temp.*')\n",
        "# output_audio_path = os.path.join(audio_output_dir, f'{ytid}.wav')\n",
        "\n",
        "\n",
        "# try:\n",
        "#     # 下载音频， 修改这段命令可以测试命令行是否正确\n",
        "#     subprocess.run(['yt-dlp', '-x', '--audio-format', 'wav', '-o', temp_audio_path_pattern, video_url], check=True)\n",
        "\n",
        "#     # 查找下载的音频文件\n",
        "#     downloaded_files = glob.glob(temp_audio_path_pattern)\n",
        "#     if not downloaded_files:\n",
        "#         raise Exception(\"Downloaded audio file not found.\")\n",
        "#     downloaded_audio_path = downloaded_files[0]  # 取得实际下载的文件路径\n",
        "\n",
        "#     # 使用 ffmpeg 裁剪音频\n",
        "#     subprocess.run(['ffmpeg', '-i', downloaded_audio_path, '-ss', str(start_s), '-to', str(end_s), '-c', 'copy', output_audio_path], check=True)\n",
        "#     os.remove(downloaded_audio_path)  # 删除临时文件\n",
        "#     print(f\"Audio downloaded and trimmed: {output_audio_path}\")\n",
        "# except subprocess.CalledProcessError as e:\n",
        "#     print(f\"Error: {e}\")\n"
      ],
      "metadata": {
        "id": "s4eXawrdr2N_"
      },
      "execution_count": 6,
      "outputs": []
    },
    {
      "cell_type": "markdown",
      "source": [
        "**有两种方案**\n",
        "\n",
        "方案一：使用 yt-dlp 命令行工具的 --download-sections 参数来直接下载特定时间段的音频。\n",
        "\n",
        "方案二：在 yt-dlp 命令下载视频以后，利用ffmpeg来剪裁。\n",
        "yt-dlp 命令中使用了 --postprocessor-args 选项，但没有指定具体哪个后处理器（post-processor）应该使用这些参数。\n",
        "我们需要参数应用于 ffmpeg 音频裁剪处理器。"
      ],
      "metadata": {
        "id": "ruD13Ii2njHK"
      }
    },
    {
      "cell_type": "markdown",
      "source": [
        "方案一：\n",
        "使用进程而不是线程，因为：\n",
        "\n",
        "使用多进程（num_proc=cores），**在处理 CPU 密集型任务（如音频处理）时通常比多线程更有效率**。这是因为 Python 的线程受到全局解释器锁（GIL）的限制，而多进程可以绕过这个限制，充分利用多核 CPU。\n",
        "\n",
        "使用了线程池（ThreadPoolExecutor），在 Python 中，**线程主要适用于 I/O 密集型任务**，而对于 CPU 密集型任务，由于 GIL 的存在，其效率通常低于多进程。\n"
      ],
      "metadata": {
        "id": "aW3NSMKFXn_l"
      }
    },
    {
      "cell_type": "code",
      "source": [
        "# 加载进度条\n",
        "!pip install tqdm\n"
      ],
      "metadata": {
        "colab": {
          "base_uri": "https://localhost:8080/"
        },
        "id": "Sg6B9WbdmoPt",
        "outputId": "e9ded13f-22e0-4916-ce7e-1b2cc574a71b"
      },
      "execution_count": 7,
      "outputs": [
        {
          "output_type": "stream",
          "name": "stdout",
          "text": [
            "Requirement already satisfied: tqdm in /usr/local/lib/python3.10/dist-packages (4.66.1)\n"
          ]
        }
      ]
    },
    {
      "cell_type": "code",
      "source": [
        "import subprocess\n",
        "import os\n",
        "import pandas as pd\n",
        "from tqdm import tqdm\n",
        "from concurrent.futures import as_completed\n",
        "from concurrent.futures import ProcessPoolExecutor\n",
        "import glob\n",
        "\n",
        "def download_audio(ytid, start_s, end_s, audio_output_dir, num_attempts=5):\n",
        "    video_url = f'https://www.youtube.com/watch?v={ytid}'\n",
        "    output_audio_path = os.path.join(audio_output_dir, f'{ytid}.wav')\n",
        "\n",
        "    command = f\"\"\"\n",
        "        yt-dlp --quiet --no-warnings\n",
        "        -x --audio-format wav -f bestaudio\n",
        "        -o \"{output_audio_path}\" --download-sections \"*{start_s}-{end_s}\" {video_url}\n",
        "    \"\"\".strip()\n",
        "\n",
        "    attempts = 0\n",
        "    while attempts < num_attempts:\n",
        "         # 尝试下载多次以确保成功。\n",
        "      try:\n",
        "          subprocess.run(command, check=True, shell=True)\n",
        "          # 使用run指令更通用，用于执行命令并等待其完成。替代旧的函数如 call, check_call, check_output。\n",
        "          return output_audio_path\n",
        "      except subprocess.CalledProcessError as e:\n",
        "          print(f\"Attempt {attempts + 1} failed for {ytid}: {e}\")\n",
        "          attempts += 1\n",
        "      print(f\"Failed to download audio for {ytid} after {num_attempts} attempts.\")\n",
        "      return None\n",
        "\n",
        "\n",
        "def download_and_process_audio(ytid, start_s, end_s, audio_output_dir):\n",
        "    output_audio_path = os.path.join(audio_output_dir, f'{ytid}.wav')\n",
        "\n",
        "    # 检查音频文件是否已存在\n",
        "    if not os.path.exists(output_audio_path):\n",
        "        # 如果不存在，则下载音频\n",
        "        downloaded_path = download_audio(ytid, start_s, end_s, audio_output_dir)\n",
        "        if downloaded_path:\n",
        "            print(f\"Downloaded audio to {downloaded_path}.\")\n",
        "        else:\n",
        "            print(f\"Failed to download audio for {ytid}.\")\n",
        "    else:\n",
        "        print(f\"Audio file already exists for {ytid}. Skipping download.\")\n",
        "\n",
        "\n",
        "\n",
        "\n",
        "# 加载CSV文件\n",
        "csv_file = '/content/musiccaps-public.csv'  # colab\n",
        "# csv_file = '/kaggle/input/musiccaps/musiccaps-public.csv'  # kaggle\n",
        "\n",
        "df = pd.read_csv(csv_file)\n",
        "\n",
        "audio_output_dir = './downloaded_audios'  # 音频输出目录\n",
        "\n",
        "# 确保输出目录存在\n",
        "os.makedirs(audio_output_dir, exist_ok=True)\n",
        "\n",
        "# 使用进程池，这里的进程池数量可以改一下\n",
        "cores = 100 # 进程数量\n",
        "samples = 200 # 样本数量\n",
        "\n",
        "# 工作进程数量\n",
        "with ProcessPoolExecutor(max_workers=cores) as executor:\n",
        "    # 准备将来的结果\n",
        "    future_to_ytid = {executor.submit(\n",
        "        download_and_process_audio,\n",
        "        row['ytid'], row['start_s'], row['end_s'],\n",
        "        audio_output_dir\n",
        "        ): row['ytid'] for index, row in df.iterrows() if index < samples}\n",
        "\n",
        "    # 使用 tqdm 来显示进度\n",
        "    for future in tqdm(as_completed(future_to_ytid), total=len(future_to_ytid)):\n",
        "        ytid = future_to_ytid[future]\n",
        "        try:\n",
        "            future.result()  # 获取结果或抛出异常\n",
        "        except Exception as e:\n",
        "            print(f\"{ytid} generated an exception: {e}\")\n",
        "\n"
      ],
      "metadata": {
        "colab": {
          "base_uri": "https://localhost:8080/"
        },
        "id": "_Y8siM-O7JwO",
        "outputId": "af4de294-c4aa-495d-d309-d7a401cce0c2",
        "trusted": true
      },
      "execution_count": 8,
      "outputs": [
        {
          "metadata": {
            "tags": null
          },
          "name": "stderr",
          "output_type": "stream",
          "text": [
            "\r  0%|          | 0/200 [00:00<?, ?it/s]"
          ]
        },
        {
          "output_type": "stream",
          "name": "stdout",
          "text": [
            "Attempt 1 failed for -sevczF5etI: Command 'yt-dlp --quiet --no-warnings -x --audio-format wav -f bestaudio -o \"./downloaded_audios/-sevczF5etI.wav\" --download-sections \"*30-40\" https://www.youtube.com/watch?v=-sevczF5etI' returned non-zero exit status 1.\n",
            "Failed to download audio for -sevczF5etI after 5 attempts.\n",
            "Failed to download audio for -sevczF5etI.\n"
          ]
        },
        {
          "output_type": "stream",
          "name": "stderr",
          "text": [
            "\r  0%|          | 1/200 [01:14<4:07:48, 74.71s/it]"
          ]
        },
        {
          "output_type": "stream",
          "name": "stdout",
          "text": [
            "Downloaded audio to ./downloaded_audios/-ByoSbgzr4M.wav.\n"
          ]
        },
        {
          "output_type": "stream",
          "name": "stderr",
          "text": [
            "\r  1%|          | 2/200 [02:31<4:10:11, 75.81s/it]"
          ]
        },
        {
          "output_type": "stream",
          "name": "stdout",
          "text": [
            "Downloaded audio to ./downloaded_audios/-JVWfFPBl84.wav.\n"
          ]
        },
        {
          "output_type": "stream",
          "name": "stderr",
          "text": [
            "\r  2%|▏         | 3/200 [02:31<2:16:02, 41.43s/it]"
          ]
        },
        {
          "output_type": "stream",
          "name": "stdout",
          "text": [
            "Downloaded audio to ./downloaded_audios/-m5ZlWziIeA.wav.\n"
          ]
        },
        {
          "output_type": "stream",
          "name": "stderr",
          "text": [
            "\r  2%|▏         | 4/200 [02:32<1:22:26, 25.24s/it]"
          ]
        },
        {
          "output_type": "stream",
          "name": "stdout",
          "text": [
            "Downloaded audio to ./downloaded_audios/-mB_XLq6g1g.wav.\n"
          ]
        },
        {
          "output_type": "stream",
          "name": "stderr",
          "text": [
            "\r  2%|▎         | 5/200 [02:32<52:49, 16.26s/it]  "
          ]
        },
        {
          "output_type": "stream",
          "name": "stdout",
          "text": [
            "Downloaded audio to ./downloaded_audios/-OUIEnuNd1I.wav.\n"
          ]
        },
        {
          "output_type": "stream",
          "name": "stderr",
          "text": [
            "\r  3%|▎         | 6/200 [02:34<36:31, 11.30s/it]"
          ]
        },
        {
          "output_type": "stream",
          "name": "stdout",
          "text": [
            "Downloaded audio to ./downloaded_audios/-_6RxZyi30Q.wav.\n"
          ]
        },
        {
          "output_type": "stream",
          "name": "stderr",
          "text": [
            "\r  4%|▎         | 7/200 [02:35<25:28,  7.92s/it]"
          ]
        },
        {
          "output_type": "stream",
          "name": "stdout",
          "text": [
            "Downloaded audio to ./downloaded_audios/-mA_bqD1tgU.wav.Downloaded audio to ./downloaded_audios/-88me9bBzrk.wav.\n"
          ]
        },
        {
          "output_type": "stream",
          "name": "stderr",
          "text": [
            "\r  4%|▍         | 8/200 [02:35<17:35,  5.50s/it]"
          ]
        },
        {
          "output_type": "stream",
          "name": "stdout",
          "text": [
            "\n"
          ]
        },
        {
          "output_type": "stream",
          "name": "stderr",
          "text": [
            "\r  4%|▍         | 9/200 [02:35<12:13,  3.84s/it]"
          ]
        },
        {
          "output_type": "stream",
          "name": "stdout",
          "text": [
            "Downloaded audio to ./downloaded_audios/-dVgUSrR8g4.wav.\n"
          ]
        },
        {
          "output_type": "stream",
          "name": "stderr",
          "text": [
            "\r  5%|▌         | 10/200 [02:36<08:57,  2.83s/it]"
          ]
        },
        {
          "output_type": "stream",
          "name": "stdout",
          "text": [
            "Downloaded audio to ./downloaded_audios/-4SYC2YgzL8.wav.\n"
          ]
        },
        {
          "output_type": "stream",
          "name": "stderr",
          "text": [
            "\r  6%|▌         | 11/200 [02:36<06:37,  2.10s/it]"
          ]
        },
        {
          "output_type": "stream",
          "name": "stdout",
          "text": [
            "Downloaded audio to ./downloaded_audios/-pUfYFcsgG4.wav.\n"
          ]
        },
        {
          "output_type": "stream",
          "name": "stderr",
          "text": [
            "\r  6%|▌         | 12/200 [02:39<06:47,  2.17s/it]"
          ]
        },
        {
          "output_type": "stream",
          "name": "stdout",
          "text": [
            "Downloaded audio to ./downloaded_audios/-tKZOl4q1Kw.wav.\n"
          ]
        },
        {
          "output_type": "stream",
          "name": "stderr",
          "text": [
            "\r  6%|▋         | 13/200 [02:40<06:13,  2.00s/it]"
          ]
        },
        {
          "output_type": "stream",
          "name": "stdout",
          "text": [
            "Downloaded audio to ./downloaded_audios/-e4wXAy1iVo.wav.\n"
          ]
        },
        {
          "output_type": "stream",
          "name": "stderr",
          "text": [
            "\r  7%|▋         | 14/200 [02:42<06:20,  2.05s/it]"
          ]
        },
        {
          "output_type": "stream",
          "name": "stdout",
          "text": [
            "Downloaded audio to ./downloaded_audios/-1OlgJWehn8.wav.\n"
          ]
        },
        {
          "output_type": "stream",
          "name": "stderr",
          "text": [
            "\r  8%|▊         | 15/200 [02:43<05:04,  1.65s/it]"
          ]
        },
        {
          "output_type": "stream",
          "name": "stdout",
          "text": [
            "Downloaded audio to ./downloaded_audios/-3Kv4fdm7Uk.wav.\n"
          ]
        },
        {
          "output_type": "stream",
          "name": "stderr",
          "text": [
            "\r  8%|▊         | 16/200 [02:43<03:50,  1.25s/it]"
          ]
        },
        {
          "output_type": "stream",
          "name": "stdout",
          "text": [
            "Downloaded audio to ./downloaded_audios/-f6s6kQEHFY.wav.\n"
          ]
        },
        {
          "output_type": "stream",
          "name": "stderr",
          "text": [
            "\r  8%|▊         | 17/200 [02:44<03:17,  1.08s/it]"
          ]
        },
        {
          "output_type": "stream",
          "name": "stdout",
          "text": [
            "Downloaded audio to ./downloaded_audios/-tpq_bzSKes.wav.Downloaded audio to ./downloaded_audios/-SWaCArvQug.wav.\n"
          ]
        },
        {
          "output_type": "stream",
          "name": "stderr",
          "text": [
            "\r  9%|▉         | 18/200 [02:45<02:50,  1.07it/s]"
          ]
        },
        {
          "output_type": "stream",
          "name": "stdout",
          "text": [
            "\n"
          ]
        },
        {
          "output_type": "stream",
          "name": "stderr",
          "text": [
            "\r 10%|▉         | 19/200 [02:45<02:19,  1.30it/s]"
          ]
        },
        {
          "output_type": "stream",
          "name": "stdout",
          "text": [
            "Downloaded audio to ./downloaded_audios/-1UWSisR2zo.wav.\n"
          ]
        },
        {
          "output_type": "stream",
          "name": "stderr",
          "text": [
            "\r 10%|█         | 20/200 [02:45<01:59,  1.51it/s]"
          ]
        },
        {
          "output_type": "stream",
          "name": "stdout",
          "text": [
            "Downloaded audio to ./downloaded_audios/-ZHpNr_KRXU.wav.Downloaded audio to ./downloaded_audios/-WvVG0wHcTc.wav.\n",
            "\n"
          ]
        },
        {
          "output_type": "stream",
          "name": "stderr",
          "text": [
            "\r 10%|█         | 21/200 [02:46<01:55,  1.55it/s]"
          ]
        },
        {
          "output_type": "stream",
          "name": "stdout",
          "text": [
            "Downloaded audio to ./downloaded_audios/-6HBGg1cAI0.wav.\n"
          ]
        },
        {
          "output_type": "stream",
          "name": "stderr",
          "text": [
            "\r 12%|█▏        | 23/200 [02:47<01:57,  1.51it/s]"
          ]
        },
        {
          "output_type": "stream",
          "name": "stdout",
          "text": [
            "Downloaded audio to ./downloaded_audios/-hSMzrWZCAE.wav.Downloaded audio to ./downloaded_audios/-CUp_Tmg2Y0.wav.\n",
            "Downloaded audio to ./downloaded_audios/-XkbErI_7EU.wav.\n"
          ]
        },
        {
          "output_type": "stream",
          "name": "stderr",
          "text": [
            " 12%|█▎        | 25/200 [02:48<01:25,  2.06it/s]"
          ]
        },
        {
          "output_type": "stream",
          "name": "stdout",
          "text": [
            "\n"
          ]
        },
        {
          "output_type": "stream",
          "name": "stderr",
          "text": [
            "\r 13%|█▎        | 26/200 [02:48<01:09,  2.52it/s]"
          ]
        },
        {
          "output_type": "stream",
          "name": "stdout",
          "text": [
            "Downloaded audio to ./downloaded_audios/-YIT4HBM__g.wav.Downloaded audio to ./downloaded_audios/-M6K3QoHh40.wav.Downloaded audio to ./downloaded_audios/-Gf4Ihv1zwc.wav.Downloaded audio to ./downloaded_audios/-8C-gydUbR8.wav.\n",
            "\n",
            "Downloaded audio to ./downloaded_audios/-5f6hjZf9Yw.wav.Downloaded audio to ./downloaded_audios/-Umconw-CRE.wav."
          ]
        },
        {
          "output_type": "stream",
          "name": "stderr",
          "text": [
            "\r 14%|█▎        | 27/200 [02:50<01:59,  1.44it/s]"
          ]
        },
        {
          "output_type": "stream",
          "name": "stdout",
          "text": [
            "\n"
          ]
        },
        {
          "output_type": "stream",
          "name": "stderr",
          "text": [
            "\r 14%|█▍        | 28/200 [02:50<01:35,  1.81it/s]"
          ]
        },
        {
          "output_type": "stream",
          "name": "stdout",
          "text": [
            "\n",
            "\n"
          ]
        },
        {
          "output_type": "stream",
          "name": "stderr",
          "text": [
            "\r 14%|█▍        | 29/200 [02:50<01:16,  2.24it/s]"
          ]
        },
        {
          "output_type": "stream",
          "name": "stdout",
          "text": [
            "\n",
            "Downloaded audio to ./downloaded_audios/-Bu7YaslRW0.wav.Downloaded audio to ./downloaded_audios/-6pcgdLfb_A.wav."
          ]
        },
        {
          "output_type": "stream",
          "name": "stderr",
          "text": [
            "\r 16%|█▋        | 33/200 [02:51<00:49,  3.39it/s]"
          ]
        },
        {
          "output_type": "stream",
          "name": "stdout",
          "text": [
            "Downloaded audio to ./downloaded_audios/-IZbvEO9wzU.wav.\n"
          ]
        },
        {
          "output_type": "stream",
          "name": "stderr",
          "text": [
            "\r 17%|█▋        | 34/200 [02:51<00:44,  3.73it/s]"
          ]
        },
        {
          "output_type": "stream",
          "name": "stdout",
          "text": [
            "\n",
            "\n"
          ]
        },
        {
          "output_type": "stream",
          "name": "stderr",
          "text": [
            "\r 18%|█▊        | 36/200 [02:51<00:32,  4.97it/s]"
          ]
        },
        {
          "output_type": "stream",
          "name": "stdout",
          "text": [
            "Downloaded audio to ./downloaded_audios/-RYtUAsNhF0.wav.Downloaded audio to ./downloaded_audios/-VclCul6FrI.wav."
          ]
        },
        {
          "output_type": "stream",
          "name": "stderr",
          "text": [
            "\r 18%|█▊        | 37/200 [02:51<00:33,  4.82it/s]"
          ]
        },
        {
          "output_type": "stream",
          "name": "stdout",
          "text": [
            "\n",
            "Downloaded audio to ./downloaded_audios/-7B9tPuIP-w.wav."
          ]
        },
        {
          "output_type": "stream",
          "name": "stderr",
          "text": [
            "\r 19%|█▉        | 38/200 [02:52<00:33,  4.79it/s]"
          ]
        },
        {
          "output_type": "stream",
          "name": "stdout",
          "text": [
            "\n"
          ]
        },
        {
          "output_type": "stream",
          "name": "stderr",
          "text": [
            "\r 20%|█▉        | 39/200 [02:52<00:34,  4.69it/s]"
          ]
        },
        {
          "output_type": "stream",
          "name": "stdout",
          "text": [
            "Downloaded audio to ./downloaded_audios/-5FoeegAgvU.wav."
          ]
        },
        {
          "output_type": "stream",
          "name": "stderr",
          "text": [
            "\r 20%|██        | 40/200 [02:52<00:38,  4.16it/s]"
          ]
        },
        {
          "output_type": "stream",
          "name": "stdout",
          "text": [
            "\n"
          ]
        },
        {
          "output_type": "stream",
          "name": "stderr",
          "text": [
            "\r 20%|██        | 41/200 [02:52<00:32,  4.88it/s]"
          ]
        },
        {
          "output_type": "stream",
          "name": "stdout",
          "text": [
            "Downloaded audio to ./downloaded_audios/-cLzki-B06o.wav."
          ]
        },
        {
          "output_type": "stream",
          "name": "stderr",
          "text": [
            "\r 21%|██        | 42/200 [02:52<00:35,  4.43it/s]"
          ]
        },
        {
          "output_type": "stream",
          "name": "stdout",
          "text": [
            "\n",
            "Downloaded audio to ./downloaded_audios/-r2-9oyIzkQ.wav."
          ]
        },
        {
          "output_type": "stream",
          "name": "stderr",
          "text": [
            "\r 24%|██▎       | 47/200 [02:53<00:16,  9.39it/s]"
          ]
        },
        {
          "output_type": "stream",
          "name": "stdout",
          "text": [
            "\n",
            "Downloaded audio to ./downloaded_audios/-XN0NtrnfMY.wav.\n"
          ]
        },
        {
          "output_type": "stream",
          "name": "stderr",
          "text": [
            "\r 24%|██▍       | 49/200 [02:53<00:18,  8.29it/s]"
          ]
        },
        {
          "output_type": "stream",
          "name": "stdout",
          "text": [
            "Downloaded audio to ./downloaded_audios/-5xOcMJpTUk.wav.Downloaded audio to ./downloaded_audios/-7wUQP6G5EQ.wav.\n"
          ]
        },
        {
          "output_type": "stream",
          "name": "stderr",
          "text": [
            "\r 26%|██▋       | 53/200 [02:53<00:16,  9.15it/s]"
          ]
        },
        {
          "output_type": "stream",
          "name": "stdout",
          "text": [
            "\n"
          ]
        },
        {
          "output_type": "stream",
          "name": "stderr",
          "text": [
            "\r 27%|██▋       | 54/200 [02:54<00:16,  8.79it/s]"
          ]
        },
        {
          "output_type": "stream",
          "name": "stdout",
          "text": [
            "\n",
            "Downloaded audio to ./downloaded_audios/-i9gpG3vPwA.wav.Downloaded audio to ./downloaded_audios/-hYRFCQdbLg.wav.\n",
            "\n",
            "Downloaded audio to ./downloaded_audios/-m9pH0WXQto.wav.Downloaded audio to ./downloaded_audios/-JvB5AL59fM.wav.\n"
          ]
        },
        {
          "output_type": "stream",
          "name": "stderr",
          "text": [
            "\r 28%|██▊       | 55/200 [02:54<00:28,  5.13it/s]"
          ]
        },
        {
          "output_type": "stream",
          "name": "stdout",
          "text": [
            "Downloaded audio to ./downloaded_audios/-1LrH01Ei1w.wav."
          ]
        },
        {
          "output_type": "stream",
          "name": "stderr",
          "text": [
            "\r 28%|██▊       | 56/200 [02:54<00:30,  4.65it/s]"
          ]
        },
        {
          "output_type": "stream",
          "name": "stdout",
          "text": [
            "Downloaded audio to ./downloaded_audios/-0vPFx-wRRI.wav.\n",
            "Downloaded audio to ./downloaded_audios/-M-6VinyMiY.wav.\n",
            "Downloaded audio to ./downloaded_audios/-sRFfU8k0Zs.wav.\n",
            "\n",
            "\n"
          ]
        },
        {
          "output_type": "stream",
          "name": "stderr",
          "text": [
            "\r 28%|██▊       | 57/200 [02:55<00:47,  2.99it/s]"
          ]
        },
        {
          "output_type": "stream",
          "name": "stdout",
          "text": [
            "Downloaded audio to ./downloaded_audios/-T4GeTHKtJQ.wav.Downloaded audio to ./downloaded_audios/-r7iz-9v9bA.wav.\n",
            "\n",
            "Downloaded audio to ./downloaded_audios/-i9uQMysy_A.wav.\n",
            "Downloaded audio to ./downloaded_audios/-FlvaZQOr2I.wav."
          ]
        },
        {
          "output_type": "stream",
          "name": "stderr",
          "text": [
            "\r 30%|██▉       | 59/200 [02:56<00:50,  2.80it/s]"
          ]
        },
        {
          "output_type": "stream",
          "name": "stdout",
          "text": [
            "\n",
            "Downloaded audio to ./downloaded_audios/-8cgbhIR_pw.wav.Downloaded audio to ./downloaded_audios/-kpR93atgd8.wav.\n"
          ]
        },
        {
          "output_type": "stream",
          "name": "stderr",
          "text": [
            "\r 32%|███▏      | 63/200 [02:56<00:30,  4.51it/s]"
          ]
        },
        {
          "output_type": "stream",
          "name": "stdout",
          "text": [
            "\n",
            "Downloaded audio to ./downloaded_audios/-OAyRsvFGgc.wav.Downloaded audio to ./downloaded_audios/-DeAdhYKbGE.wav.Downloaded audio to ./downloaded_audios/-Vo4CAMX26U.wav.Downloaded audio to ./downloaded_audios/-qcTD2o6I9s.wav.\n",
            "\n",
            "\n",
            "\n",
            "Downloaded audio to ./downloaded_audios/-bgHkxwoliw.wav.\n",
            "Downloaded audio to ./downloaded_audios/-_OzT7Xyvok.wav."
          ]
        },
        {
          "output_type": "stream",
          "name": "stderr",
          "text": [
            "\r 32%|███▎      | 65/200 [02:57<00:38,  3.51it/s]"
          ]
        },
        {
          "output_type": "stream",
          "name": "stdout",
          "text": [
            "\n",
            "Downloaded audio to ./downloaded_audios/-YATTKBtmRA.wav.\n",
            "Downloaded audio to ./downloaded_audios/-EVRXQpt1-8.wav.Downloaded audio to ./downloaded_audios/-R0267o4lLk.wav.Downloaded audio to ./downloaded_audios/-cQ-jUTEgck.wav."
          ]
        },
        {
          "output_type": "stream",
          "name": "stderr",
          "text": [
            "\r 33%|███▎      | 66/200 [02:58<00:49,  2.71it/s]"
          ]
        },
        {
          "output_type": "stream",
          "name": "stdout",
          "text": [
            "\n",
            "\n"
          ]
        },
        {
          "output_type": "stream",
          "name": "stderr",
          "text": [
            "\r 34%|███▍      | 68/200 [02:58<00:39,  3.37it/s]"
          ]
        },
        {
          "output_type": "stream",
          "name": "stdout",
          "text": [
            "\n",
            "Downloaded audio to ./downloaded_audios/-tmY1GEH3_Y.wav."
          ]
        },
        {
          "output_type": "stream",
          "name": "stderr",
          "text": [
            "\r 34%|███▍      | 69/200 [02:59<00:38,  3.43it/s]"
          ]
        },
        {
          "output_type": "stream",
          "name": "stdout",
          "text": [
            "\n",
            "Downloaded audio to ./downloaded_audios/-v5hgCh3M2w.wav.Downloaded audio to ./downloaded_audios/-FFx68qSAuY.wav.Downloaded audio to ./downloaded_audios/-QuWdnmn-kM.wav.\n"
          ]
        },
        {
          "output_type": "stream",
          "name": "stderr",
          "text": [
            "\r 35%|███▌      | 70/200 [02:59<00:42,  3.08it/s]"
          ]
        },
        {
          "output_type": "stream",
          "name": "stdout",
          "text": [
            "\n"
          ]
        },
        {
          "output_type": "stream",
          "name": "stderr",
          "text": [
            "\r 36%|███▌      | 71/200 [02:59<00:37,  3.45it/s]"
          ]
        },
        {
          "output_type": "stream",
          "name": "stdout",
          "text": [
            "\n"
          ]
        },
        {
          "output_type": "stream",
          "name": "stderr",
          "text": [
            "\r 36%|███▌      | 72/200 [02:59<00:32,  3.94it/s]"
          ]
        },
        {
          "output_type": "stream",
          "name": "stdout",
          "text": [
            "Downloaded audio to ./downloaded_audios/-BIMKnb3tlo.wav.\n"
          ]
        },
        {
          "output_type": "stream",
          "name": "stderr",
          "text": [
            " 37%|███▋      | 74/200 [03:02<01:30,  1.39it/s]"
          ]
        },
        {
          "output_type": "stream",
          "name": "stdout",
          "text": [
            "Downloaded audio to ./downloaded_audios/-fxh7jAJR8U.wav.\n",
            "Downloaded audio to ./downloaded_audios/-O9mnfC61Ac.wav.\n"
          ]
        },
        {
          "output_type": "stream",
          "name": "stderr",
          "text": [
            "\r 38%|███▊      | 75/200 [03:04<02:02,  1.02it/s]"
          ]
        },
        {
          "output_type": "stream",
          "name": "stdout",
          "text": [
            "Downloaded audio to ./downloaded_audios/-4NLarMj4xU.wav.\n"
          ]
        },
        {
          "output_type": "stream",
          "name": "stderr",
          "text": [
            "\r 38%|███▊      | 76/200 [03:04<01:46,  1.17it/s]"
          ]
        },
        {
          "output_type": "stream",
          "name": "stdout",
          "text": [
            "Downloaded audio to ./downloaded_audios/-NmjCyqIavI.wav.\n"
          ]
        },
        {
          "output_type": "stream",
          "name": "stderr",
          "text": [
            "\r 38%|███▊      | 77/200 [03:06<01:58,  1.04it/s]"
          ]
        },
        {
          "output_type": "stream",
          "name": "stdout",
          "text": [
            "Downloaded audio to ./downloaded_audios/-6QGvxvaTkI.wav.\n"
          ]
        },
        {
          "output_type": "stream",
          "name": "stderr",
          "text": [
            "\r 39%|███▉      | 78/200 [03:06<01:38,  1.24it/s]"
          ]
        },
        {
          "output_type": "stream",
          "name": "stdout",
          "text": [
            "Downloaded audio to ./downloaded_audios/-eDAoheZrY8.wav.Downloaded audio to ./downloaded_audios/-Dtir74TiUM.wav.\n"
          ]
        },
        {
          "output_type": "stream",
          "name": "stderr",
          "text": [
            "\r 40%|███▉      | 79/200 [03:07<01:32,  1.31it/s]"
          ]
        },
        {
          "output_type": "stream",
          "name": "stdout",
          "text": [
            "\n",
            "Downloaded audio to ./downloaded_audios/-lPXTBXa0tE.wav.\n"
          ]
        },
        {
          "output_type": "stream",
          "name": "stderr",
          "text": [
            "\r 40%|████      | 81/200 [03:08<01:27,  1.36it/s]"
          ]
        },
        {
          "output_type": "stream",
          "name": "stdout",
          "text": [
            "Downloaded audio to ./downloaded_audios/-o0ZtQIkM60.wav.Downloaded audio to ./downloaded_audios/-jpbCWcz2pk.wav.\n"
          ]
        },
        {
          "output_type": "stream",
          "name": "stderr",
          "text": [
            "\r 41%|████      | 82/200 [03:09<01:24,  1.39it/s]"
          ]
        },
        {
          "output_type": "stream",
          "name": "stdout",
          "text": [
            "\n"
          ]
        },
        {
          "output_type": "stream",
          "name": "stderr",
          "text": [
            "\r 42%|████▏     | 83/200 [03:09<01:07,  1.74it/s]"
          ]
        },
        {
          "output_type": "stream",
          "name": "stdout",
          "text": [
            "Downloaded audio to ./downloaded_audios/-oP-XX28B0s.wav.\n"
          ]
        },
        {
          "output_type": "stream",
          "name": "stderr",
          "text": [
            "\r 42%|████▏     | 84/200 [03:10<01:18,  1.47it/s]"
          ]
        },
        {
          "output_type": "stream",
          "name": "stdout",
          "text": [
            "Downloaded audio to ./downloaded_audios/-SD43H5B5hE.wav.Downloaded audio to ./downloaded_audios/-VI2IRq17rs.wav.\n",
            "\n"
          ]
        },
        {
          "output_type": "stream",
          "name": "stderr",
          "text": [
            "\r 42%|████▎     | 85/200 [03:10<01:02,  1.83it/s]"
          ]
        },
        {
          "output_type": "stream",
          "name": "stdout",
          "text": [
            "Downloaded audio to ./downloaded_audios/-f1DNyngKVY.wav.\n"
          ]
        },
        {
          "output_type": "stream",
          "name": "stderr",
          "text": [
            "\r 44%|████▎     | 87/200 [03:11<00:48,  2.32it/s]"
          ]
        },
        {
          "output_type": "stream",
          "name": "stdout",
          "text": [
            "Downloaded audio to ./downloaded_audios/-nlkWWphiaM.wav.\n"
          ]
        },
        {
          "output_type": "stream",
          "name": "stderr",
          "text": [
            "\r 44%|████▍     | 88/200 [03:11<00:57,  1.95it/s]"
          ]
        },
        {
          "output_type": "stream",
          "name": "stdout",
          "text": [
            "Downloaded audio to ./downloaded_audios/-W5c6CeUMPE.wav.\n"
          ]
        },
        {
          "output_type": "stream",
          "name": "stderr",
          "text": [
            "\r 44%|████▍     | 89/200 [03:12<01:02,  1.77it/s]"
          ]
        },
        {
          "output_type": "stream",
          "name": "stdout",
          "text": [
            "Downloaded audio to ./downloaded_audios/-0Gj8-vB1q4.wav.\n"
          ]
        },
        {
          "output_type": "stream",
          "name": "stderr",
          "text": [
            "\r 45%|████▌     | 90/200 [03:13<00:59,  1.86it/s]"
          ]
        },
        {
          "output_type": "stream",
          "name": "stdout",
          "text": [
            "Downloaded audio to ./downloaded_audios/-UuEBhule84.wav.\n"
          ]
        },
        {
          "output_type": "stream",
          "name": "stderr",
          "text": [
            "\r 46%|████▌     | 91/200 [03:14<01:25,  1.27it/s]"
          ]
        },
        {
          "output_type": "stream",
          "name": "stdout",
          "text": [
            "Downloaded audio to ./downloaded_audios/-Q9MTRXS4bE.wav.\n"
          ]
        },
        {
          "output_type": "stream",
          "name": "stderr",
          "text": [
            "\r 46%|████▌     | 92/200 [03:15<01:20,  1.34it/s]"
          ]
        },
        {
          "output_type": "stream",
          "name": "stdout",
          "text": [
            "Downloaded audio to ./downloaded_audios/-BHPu-dPmWQ.wav.\n"
          ]
        },
        {
          "output_type": "stream",
          "name": "stderr",
          "text": [
            "\r 46%|████▋     | 93/200 [03:16<01:51,  1.05s/it]"
          ]
        },
        {
          "output_type": "stream",
          "name": "stdout",
          "text": [
            "Downloaded audio to ./downloaded_audios/-rAhS48FkYw.wav.\n"
          ]
        },
        {
          "output_type": "stream",
          "name": "stderr",
          "text": [
            "\r 47%|████▋     | 94/200 [03:18<02:13,  1.26s/it]"
          ]
        },
        {
          "output_type": "stream",
          "name": "stdout",
          "text": [
            "Downloaded audio to ./downloaded_audios/-0xzrMun0Rs.wav.\n"
          ]
        },
        {
          "output_type": "stream",
          "name": "stderr",
          "text": [
            "\r 48%|████▊     | 95/200 [03:19<01:50,  1.05s/it]"
          ]
        },
        {
          "output_type": "stream",
          "name": "stdout",
          "text": [
            "Downloaded audio to ./downloaded_audios/-uaTK8sa5Ms.wav.Downloaded audio to ./downloaded_audios/-0SdAVK79lg.wav.\n"
          ]
        },
        {
          "output_type": "stream",
          "name": "stderr",
          "text": [
            "\r 48%|████▊     | 96/200 [03:27<05:39,  3.26s/it]"
          ]
        },
        {
          "output_type": "stream",
          "name": "stdout",
          "text": [
            "\n"
          ]
        },
        {
          "output_type": "stream",
          "name": "stderr",
          "text": [
            "\r 48%|████▊     | 97/200 [03:28<04:01,  2.34s/it]"
          ]
        },
        {
          "output_type": "stream",
          "name": "stdout",
          "text": [
            "Downloaded audio to ./downloaded_audios/-taO6N-rxv4.wav.\n"
          ]
        },
        {
          "output_type": "stream",
          "name": "stderr",
          "text": [
            "\r 49%|████▉     | 98/200 [03:30<03:59,  2.34s/it]"
          ]
        },
        {
          "output_type": "stream",
          "name": "stdout",
          "text": [
            "Attempt 1 failed for 0J_2K1Gvruk: Command 'yt-dlp --quiet --no-warnings -x --audio-format wav -f bestaudio -o \"./downloaded_audios/0J_2K1Gvruk.wav\" --download-sections \"*30-40\" https://www.youtube.com/watch?v=0J_2K1Gvruk' returned non-zero exit status 1.\n",
            "Failed to download audio for 0J_2K1Gvruk after 5 attempts.\n",
            "Failed to download audio for 0J_2K1Gvruk.\n"
          ]
        },
        {
          "output_type": "stream",
          "name": "stderr",
          "text": [
            "\r 50%|████▉     | 99/200 [04:36<35:56, 21.35s/it]"
          ]
        },
        {
          "output_type": "stream",
          "name": "stdout",
          "text": [
            "Downloaded audio to ./downloaded_audios/-U16iKiXGuY.wav.\n"
          ]
        },
        {
          "output_type": "stream",
          "name": "stderr",
          "text": [
            "\r 50%|█████     | 100/200 [04:37<25:16, 15.16s/it]"
          ]
        },
        {
          "output_type": "stream",
          "name": "stdout",
          "text": [
            "Downloaded audio to ./downloaded_audios/-w12aSkQ9No.wav.\n"
          ]
        },
        {
          "output_type": "stream",
          "name": "stderr",
          "text": [
            "\r 50%|█████     | 101/200 [04:51<24:37, 14.92s/it]"
          ]
        },
        {
          "output_type": "stream",
          "name": "stdout",
          "text": [
            "Attempt 1 failed for 0fqtA_ZBn_8: Command 'yt-dlp --quiet --no-warnings -x --audio-format wav -f bestaudio -o \"./downloaded_audios/0fqtA_ZBn_8.wav\" --download-sections \"*30-40\" https://www.youtube.com/watch?v=0fqtA_ZBn_8' returned non-zero exit status 1.\n",
            "Failed to download audio for 0fqtA_ZBn_8 after 5 attempts.\n",
            "Failed to download audio for 0fqtA_ZBn_8.\n"
          ]
        },
        {
          "output_type": "stream",
          "name": "stderr",
          "text": [
            "\r 51%|█████     | 102/200 [05:09<25:51, 15.83s/it]"
          ]
        },
        {
          "output_type": "stream",
          "name": "stdout",
          "text": [
            "Downloaded audio to ./downloaded_audios/-FEPOSP7ay0.wav.\n"
          ]
        },
        {
          "output_type": "stream",
          "name": "stderr",
          "text": [
            "\r 52%|█████▏    | 103/200 [05:16<21:16, 13.16s/it]"
          ]
        },
        {
          "output_type": "stream",
          "name": "stdout",
          "text": [
            "Downloaded audio to ./downloaded_audios/0-7PyzhzuYQ.wav.\n"
          ]
        },
        {
          "output_type": "stream",
          "name": "stderr",
          "text": [
            "\r 52%|█████▏    | 104/200 [05:49<30:27, 19.04s/it]"
          ]
        },
        {
          "output_type": "stream",
          "name": "stdout",
          "text": [
            "Downloaded audio to ./downloaded_audios/07-vpXo91XM.wav.\n"
          ]
        },
        {
          "output_type": "stream",
          "name": "stderr",
          "text": [
            "\r 52%|█████▎    | 105/200 [05:50<21:53, 13.83s/it]"
          ]
        },
        {
          "output_type": "stream",
          "name": "stdout",
          "text": [
            "Downloaded audio to ./downloaded_audios/03frQGyrgQ4.wav.\n"
          ]
        },
        {
          "output_type": "stream",
          "name": "stderr",
          "text": [
            "\r 53%|█████▎    | 106/200 [05:54<16:46, 10.71s/it]"
          ]
        },
        {
          "output_type": "stream",
          "name": "stdout",
          "text": [
            "Downloaded audio to ./downloaded_audios/-wymN80CiYU.wav.\n"
          ]
        },
        {
          "output_type": "stream",
          "name": "stderr",
          "text": [
            "\r 54%|█████▎    | 107/200 [05:58<13:31,  8.72s/it]"
          ]
        },
        {
          "output_type": "stream",
          "name": "stdout",
          "text": [
            "Downloaded audio to ./downloaded_audios/0DYH0sqDXB8.wav.\n"
          ]
        },
        {
          "output_type": "stream",
          "name": "stderr",
          "text": [
            "\r 54%|█████▍    | 108/200 [05:58<09:38,  6.29s/it]"
          ]
        },
        {
          "output_type": "stream",
          "name": "stdout",
          "text": [
            "Downloaded audio to ./downloaded_audios/0298WjE3_tk.wav.\n"
          ]
        },
        {
          "output_type": "stream",
          "name": "stderr",
          "text": [
            "\r 55%|█████▍    | 109/200 [06:00<07:15,  4.79s/it]"
          ]
        },
        {
          "output_type": "stream",
          "name": "stdout",
          "text": [
            "Downloaded audio to ./downloaded_audios/01hjVJN9xCg.wav.Downloaded audio to ./downloaded_audios/-w4HLksto_k.wav.Downloaded audio to ./downloaded_audios/0BFauf6TGGU.wav.\n"
          ]
        },
        {
          "output_type": "stream",
          "name": "stderr",
          "text": [
            "\r 55%|█████▌    | 110/200 [06:00<05:15,  3.51s/it]"
          ]
        },
        {
          "output_type": "stream",
          "name": "stdout",
          "text": [
            "\n",
            "\n",
            "Downloaded audio to ./downloaded_audios/-w8maIWtnUk.wav."
          ]
        },
        {
          "output_type": "stream",
          "name": "stderr",
          "text": [
            "\r 56%|█████▌    | 112/200 [06:00<02:50,  1.93s/it]"
          ]
        },
        {
          "output_type": "stream",
          "name": "stdout",
          "text": [
            "\n"
          ]
        },
        {
          "output_type": "stream",
          "name": "stderr",
          "text": [
            "\r 56%|█████▋    | 113/200 [06:01<02:11,  1.51s/it]"
          ]
        },
        {
          "output_type": "stream",
          "name": "stdout",
          "text": [
            "Downloaded audio to ./downloaded_audios/07xGXxIHOL4.wav.\n"
          ]
        },
        {
          "output_type": "stream",
          "name": "stderr",
          "text": [
            "\r 57%|█████▋    | 114/200 [06:01<01:44,  1.21s/it]"
          ]
        },
        {
          "output_type": "stream",
          "name": "stdout",
          "text": [
            "Downloaded audio to ./downloaded_audios/08mf5GxT820.wav.\n"
          ]
        },
        {
          "output_type": "stream",
          "name": "stderr",
          "text": [
            "\r 57%|█████▊    | 115/200 [06:02<01:42,  1.21s/it]"
          ]
        },
        {
          "output_type": "stream",
          "name": "stdout",
          "text": [
            "Downloaded audio to ./downloaded_audios/04NjXsLyCl4.wav.Downloaded audio to ./downloaded_audios/02Qntw26enM.wav.\n"
          ]
        },
        {
          "output_type": "stream",
          "name": "stderr",
          "text": [
            "\r 58%|█████▊    | 116/200 [06:02<01:18,  1.07it/s]"
          ]
        },
        {
          "output_type": "stream",
          "name": "stdout",
          "text": [
            "\n"
          ]
        },
        {
          "output_type": "stream",
          "name": "stderr",
          "text": [
            "\r 58%|█████▊    | 117/200 [06:03<00:59,  1.39it/s]"
          ]
        },
        {
          "output_type": "stream",
          "name": "stdout",
          "text": [
            "Downloaded audio to ./downloaded_audios/0EOQco76eXQ.wav.\n"
          ]
        },
        {
          "output_type": "stream",
          "name": "stderr",
          "text": [
            "\r 59%|█████▉    | 118/200 [06:03<00:47,  1.73it/s]"
          ]
        },
        {
          "output_type": "stream",
          "name": "stdout",
          "text": [
            "Downloaded audio to ./downloaded_audios/0S5zWt91Bwo.wav.Downloaded audio to ./downloaded_audios/-zOybsEdM5E.wav.\n"
          ]
        },
        {
          "output_type": "stream",
          "name": "stderr",
          "text": [
            "\r 60%|█████▉    | 119/200 [06:03<00:45,  1.79it/s]"
          ]
        },
        {
          "output_type": "stream",
          "name": "stdout",
          "text": [
            "\n",
            "Downloaded audio to ./downloaded_audios/-zA6LL78KYU.wav.\n",
            "Downloaded audio to ./downloaded_audios/01PzcPKT3_E.wav."
          ]
        },
        {
          "output_type": "stream",
          "name": "stderr",
          "text": [
            "\r 60%|██████    | 121/200 [06:04<00:41,  1.90it/s]"
          ]
        },
        {
          "output_type": "stream",
          "name": "stdout",
          "text": [
            "\n"
          ]
        },
        {
          "output_type": "stream",
          "name": "stderr",
          "text": [
            "\r 61%|██████    | 122/200 [06:04<00:34,  2.27it/s]"
          ]
        },
        {
          "output_type": "stream",
          "name": "stdout",
          "text": [
            "Downloaded audio to ./downloaded_audios/05JAmKFVy44.wav.\n"
          ]
        },
        {
          "output_type": "stream",
          "name": "stderr",
          "text": [
            "\r 62%|██████▏   | 123/200 [06:05<00:38,  1.97it/s]"
          ]
        },
        {
          "output_type": "stream",
          "name": "stdout",
          "text": [
            "Downloaded audio to ./downloaded_audios/03z0rpIkm5g.wav.\n"
          ]
        },
        {
          "output_type": "stream",
          "name": "stderr",
          "text": [
            "\r 62%|██████▏   | 124/200 [06:06<00:40,  1.87it/s]"
          ]
        },
        {
          "output_type": "stream",
          "name": "stdout",
          "text": [
            "Downloaded audio to ./downloaded_audios/07FxCXxknY4.wav.\n"
          ]
        },
        {
          "output_type": "stream",
          "name": "stderr",
          "text": [
            "\r 62%|██████▎   | 125/200 [06:07<00:53,  1.41it/s]"
          ]
        },
        {
          "output_type": "stream",
          "name": "stdout",
          "text": [
            "Downloaded audio to ./downloaded_audios/0HXYdGGKV2k.wav.\n"
          ]
        },
        {
          "output_type": "stream",
          "name": "stderr",
          "text": [
            "\r 63%|██████▎   | 126/200 [06:07<00:46,  1.59it/s]"
          ]
        },
        {
          "output_type": "stream",
          "name": "stdout",
          "text": [
            "Downloaded audio to ./downloaded_audios/06Brdf83RZE.wav.\n"
          ]
        },
        {
          "output_type": "stream",
          "name": "stderr",
          "text": [
            "\r 64%|██████▎   | 127/200 [06:09<01:02,  1.16it/s]"
          ]
        },
        {
          "output_type": "stream",
          "name": "stdout",
          "text": [
            "Downloaded audio to ./downloaded_audios/0L2ndtt60Q8.wav.Downloaded audio to ./downloaded_audios/0TV9zvfwFhs.wav.\n"
          ]
        },
        {
          "output_type": "stream",
          "name": "stderr",
          "text": [
            "\r 64%|██████▍   | 128/200 [06:14<02:33,  2.14s/it]"
          ]
        },
        {
          "output_type": "stream",
          "name": "stdout",
          "text": [
            "\n"
          ]
        },
        {
          "output_type": "stream",
          "name": "stderr",
          "text": [
            "\r 64%|██████▍   | 129/200 [06:14<01:50,  1.56s/it]"
          ]
        },
        {
          "output_type": "stream",
          "name": "stdout",
          "text": [
            "Downloaded audio to ./downloaded_audios/0NZY0GHQBP0.wav.Downloaded audio to ./downloaded_audios/07-3grCQ8EU.wav.\n"
          ]
        },
        {
          "output_type": "stream",
          "name": "stderr",
          "text": [
            "\r 65%|██████▌   | 130/200 [06:15<01:27,  1.25s/it]"
          ]
        },
        {
          "output_type": "stream",
          "name": "stdout",
          "text": [
            "\n"
          ]
        },
        {
          "output_type": "stream",
          "name": "stderr",
          "text": [
            "\r 66%|██████▌   | 131/200 [06:15<01:05,  1.06it/s]"
          ]
        },
        {
          "output_type": "stream",
          "name": "stdout",
          "text": [
            "Downloaded audio to ./downloaded_audios/0ONdm4sW47c.wav.Downloaded audio to ./downloaded_audios/0JbGxIR8JTk.wav.\n",
            "\n"
          ]
        },
        {
          "output_type": "stream",
          "name": "stderr",
          "text": [
            "\r 66%|██████▌   | 132/200 [06:17<01:18,  1.15s/it]"
          ]
        },
        {
          "output_type": "stream",
          "name": "stdout",
          "text": [
            "Downloaded audio to ./downloaded_audios/-wVWjl9Kq6U.wav.\n"
          ]
        },
        {
          "output_type": "stream",
          "name": "stderr",
          "text": [
            "\r 67%|██████▋   | 134/200 [06:17<00:47,  1.40it/s]"
          ]
        },
        {
          "output_type": "stream",
          "name": "stdout",
          "text": [
            "Downloaded audio to ./downloaded_audios/0KCVgexi4yU.wav.\n"
          ]
        },
        {
          "output_type": "stream",
          "name": "stderr",
          "text": [
            "\r 68%|██████▊   | 135/200 [06:17<00:39,  1.64it/s]"
          ]
        },
        {
          "output_type": "stream",
          "name": "stdout",
          "text": [
            "Downloaded audio to ./downloaded_audios/0ADP-O_V3vA.wav.\n"
          ]
        },
        {
          "output_type": "stream",
          "name": "stderr",
          "text": [
            "\r 68%|██████▊   | 136/200 [06:18<00:40,  1.60it/s]"
          ]
        },
        {
          "output_type": "stream",
          "name": "stdout",
          "text": [
            "Downloaded audio to ./downloaded_audios/0OY8XXZ98rw.wav.\n"
          ]
        },
        {
          "output_type": "stream",
          "name": "stderr",
          "text": [
            "\r 68%|██████▊   | 137/200 [06:18<00:32,  1.93it/s]"
          ]
        },
        {
          "output_type": "stream",
          "name": "stdout",
          "text": [
            "Downloaded audio to ./downloaded_audios/0AGHo8V8HpM.wav.Downloaded audio to ./downloaded_audios/07mS0mSTDjY.wav.Downloaded audio to ./downloaded_audios/0DizopdPMBw.wav.\n"
          ]
        },
        {
          "output_type": "stream",
          "name": "stderr",
          "text": [
            "\r 69%|██████▉   | 138/200 [06:19<00:33,  1.86it/s]"
          ]
        },
        {
          "output_type": "stream",
          "name": "stdout",
          "text": [
            "\n",
            "\n"
          ]
        },
        {
          "output_type": "stream",
          "name": "stderr",
          "text": [
            "\r 70%|███████   | 140/200 [06:19<00:20,  2.99it/s]"
          ]
        },
        {
          "output_type": "stream",
          "name": "stdout",
          "text": [
            "Downloaded audio to ./downloaded_audios/0NTzOtVmoiU.wav.\n"
          ]
        },
        {
          "output_type": "stream",
          "name": "stderr",
          "text": [
            "\r 70%|███████   | 141/200 [06:19<00:21,  2.76it/s]"
          ]
        },
        {
          "output_type": "stream",
          "name": "stdout",
          "text": [
            "Downloaded audio to ./downloaded_audios/0LE6Ll1rVlg.wav.\n"
          ]
        },
        {
          "output_type": "stream",
          "name": "stderr",
          "text": [
            "\r 71%|███████   | 142/200 [06:20<00:24,  2.35it/s]"
          ]
        },
        {
          "output_type": "stream",
          "name": "stdout",
          "text": [
            "Downloaded audio to ./downloaded_audios/0H3FAoDgzhI.wav.Downloaded audio to ./downloaded_audios/0MzrXd8CUCg.wav.\n"
          ]
        },
        {
          "output_type": "stream",
          "name": "stderr",
          "text": [
            "\r 72%|███████▏  | 143/200 [06:20<00:22,  2.49it/s]"
          ]
        },
        {
          "output_type": "stream",
          "name": "stdout",
          "text": [
            "\n",
            "Downloaded audio to ./downloaded_audios/0PMFAO4TIU4.wav.\n",
            "Downloaded audio to ./downloaded_audios/0EvpBtracsk.wav."
          ]
        },
        {
          "output_type": "stream",
          "name": "stderr",
          "text": [
            "\r 72%|███████▎  | 145/200 [06:21<00:20,  2.73it/s]"
          ]
        },
        {
          "output_type": "stream",
          "name": "stdout",
          "text": [
            "\n"
          ]
        },
        {
          "output_type": "stream",
          "name": "stderr",
          "text": [
            "\r 73%|███████▎  | 146/200 [06:21<00:16,  3.26it/s]"
          ]
        },
        {
          "output_type": "stream",
          "name": "stdout",
          "text": [
            "Downloaded audio to ./downloaded_audios/0OhtODbKajw.wav.Downloaded audio to ./downloaded_audios/0F-Z0zF1504.wav.Downloaded audio to ./downloaded_audios/0J_TdiZ3TKA.wav.\n",
            "\n"
          ]
        },
        {
          "output_type": "stream",
          "name": "stderr",
          "text": [
            "\r 74%|███████▎  | 147/200 [06:21<00:14,  3.57it/s]"
          ]
        },
        {
          "output_type": "stream",
          "name": "stdout",
          "text": [
            "\n",
            "Downloaded audio to ./downloaded_audios/0ISHZQJdeSw.wav.\n",
            "Downloaded audio to ./downloaded_audios/0AhX-ReXovI.wav."
          ]
        },
        {
          "output_type": "stream",
          "name": "stderr",
          "text": [
            "\r 75%|███████▌  | 150/200 [06:22<00:11,  4.30it/s]"
          ]
        },
        {
          "output_type": "stream",
          "name": "stdout",
          "text": [
            "\n"
          ]
        },
        {
          "output_type": "stream",
          "name": "stderr",
          "text": [
            "\r 76%|███████▌  | 151/200 [06:22<00:10,  4.68it/s]"
          ]
        },
        {
          "output_type": "stream",
          "name": "stdout",
          "text": [
            "Downloaded audio to ./downloaded_audios/08u-jdwjM74.wav.Downloaded audio to ./downloaded_audios/0K-zyeLuKho.wav.\n",
            "\n"
          ]
        },
        {
          "output_type": "stream",
          "name": "stderr",
          "text": [
            "\r 76%|███████▌  | 152/200 [06:23<00:15,  3.14it/s]"
          ]
        },
        {
          "output_type": "stream",
          "name": "stdout",
          "text": [
            "Downloaded audio to ./downloaded_audios/0Olm321vgk8.wav.\n"
          ]
        },
        {
          "output_type": "stream",
          "name": "stderr",
          "text": [
            "\r 77%|███████▋  | 154/200 [06:23<00:10,  4.36it/s]"
          ]
        },
        {
          "output_type": "stream",
          "name": "stdout",
          "text": [
            "Downloaded audio to ./downloaded_audios/0L3vcdzQPPU.wav.\n"
          ]
        },
        {
          "output_type": "stream",
          "name": "stderr",
          "text": [
            "\r 78%|███████▊  | 155/200 [06:23<00:13,  3.33it/s]"
          ]
        },
        {
          "output_type": "stream",
          "name": "stdout",
          "text": [
            "Downloaded audio to ./downloaded_audios/0OYlHvyfNk4.wav.\n"
          ]
        },
        {
          "output_type": "stream",
          "name": "stderr",
          "text": [
            "\r 78%|███████▊  | 156/200 [06:23<00:11,  3.86it/s]"
          ]
        },
        {
          "output_type": "stream",
          "name": "stdout",
          "text": [
            "Downloaded audio to ./downloaded_audios/0RpkkfkUBRU.wav.\n"
          ]
        },
        {
          "output_type": "stream",
          "name": "stderr",
          "text": [
            "\r 78%|███████▊  | 157/200 [06:24<00:10,  3.93it/s]"
          ]
        },
        {
          "output_type": "stream",
          "name": "stdout",
          "text": [
            "Downloaded audio to ./downloaded_audios/0QYNC7J05XI.wav.Downloaded audio to ./downloaded_audios/0QAaln-hjPw.wav.\n"
          ]
        },
        {
          "output_type": "stream",
          "name": "stderr",
          "text": [
            "\r 79%|███████▉  | 158/200 [06:24<00:11,  3.81it/s]"
          ]
        },
        {
          "output_type": "stream",
          "name": "stdout",
          "text": [
            "\n",
            "Downloaded audio to ./downloaded_audios/0EzWmAPwoTs.wav.\n"
          ]
        },
        {
          "output_type": "stream",
          "name": "stderr",
          "text": [
            "\r 80%|████████  | 160/200 [06:24<00:07,  5.01it/s]"
          ]
        },
        {
          "output_type": "stream",
          "name": "stdout",
          "text": [
            "Downloaded audio to ./downloaded_audios/0RcMzUdXDRQ.wav.\n",
            "Downloaded audio to ./downloaded_audios/0LLlcPiatiU.wav.\n"
          ]
        },
        {
          "output_type": "stream",
          "name": "stderr",
          "text": [
            "\r 80%|████████  | 161/200 [06:25<00:11,  3.45it/s]"
          ]
        },
        {
          "output_type": "stream",
          "name": "stdout",
          "text": [
            "Downloaded audio to ./downloaded_audios/0Q1JLNfm8oU.wav.Downloaded audio to ./downloaded_audios/0RgGrVklaao.wav.\n"
          ]
        },
        {
          "output_type": "stream",
          "name": "stderr",
          "text": [
            "\r 82%|████████▏ | 163/200 [06:25<00:09,  3.83it/s]"
          ]
        },
        {
          "output_type": "stream",
          "name": "stdout",
          "text": [
            "\n",
            "Downloaded audio to ./downloaded_audios/0RDz0rLakwc.wav.\n"
          ]
        },
        {
          "output_type": "stream",
          "name": "stderr",
          "text": [
            "\r 82%|████████▎ | 165/200 [06:25<00:06,  5.12it/s]"
          ]
        },
        {
          "output_type": "stream",
          "name": "stdout",
          "text": [
            "Downloaded audio to ./downloaded_audios/0Gxn9FtaJFc.wav.\n"
          ]
        },
        {
          "output_type": "stream",
          "name": "stderr",
          "text": [
            "\r 83%|████████▎ | 166/200 [06:26<00:06,  5.34it/s]"
          ]
        },
        {
          "output_type": "stream",
          "name": "stdout",
          "text": [
            "Downloaded audio to ./downloaded_audios/06IU9WsEp3s.wav.\n"
          ]
        },
        {
          "output_type": "stream",
          "name": "stderr",
          "text": [
            "\r 84%|████████▎ | 167/200 [06:26<00:05,  5.70it/s]"
          ]
        },
        {
          "output_type": "stream",
          "name": "stdout",
          "text": [
            "Downloaded audio to ./downloaded_audios/00M9FhCet6s.wav.\n"
          ]
        },
        {
          "output_type": "stream",
          "name": "stderr",
          "text": [
            "\r 84%|████████▍ | 168/200 [06:26<00:07,  4.30it/s]"
          ]
        },
        {
          "output_type": "stream",
          "name": "stdout",
          "text": [
            "Downloaded audio to ./downloaded_audios/0Wdh45yt7tY.wav.Downloaded audio to ./downloaded_audios/05OJDYeHLMc.wav.\n"
          ]
        },
        {
          "output_type": "stream",
          "name": "stderr",
          "text": [
            "\r 84%|████████▍ | 169/200 [06:27<00:09,  3.23it/s]"
          ]
        },
        {
          "output_type": "stream",
          "name": "stdout",
          "text": [
            "\n",
            "Downloaded audio to ./downloaded_audios/0VsjSa1X7iA.wav.\n"
          ]
        },
        {
          "output_type": "stream",
          "name": "stderr",
          "text": [
            "\r 86%|████████▌ | 171/200 [06:27<00:08,  3.58it/s]"
          ]
        },
        {
          "output_type": "stream",
          "name": "stdout",
          "text": [
            "Downloaded audio to ./downloaded_audios/09lQmg2wvsY.wav.\n"
          ]
        },
        {
          "output_type": "stream",
          "name": "stderr",
          "text": [
            "\r 86%|████████▌ | 172/200 [06:28<00:09,  2.96it/s]"
          ]
        },
        {
          "output_type": "stream",
          "name": "stdout",
          "text": [
            "Downloaded audio to ./downloaded_audios/0_XItMAYkwc.wav.\n"
          ]
        },
        {
          "output_type": "stream",
          "name": "stderr",
          "text": [
            "\r 86%|████████▋ | 173/200 [06:28<00:09,  2.80it/s]"
          ]
        },
        {
          "output_type": "stream",
          "name": "stdout",
          "text": [
            "Downloaded audio to ./downloaded_audios/0ZXWSO_Y2C0.wav.Downloaded audio to ./downloaded_audios/0abzD7hBTRk.wav.\n"
          ]
        },
        {
          "output_type": "stream",
          "name": "stderr",
          "text": [
            "\r 87%|████████▋ | 174/200 [06:28<00:08,  3.14it/s]"
          ]
        },
        {
          "output_type": "stream",
          "name": "stdout",
          "text": [
            "\n",
            "Downloaded audio to ./downloaded_audios/0_hH79HnEdo.wav.\n"
          ]
        },
        {
          "output_type": "stream",
          "name": "stderr",
          "text": [
            "\r 88%|████████▊ | 176/200 [06:29<00:06,  3.91it/s]"
          ]
        },
        {
          "output_type": "stream",
          "name": "stdout",
          "text": [
            "Downloaded audio to ./downloaded_audios/0bvPjMQ_WbE.wav.\n",
            "Downloaded audio to ./downloaded_audios/0a6uLBmqZgA.wav.\n"
          ]
        },
        {
          "output_type": "stream",
          "name": "stderr",
          "text": [
            "\r 89%|████████▉ | 178/200 [06:29<00:04,  5.12it/s]"
          ]
        },
        {
          "output_type": "stream",
          "name": "stdout",
          "text": [
            "Downloaded audio to ./downloaded_audios/0ZNFJz-eZTU.wav.\n"
          ]
        },
        {
          "output_type": "stream",
          "name": "stderr",
          "text": [
            "\r 90%|████████▉ | 179/200 [06:29<00:03,  5.28it/s]"
          ]
        },
        {
          "output_type": "stream",
          "name": "stdout",
          "text": [
            "Downloaded audio to ./downloaded_audios/0VjPCd62oKg.wav.\n"
          ]
        },
        {
          "output_type": "stream",
          "name": "stderr",
          "text": [
            "\r 90%|█████████ | 180/200 [06:29<00:04,  4.45it/s]"
          ]
        },
        {
          "output_type": "stream",
          "name": "stdout",
          "text": [
            "Downloaded audio to ./downloaded_audios/0_QcatLmg7c.wav.\n"
          ]
        },
        {
          "output_type": "stream",
          "name": "stderr",
          "text": [
            "\r 90%|█████████ | 181/200 [06:30<00:05,  3.37it/s]"
          ]
        },
        {
          "output_type": "stream",
          "name": "stdout",
          "text": [
            "Downloaded audio to ./downloaded_audios/0cNYPgD6cEA.wav.Downloaded audio to ./downloaded_audios/0VwX92X3iPc.wav.\n"
          ]
        },
        {
          "output_type": "stream",
          "name": "stderr",
          "text": [
            "\r 91%|█████████ | 182/200 [06:30<00:05,  3.28it/s]"
          ]
        },
        {
          "output_type": "stream",
          "name": "stdout",
          "text": [
            "\n",
            "Downloaded audio to ./downloaded_audios/0SNhAKyXtC8.wav.\n"
          ]
        },
        {
          "output_type": "stream",
          "name": "stderr",
          "text": [
            "\r 92%|█████████▏| 184/200 [06:30<00:03,  4.24it/s]"
          ]
        },
        {
          "output_type": "stream",
          "name": "stdout",
          "text": [
            "Downloaded audio to ./downloaded_audios/0SnjS2w_c80.wav.Downloaded audio to ./downloaded_audios/0dPx94RPy2M.wav.\n"
          ]
        },
        {
          "output_type": "stream",
          "name": "stderr",
          "text": [
            "\r 92%|█████████▎| 185/200 [06:31<00:03,  4.70it/s]"
          ]
        },
        {
          "output_type": "stream",
          "name": "stdout",
          "text": [
            "\n",
            "Downloaded audio to ./downloaded_audios/0M7nETLOsKQ.wav.\n"
          ]
        },
        {
          "output_type": "stream",
          "name": "stderr",
          "text": [
            "\r 94%|█████████▎| 187/200 [06:31<00:03,  3.89it/s]"
          ]
        },
        {
          "output_type": "stream",
          "name": "stdout",
          "text": [
            "Downloaded audio to ./downloaded_audios/0a91szM1Ivw.wav.\n"
          ]
        },
        {
          "output_type": "stream",
          "name": "stderr",
          "text": [
            "\r 94%|█████████▍| 188/200 [06:31<00:02,  4.42it/s]"
          ]
        },
        {
          "output_type": "stream",
          "name": "stdout",
          "text": [
            "Downloaded audio to ./downloaded_audios/0bRUkLsttto.wav.\n"
          ]
        },
        {
          "output_type": "stream",
          "name": "stderr",
          "text": [
            "\r 94%|█████████▍| 189/200 [06:32<00:02,  4.40it/s]"
          ]
        },
        {
          "output_type": "stream",
          "name": "stdout",
          "text": [
            "Downloaded audio to ./downloaded_audios/0TiEO149Ydc.wav."
          ]
        },
        {
          "output_type": "stream",
          "name": "stderr",
          "text": [
            "\r 95%|█████████▌| 190/200 [06:32<00:02,  4.67it/s]"
          ]
        },
        {
          "output_type": "stream",
          "name": "stdout",
          "text": [
            "\n",
            "Downloaded audio to ./downloaded_audios/0ewWspUqB6Y.wav.\n"
          ]
        },
        {
          "output_type": "stream",
          "name": "stderr",
          "text": [
            "\r 96%|█████████▌| 191/200 [06:32<00:01,  4.98it/s]"
          ]
        },
        {
          "output_type": "stream",
          "name": "stdout",
          "text": [
            "Downloaded audio to ./downloaded_audios/0ewQiU3q5jM.wav.Downloaded audio to ./downloaded_audios/0fCpAuxrQ_I.wav.\n",
            "\n"
          ]
        },
        {
          "output_type": "stream",
          "name": "stderr",
          "text": [
            "\r 96%|█████████▌| 192/200 [06:32<00:01,  4.27it/s]"
          ]
        },
        {
          "output_type": "stream",
          "name": "stdout",
          "text": [
            "Downloaded audio to ./downloaded_audios/0fiOM---7QI.wav.\n",
            "Downloaded audio to ./downloaded_audios/0c1YU_VtFRE.wav.\n"
          ]
        },
        {
          "output_type": "stream",
          "name": "stderr",
          "text": [
            "\r 98%|█████████▊| 195/200 [06:32<00:00,  7.68it/s]"
          ]
        },
        {
          "output_type": "stream",
          "name": "stdout",
          "text": [
            "Downloaded audio to ./downloaded_audios/0Ubu4BqSWmU.wav.\n",
            "Downloaded audio to ./downloaded_audios/0bP2MH3LqvI.wav.\n"
          ]
        },
        {
          "output_type": "stream",
          "name": "stderr",
          "text": [
            "\r 98%|█████████▊| 197/200 [06:33<00:00,  7.96it/s]"
          ]
        },
        {
          "output_type": "stream",
          "name": "stdout",
          "text": [
            "Downloaded audio to ./downloaded_audios/0hw_BB4QN34.wav.\n"
          ]
        },
        {
          "output_type": "stream",
          "name": "stderr",
          "text": [
            "\r 99%|█████████▉| 198/200 [06:34<00:00,  2.24it/s]"
          ]
        },
        {
          "output_type": "stream",
          "name": "stdout",
          "text": [
            "Downloaded audio to ./downloaded_audios/0hfU27A6tus.wav.\n",
            "Downloaded audio to ./downloaded_audios/0XxinBtKouQ.wav.\n"
          ]
        },
        {
          "output_type": "stream",
          "name": "stderr",
          "text": [
            "100%|██████████| 200/200 [06:35<00:00,  1.98s/it]\n"
          ]
        }
      ]
    },
    {
      "cell_type": "markdown",
      "source": [
        "方案二： 效率会低一点，**适用于哪些 yt-dlp 命令不能用的**。"
      ],
      "metadata": {
        "id": "25tlFrpXXNfd"
      }
    },
    {
      "cell_type": "code",
      "source": [
        "# import subprocess\n",
        "# import os\n",
        "# import pandas as pd\n",
        "# from concurrent.futures import ThreadPoolExecutor\n",
        "\n",
        "# def download_audio(ytid, audio_output_dir):\n",
        "#     video_url = f'https://www.youtube.com/watch?v={ytid}'\n",
        "#     temp_audio_path_pattern  = os.path.join(audio_output_dir, f'{ytid}_temp.*')\n",
        "#     output_audio_path = os.path.join(audio_output_dir, f'{ytid}.wav')\n",
        "\n",
        "#     try:\n",
        "#         # 下载音频\n",
        "#         subprocess.run(['yt-dlp', '-x', '--audio-format', 'wav', '-o', temp_audio_path_pattern, video_url], check=True)\n",
        "#         # 查找下载的音频文件\n",
        "#         downloaded_files = glob.glob(temp_audio_path_pattern)\n",
        "#         if not downloaded_files:\n",
        "#             raise Exception(\"Downloaded audio file not found.\")\n",
        "#         return downloaded_files[0], output_audio_path  # 返回实际下载的文件路径\n",
        "#     except subprocess.CalledProcessError as e:\n",
        "#         print(f\"Error downloading audio for {ytid}: {e}\")\n",
        "#         return None, None\n",
        "\n",
        "# def trim_audio(temp_audio_path, output_audio_path, start_s, end_s):\n",
        "#     if not os.path.exists(temp_audio_path):\n",
        "#         raise FileNotFoundError(f\"File not found: {temp_audio_path}\")\n",
        "\n",
        "#     try:\n",
        "#         # 使用 ffmpeg 裁剪音频\n",
        "#         subprocess.run(['ffmpeg', '-i', temp_audio_path, '-ss', str(start_s), '-to', str(end_s), '-c', 'copy', output_audio_path], check=True)\n",
        "#         os.remove(temp_audio_path)  # 删除临时文件\n",
        "#         print(f\"Trimmed audio to {output_audio_path}.\")\n",
        "#     except subprocess.CalledProcessError as e:\n",
        "#         print(f\"Error trimming audio: {e}\\nOutput: {e.stdout.decode()}\\nError: {e.stderr.decode()}\")\n",
        "\n",
        "# def download_and_trim_audio(ytid, start_s, end_s, audio_output_dir):\n",
        "#     temp_audio_path, output_audio_path = download_audio(ytid, audio_output_dir)\n",
        "#     if temp_audio_path and output_audio_path:\n",
        "#         trim_audio(temp_audio_path, output_audio_path, start_s, end_s)\n",
        "\n",
        "# # 加载CSV文件\n",
        "# csv_file = '/content/musiccaps-public.csv'  # colab\n",
        "# # csv_file = '/kaggle/input/musiccaps/musiccaps-public.csv'  # kaggle\n",
        "\n",
        "# df = pd.read_csv(csv_file)\n",
        "\n",
        "# audio_output_dir = './downloaded_audios'  # 音频输出目录\n",
        "\n",
        "# # 确保输出目录存在\n",
        "# os.makedirs(audio_output_dir, exist_ok=True)\n",
        "\n",
        "# # 使用线程池\n",
        "# with ThreadPoolExecutor(max_workers=200) as executor:\n",
        "#     for index, row in df.iterrows():\n",
        "#         if index >= 2000:\n",
        "#             break\n",
        "#         executor.submit(download_and_trim_audio, row['ytid'], row['start_s'], row['end_s'], audio_output_dir)\n",
        "#         print(f\"Thread is {index}.\")"
      ],
      "metadata": {
        "id": "o00AgUO7XQVM"
      },
      "execution_count": 7,
      "outputs": []
    },
    {
      "cell_type": "markdown",
      "source": [
        "##  下面是使用you-get，通过视频提取音频的代码参考\n",
        "\n",
        "因为工具不同，有的网站可能不能用 yt-dlp，所以可以参考使用 you-get。\n",
        "\n",
        "安装**ffmpeg** 或其他类似工具来从下载的视频文件中提取音频。"
      ],
      "metadata": {
        "id": "798NAPzIwoFW"
      }
    },
    {
      "cell_type": "code",
      "source": [
        "# !sudo apt-get install ffmpeg\n"
      ],
      "metadata": {
        "id": "TrOcfuZ8wjfi",
        "trusted": true
      },
      "execution_count": 8,
      "outputs": []
    },
    {
      "cell_type": "markdown",
      "source": [
        "### 使用无损编码器\n",
        "编解码器是 aac，这是 .m4a 文件的典型编解码器。\n",
        "\n",
        "如果要生成 .wav 文件，应该使用无损的编解码器（例如，pcm_s16le）"
      ],
      "metadata": {
        "id": "n6oesHXfnjHP"
      }
    },
    {
      "cell_type": "code",
      "source": [
        "# import subprocess\n",
        "# import librosa\n",
        "# import soundfile as sf\n",
        "# import os\n",
        "# import pandas as pd\n",
        "# import glob # 用于文件路径名的模式匹配\n",
        "# from datetime import datetime\n",
        "# from concurrent.futures import ThreadPoolExecutor\n",
        "\n",
        "\n",
        "# def get_latest_file_in_dir(directory):\n",
        "#     \"\"\" 获取指定目录中最新的文件 \"\"\"\n",
        "#     list_of_files = glob.glob(os.path.join(directory, '*'))\n",
        "#     if not list_of_files:  # 如果目录为空\n",
        "#         return None\n",
        "#     latest_file = max(list_of_files, key=os.path.getmtime)\n",
        "#     return latest_file\n",
        "\n",
        "\n",
        "\n",
        "# def download_lowest_resolution_video(ytid, video_output_dir):\n",
        "#     video_url = f'https://www.youtube.com/watch?v={ytid}'\n",
        "#     try:\n",
        "#       # 使用 you-get 下载分辨率最低的视频\n",
        "#         subprocess.run(['you-get', '--no-caption', '-o', video_output_dir, '--itag=160', video_url], check=True)\n",
        "#         print (f\"Download {ytid} video.\")\n",
        "#     except subprocess.CalledProcessError as e:\n",
        "#         print(f\"Error downloading video {ytid}: {e}\")\n",
        "#         return None\n",
        "#     # 查找下载的视频文件\n",
        "#     return get_latest_file_in_dir(video_output_dir)\n",
        "\n",
        "\n",
        "\n",
        "# def extract_audio_from_video(video_path, output_audio_path):\n",
        "#     try:\n",
        "#         result = subprocess.run(['ffmpeg', '-i', video_path, '-vn', '-acodec', 'pcm_s16le', output_audio_path], check=True, stdout=subprocess.PIPE, stderr=subprocess.PIPE)\n",
        "#         file_name = video_path.split('/')[-1]\n",
        "#         print (f\"Extract {file_name} video.\")\n",
        "#     except subprocess.CalledProcessError as e:\n",
        "#         print(f\"Error extracting audio from video {video_path}: {e}\\nOutput: {e.stdout.decode()}\\nError: {e.stderr.decode()}\")\n",
        "\n",
        "\n",
        "\n",
        "# def download_and_extract(ytid, video_output_dir, audio_output_dir):\n",
        "#     downloaded_video = download_lowest_resolution_video(ytid, video_output_dir) # 下载视频\n",
        "#     if downloaded_video:\n",
        "#         audio_path = os.path.join(audio_output_dir, f'{ytid}.wav')\n",
        "#         extract_audio_from_video(downloaded_video, audio_path)\n",
        "\n",
        "\n",
        "# # 加载CSV文件\n",
        "# csv_file = '/kaggle/input/musiccaps/musiccaps-public.csv' # musiccaps-public.csv\n",
        "# df = pd.read_csv(csv_file)\n",
        "\n",
        "# video_output_dir = './downloaded_videos' # .downloaded_videos\n",
        "# audio_output_dir = './downloaded_audios' # ./downloaded_audios\n",
        "\n",
        "# # 确保输出目录存在\n",
        "# os.makedirs(video_output_dir, exist_ok=True)\n",
        "# os.makedirs(audio_output_dir, exist_ok=True)\n",
        "\n",
        "# # 初始化 test_n\n",
        "# # test_n = 0\n",
        "\n",
        "# # 遍历CSV文件，下载视频并提取音频\n",
        "# # 使用线程池\n",
        "# with ThreadPoolExecutor(max_workers=5) as executor:\n",
        "#     for index, row in df.iterrows():\n",
        "#         if index >= 20:\n",
        "#             break\n",
        "#         executor.submit(download_and_extract, row['ytid'], video_output_dir, audio_output_dir)\n",
        "# #         if test_n >= 20:\n",
        "# #             break\n",
        "# #         test_n += 1"
      ],
      "metadata": {
        "id": "7euPjP2nS6eo",
        "trusted": true
      },
      "execution_count": 9,
      "outputs": []
    },
    {
      "cell_type": "markdown",
      "source": [
        "# 二、下载训练模型的文件内容\n",
        "\n",
        "hubert_base_ls960.pt 文件是一个预训练的模型权重文件，用于 **HuBERT （Hidden Unit BERT）模型**。HuBERT 是由Facebook AI 研究团队开发的一种**自监督学习的语音识别模型**。它是基于 BERT 架构的，专门针对语音处理任务进行了优化。"
      ],
      "metadata": {
        "id": "RGx97LWZP0l3"
      }
    },
    {
      "cell_type": "code",
      "source": [
        "import requests\n",
        "\n",
        "def download_file(url, filename):\n",
        "    response = requests.get(url)\n",
        "    response.raise_for_status()  # 检查请求是否成功\n",
        "\n",
        "    with open(filename, 'wb') as f:\n",
        "        f.write(response.content)\n",
        "\n",
        "# 设置文件的URL和你想要保存的文件名\n",
        "file_url = \"https://dl.fbaipublicfiles.com/hubert/hubert_base_ls960.pt\"\n",
        "file_name = \"hubert_base_ls960.pt\"\n",
        "\n",
        "# 下载文件\n",
        "download_file(file_url, file_name)\n",
        "\n",
        "# 设置文件的URL和你想要保存的文件名\n",
        "file_url = \"https://dl.fbaipublicfiles.com/hubert/hubert_base_ls960_L9_km500.bin\"\n",
        "file_name = \"hubert_base_ls960_L9_km500.bin\"\n",
        "\n",
        "# 下载文件\n",
        "download_file(file_url, file_name)\n",
        "\n"
      ],
      "metadata": {
        "id": "1zRjmvmDzOir",
        "trusted": true
      },
      "execution_count": 9,
      "outputs": []
    },
    {
      "cell_type": "code",
      "source": [
        "# from google.colab import drive\n",
        "# drive.mount('/content/drive')"
      ],
      "metadata": {
        "id": "AWcfpyaF4Paj"
      },
      "execution_count": 11,
      "outputs": []
    },
    {
      "cell_type": "markdown",
      "source": [
        "SemanticTransformerTrainer（这可能是一个音频处理或自然语言处理相关的训练器）"
      ],
      "metadata": {
        "id": "HsF5TTf0QoVW"
      }
    },
    {
      "cell_type": "code",
      "source": [
        "# 不是我们要的音频链接\n",
        "# import requests\n",
        "\n",
        "# url = \"https://github.com/hsfzxjy/models.storage/releases/download/HRNet-OCR/hrnet_cs_8090_torch11.pth\"\n",
        "# response = requests.get(url)\n",
        "# response.raise_for_status()\n",
        "\n",
        "# file_name = url.split('/')[-1]\n",
        "\n",
        "# with open(file_name, 'wb') as f:\n",
        "#   f.write(response.content)\n",
        "\n",
        "\n",
        "\n",
        "\n"
      ],
      "metadata": {
        "id": "oOozQ_E_yPc2",
        "trusted": true
      },
      "execution_count": null,
      "outputs": []
    },
    {
      "cell_type": "markdown",
      "source": [
        "# 三、前面都是数据准备，现在才是模型相关的。安装MusicLM必要的包"
      ],
      "metadata": {
        "id": "xtGEfkAdnjHR"
      }
    },
    {
      "cell_type": "code",
      "source": [
        "# 重启也要运行\n",
        "!pip install musiclm-pytorch\n",
        "!pip install --upgrade tensorflow tensorflow-io\n",
        "!pip install audiolm_pytorch"
      ],
      "metadata": {
        "colab": {
          "base_uri": "https://localhost:8080/"
        },
        "id": "KSVTEQPWu5qB",
        "outputId": "b827f553-0b11-4140-d70d-25b45477f487",
        "execution": {
          "iopub.status.busy": "2023-11-13T07:17:24.120848Z",
          "iopub.execute_input": "2023-11-13T07:17:24.121247Z",
          "iopub.status.idle": "2023-11-13T07:18:01.355871Z",
          "shell.execute_reply.started": "2023-11-13T07:17:24.121212Z",
          "shell.execute_reply": "2023-11-13T07:18:01.354639Z"
        },
        "trusted": true
      },
      "execution_count": 10,
      "outputs": [
        {
          "output_type": "stream",
          "name": "stdout",
          "text": [
            "Collecting musiclm-pytorch\n",
            "  Downloading musiclm_pytorch-0.2.8-py3-none-any.whl (14 kB)\n",
            "Collecting accelerate (from musiclm-pytorch)\n",
            "  Downloading accelerate-0.24.1-py3-none-any.whl (261 kB)\n",
            "\u001b[2K     \u001b[90m━━━━━━━━━━━━━━━━━━━━━━━━━━━━━━━━━━━━━━━━\u001b[0m \u001b[32m261.4/261.4 kB\u001b[0m \u001b[31m4.1 MB/s\u001b[0m eta \u001b[36m0:00:00\u001b[0m\n",
            "\u001b[?25hCollecting audiolm-pytorch>=0.17.0 (from musiclm-pytorch)\n",
            "  Downloading audiolm_pytorch-1.7.6-py3-none-any.whl (42 kB)\n",
            "\u001b[2K     \u001b[90m━━━━━━━━━━━━━━━━━━━━━━━━━━━━━━━━━━━━━━━━\u001b[0m \u001b[32m42.7/42.7 kB\u001b[0m \u001b[31m4.9 MB/s\u001b[0m eta \u001b[36m0:00:00\u001b[0m\n",
            "\u001b[?25hCollecting beartype (from musiclm-pytorch)\n",
            "  Downloading beartype-0.16.4-py3-none-any.whl (819 kB)\n",
            "\u001b[2K     \u001b[90m━━━━━━━━━━━━━━━━━━━━━━━━━━━━━━━━━━━━━━━━\u001b[0m \u001b[32m819.1/819.1 kB\u001b[0m \u001b[31m6.7 MB/s\u001b[0m eta \u001b[36m0:00:00\u001b[0m\n",
            "\u001b[?25hCollecting einops>=0.6 (from musiclm-pytorch)\n",
            "  Downloading einops-0.7.0-py3-none-any.whl (44 kB)\n",
            "\u001b[2K     \u001b[90m━━━━━━━━━━━━━━━━━━━━━━━━━━━━━━━━━━━━━━━━\u001b[0m \u001b[32m44.6/44.6 kB\u001b[0m \u001b[31m5.2 MB/s\u001b[0m eta \u001b[36m0:00:00\u001b[0m\n",
            "\u001b[?25hCollecting lion-pytorch (from musiclm-pytorch)\n",
            "  Downloading lion_pytorch-0.1.2-py3-none-any.whl (4.4 kB)\n",
            "Collecting vector-quantize-pytorch>=1.0.0 (from musiclm-pytorch)\n",
            "  Downloading vector_quantize_pytorch-1.11.7-py3-none-any.whl (24 kB)\n",
            "Collecting x-clip (from musiclm-pytorch)\n",
            "  Downloading x_clip-0.14.4-py3-none-any.whl (1.4 MB)\n",
            "\u001b[2K     \u001b[90m━━━━━━━━━━━━━━━━━━━━━━━━━━━━━━━━━━━━━━━━\u001b[0m \u001b[32m1.4/1.4 MB\u001b[0m \u001b[31m10.1 MB/s\u001b[0m eta \u001b[36m0:00:00\u001b[0m\n",
            "\u001b[?25hRequirement already satisfied: torch>=1.12 in /usr/local/lib/python3.10/dist-packages (from musiclm-pytorch) (2.1.0+cu118)\n",
            "Requirement already satisfied: torchaudio in /usr/local/lib/python3.10/dist-packages (from musiclm-pytorch) (2.1.0+cu118)\n",
            "Collecting ema-pytorch>=0.2.2 (from audiolm-pytorch>=0.17.0->musiclm-pytorch)\n",
            "  Downloading ema_pytorch-0.3.0-py3-none-any.whl (4.7 kB)\n",
            "Collecting encodec (from audiolm-pytorch>=0.17.0->musiclm-pytorch)\n",
            "  Downloading encodec-0.1.1.tar.gz (3.7 MB)\n",
            "\u001b[2K     \u001b[90m━━━━━━━━━━━━━━━━━━━━━━━━━━━━━━━━━━━━━━━━\u001b[0m \u001b[32m3.7/3.7 MB\u001b[0m \u001b[31m14.0 MB/s\u001b[0m eta \u001b[36m0:00:00\u001b[0m\n",
            "\u001b[?25h  Preparing metadata (setup.py) ... \u001b[?25l\u001b[?25hdone\n",
            "Collecting fairseq (from audiolm-pytorch>=0.17.0->musiclm-pytorch)\n",
            "  Downloading fairseq-0.12.2.tar.gz (9.6 MB)\n",
            "\u001b[2K     \u001b[90m━━━━━━━━━━━━━━━━━━━━━━━━━━━━━━━━━━━━━━━━\u001b[0m \u001b[32m9.6/9.6 MB\u001b[0m \u001b[31m28.6 MB/s\u001b[0m eta \u001b[36m0:00:00\u001b[0m\n",
            "\u001b[?25h  Installing build dependencies ... \u001b[?25l\u001b[?25hdone\n",
            "  Getting requirements to build wheel ... \u001b[?25l\u001b[?25hdone\n",
            "  Installing backend dependencies ... \u001b[?25l\u001b[?25hdone\n",
            "  Preparing metadata (pyproject.toml) ... \u001b[?25l\u001b[?25hdone\n",
            "Requirement already satisfied: joblib in /usr/local/lib/python3.10/dist-packages (from audiolm-pytorch>=0.17.0->musiclm-pytorch) (1.3.2)\n",
            "Collecting local-attention>=1.9.0 (from audiolm-pytorch>=0.17.0->musiclm-pytorch)\n",
            "  Downloading local_attention-1.9.0-py3-none-any.whl (8.2 kB)\n",
            "Requirement already satisfied: scikit-learn in /usr/local/lib/python3.10/dist-packages (from audiolm-pytorch>=0.17.0->musiclm-pytorch) (1.2.2)\n",
            "Collecting sentencepiece (from audiolm-pytorch>=0.17.0->musiclm-pytorch)\n",
            "  Downloading sentencepiece-0.1.99-cp310-cp310-manylinux_2_17_x86_64.manylinux2014_x86_64.whl (1.3 MB)\n",
            "\u001b[2K     \u001b[90m━━━━━━━━━━━━━━━━━━━━━━━━━━━━━━━━━━━━━━━━\u001b[0m \u001b[32m1.3/1.3 MB\u001b[0m \u001b[31m8.1 MB/s\u001b[0m eta \u001b[36m0:00:00\u001b[0m\n",
            "\u001b[?25hCollecting transformers (from audiolm-pytorch>=0.17.0->musiclm-pytorch)\n",
            "  Downloading transformers-4.35.0-py3-none-any.whl (7.9 MB)\n",
            "\u001b[2K     \u001b[90m━━━━━━━━━━━━━━━━━━━━━━━━━━━━━━━━━━━━━━━━\u001b[0m \u001b[32m7.9/7.9 MB\u001b[0m \u001b[31m60.0 MB/s\u001b[0m eta \u001b[36m0:00:00\u001b[0m\n",
            "\u001b[?25hRequirement already satisfied: tqdm in /usr/local/lib/python3.10/dist-packages (from audiolm-pytorch>=0.17.0->musiclm-pytorch) (4.66.1)\n",
            "Requirement already satisfied: numpy>=1.17 in /usr/local/lib/python3.10/dist-packages (from accelerate->musiclm-pytorch) (1.23.5)\n",
            "Requirement already satisfied: packaging>=20.0 in /usr/local/lib/python3.10/dist-packages (from accelerate->musiclm-pytorch) (23.2)\n",
            "Requirement already satisfied: psutil in /usr/local/lib/python3.10/dist-packages (from accelerate->musiclm-pytorch) (5.9.5)\n",
            "Requirement already satisfied: pyyaml in /usr/local/lib/python3.10/dist-packages (from accelerate->musiclm-pytorch) (6.0.1)\n",
            "Collecting huggingface-hub (from accelerate->musiclm-pytorch)\n",
            "  Downloading huggingface_hub-0.19.1-py3-none-any.whl (311 kB)\n",
            "\u001b[2K     \u001b[90m━━━━━━━━━━━━━━━━━━━━━━━━━━━━━━━━━━━━━━━━\u001b[0m \u001b[32m311.1/311.1 kB\u001b[0m \u001b[31m34.1 MB/s\u001b[0m eta \u001b[36m0:00:00\u001b[0m\n",
            "\u001b[?25hRequirement already satisfied: filelock in /usr/local/lib/python3.10/dist-packages (from torch>=1.12->musiclm-pytorch) (3.13.1)\n",
            "Requirement already satisfied: typing-extensions in /usr/local/lib/python3.10/dist-packages (from torch>=1.12->musiclm-pytorch) (4.5.0)\n",
            "Requirement already satisfied: sympy in /usr/local/lib/python3.10/dist-packages (from torch>=1.12->musiclm-pytorch) (1.12)\n",
            "Requirement already satisfied: networkx in /usr/local/lib/python3.10/dist-packages (from torch>=1.12->musiclm-pytorch) (3.2.1)\n",
            "Requirement already satisfied: jinja2 in /usr/local/lib/python3.10/dist-packages (from torch>=1.12->musiclm-pytorch) (3.1.2)\n",
            "Requirement already satisfied: fsspec in /usr/local/lib/python3.10/dist-packages (from torch>=1.12->musiclm-pytorch) (2023.6.0)\n",
            "Requirement already satisfied: triton==2.1.0 in /usr/local/lib/python3.10/dist-packages (from torch>=1.12->musiclm-pytorch) (2.1.0)\n",
            "Collecting ftfy (from x-clip->musiclm-pytorch)\n",
            "  Downloading ftfy-6.1.1-py3-none-any.whl (53 kB)\n",
            "\u001b[2K     \u001b[90m━━━━━━━━━━━━━━━━━━━━━━━━━━━━━━━━━━━━━━━━\u001b[0m \u001b[32m53.1/53.1 kB\u001b[0m \u001b[31m7.0 MB/s\u001b[0m eta \u001b[36m0:00:00\u001b[0m\n",
            "\u001b[?25hRequirement already satisfied: regex in /usr/local/lib/python3.10/dist-packages (from x-clip->musiclm-pytorch) (2023.6.3)\n",
            "Requirement already satisfied: torchvision in /usr/local/lib/python3.10/dist-packages (from x-clip->musiclm-pytorch) (0.16.0+cu118)\n",
            "Requirement already satisfied: cffi in /usr/local/lib/python3.10/dist-packages (from fairseq->audiolm-pytorch>=0.17.0->musiclm-pytorch) (1.16.0)\n",
            "Requirement already satisfied: cython in /usr/local/lib/python3.10/dist-packages (from fairseq->audiolm-pytorch>=0.17.0->musiclm-pytorch) (3.0.5)\n",
            "Collecting hydra-core<1.1,>=1.0.7 (from fairseq->audiolm-pytorch>=0.17.0->musiclm-pytorch)\n",
            "  Downloading hydra_core-1.0.7-py3-none-any.whl (123 kB)\n",
            "\u001b[2K     \u001b[90m━━━━━━━━━━━━━━━━━━━━━━━━━━━━━━━━━━━━━━━━\u001b[0m \u001b[32m123.8/123.8 kB\u001b[0m \u001b[31m15.5 MB/s\u001b[0m eta \u001b[36m0:00:00\u001b[0m\n",
            "\u001b[?25hCollecting omegaconf<2.1 (from fairseq->audiolm-pytorch>=0.17.0->musiclm-pytorch)\n",
            "  Downloading omegaconf-2.0.6-py3-none-any.whl (36 kB)\n",
            "Collecting sacrebleu>=1.4.12 (from fairseq->audiolm-pytorch>=0.17.0->musiclm-pytorch)\n",
            "  Downloading sacrebleu-2.3.2-py3-none-any.whl (119 kB)\n",
            "\u001b[2K     \u001b[90m━━━━━━━━━━━━━━━━━━━━━━━━━━━━━━━━━━━━━━━━\u001b[0m \u001b[32m119.7/119.7 kB\u001b[0m \u001b[31m16.4 MB/s\u001b[0m eta \u001b[36m0:00:00\u001b[0m\n",
            "\u001b[?25hCollecting bitarray (from fairseq->audiolm-pytorch>=0.17.0->musiclm-pytorch)\n",
            "  Downloading bitarray-2.8.3-cp310-cp310-manylinux_2_17_x86_64.manylinux2014_x86_64.whl (287 kB)\n",
            "\u001b[2K     \u001b[90m━━━━━━━━━━━━━━━━━━━━━━━━━━━━━━━━━━━━━━━━\u001b[0m \u001b[32m287.4/287.4 kB\u001b[0m \u001b[31m32.7 MB/s\u001b[0m eta \u001b[36m0:00:00\u001b[0m\n",
            "\u001b[?25hRequirement already satisfied: wcwidth>=0.2.5 in /usr/local/lib/python3.10/dist-packages (from ftfy->x-clip->musiclm-pytorch) (0.2.9)\n",
            "Requirement already satisfied: requests in /usr/local/lib/python3.10/dist-packages (from huggingface-hub->accelerate->musiclm-pytorch) (2.31.0)\n",
            "Requirement already satisfied: MarkupSafe>=2.0 in /usr/local/lib/python3.10/dist-packages (from jinja2->torch>=1.12->musiclm-pytorch) (2.1.3)\n",
            "Requirement already satisfied: scipy>=1.3.2 in /usr/local/lib/python3.10/dist-packages (from scikit-learn->audiolm-pytorch>=0.17.0->musiclm-pytorch) (1.11.3)\n",
            "Requirement already satisfied: threadpoolctl>=2.0.0 in /usr/local/lib/python3.10/dist-packages (from scikit-learn->audiolm-pytorch>=0.17.0->musiclm-pytorch) (3.2.0)\n",
            "Requirement already satisfied: mpmath>=0.19 in /usr/local/lib/python3.10/dist-packages (from sympy->torch>=1.12->musiclm-pytorch) (1.3.0)\n",
            "Requirement already satisfied: pillow!=8.3.*,>=5.3.0 in /usr/local/lib/python3.10/dist-packages (from torchvision->x-clip->musiclm-pytorch) (9.4.0)\n",
            "Collecting tokenizers<0.15,>=0.14 (from transformers->audiolm-pytorch>=0.17.0->musiclm-pytorch)\n",
            "  Downloading tokenizers-0.14.1-cp310-cp310-manylinux_2_17_x86_64.manylinux2014_x86_64.whl (3.8 MB)\n",
            "\u001b[2K     \u001b[90m━━━━━━━━━━━━━━━━━━━━━━━━━━━━━━━━━━━━━━━━\u001b[0m \u001b[32m3.8/3.8 MB\u001b[0m \u001b[31m71.9 MB/s\u001b[0m eta \u001b[36m0:00:00\u001b[0m\n",
            "\u001b[?25hCollecting safetensors>=0.3.1 (from transformers->audiolm-pytorch>=0.17.0->musiclm-pytorch)\n",
            "  Downloading safetensors-0.4.0-cp310-cp310-manylinux_2_17_x86_64.manylinux2014_x86_64.whl (1.3 MB)\n",
            "\u001b[2K     \u001b[90m━━━━━━━━━━━━━━━━━━━━━━━━━━━━━━━━━━━━━━━━\u001b[0m \u001b[32m1.3/1.3 MB\u001b[0m \u001b[31m71.9 MB/s\u001b[0m eta \u001b[36m0:00:00\u001b[0m\n",
            "\u001b[?25hCollecting antlr4-python3-runtime==4.8 (from hydra-core<1.1,>=1.0.7->fairseq->audiolm-pytorch>=0.17.0->musiclm-pytorch)\n",
            "  Downloading antlr4-python3-runtime-4.8.tar.gz (112 kB)\n",
            "\u001b[2K     \u001b[90m━━━━━━━━━━━━━━━━━━━━━━━━━━━━━━━━━━━━━━━━\u001b[0m \u001b[32m112.4/112.4 kB\u001b[0m \u001b[31m13.2 MB/s\u001b[0m eta \u001b[36m0:00:00\u001b[0m\n",
            "\u001b[?25h  Preparing metadata (setup.py) ... \u001b[?25l\u001b[?25hdone\n",
            "Collecting portalocker (from sacrebleu>=1.4.12->fairseq->audiolm-pytorch>=0.17.0->musiclm-pytorch)\n",
            "  Downloading portalocker-2.8.2-py3-none-any.whl (17 kB)\n",
            "Requirement already satisfied: tabulate>=0.8.9 in /usr/local/lib/python3.10/dist-packages (from sacrebleu>=1.4.12->fairseq->audiolm-pytorch>=0.17.0->musiclm-pytorch) (0.9.0)\n",
            "Collecting colorama (from sacrebleu>=1.4.12->fairseq->audiolm-pytorch>=0.17.0->musiclm-pytorch)\n",
            "  Downloading colorama-0.4.6-py2.py3-none-any.whl (25 kB)\n",
            "Requirement already satisfied: lxml in /usr/local/lib/python3.10/dist-packages (from sacrebleu>=1.4.12->fairseq->audiolm-pytorch>=0.17.0->musiclm-pytorch) (4.9.3)\n",
            "Collecting huggingface-hub (from accelerate->musiclm-pytorch)\n",
            "  Downloading huggingface_hub-0.17.3-py3-none-any.whl (295 kB)\n",
            "\u001b[2K     \u001b[90m━━━━━━━━━━━━━━━━━━━━━━━━━━━━━━━━━━━━━━━━\u001b[0m \u001b[32m295.0/295.0 kB\u001b[0m \u001b[31m32.4 MB/s\u001b[0m eta \u001b[36m0:00:00\u001b[0m\n",
            "\u001b[?25hRequirement already satisfied: pycparser in /usr/local/lib/python3.10/dist-packages (from cffi->fairseq->audiolm-pytorch>=0.17.0->musiclm-pytorch) (2.21)\n",
            "Requirement already satisfied: charset-normalizer<4,>=2 in /usr/local/lib/python3.10/dist-packages (from requests->huggingface-hub->accelerate->musiclm-pytorch) (3.3.2)\n",
            "Requirement already satisfied: idna<4,>=2.5 in /usr/local/lib/python3.10/dist-packages (from requests->huggingface-hub->accelerate->musiclm-pytorch) (3.4)\n",
            "Requirement already satisfied: urllib3<3,>=1.21.1 in /usr/local/lib/python3.10/dist-packages (from requests->huggingface-hub->accelerate->musiclm-pytorch) (2.0.7)\n",
            "Requirement already satisfied: certifi>=2017.4.17 in /usr/local/lib/python3.10/dist-packages (from requests->huggingface-hub->accelerate->musiclm-pytorch) (2023.7.22)\n",
            "Building wheels for collected packages: encodec, fairseq, antlr4-python3-runtime\n",
            "  Building wheel for encodec (setup.py) ... \u001b[?25l\u001b[?25hdone\n",
            "  Created wheel for encodec: filename=encodec-0.1.1-py3-none-any.whl size=45759 sha256=c800d9fd180526231954f681cbaf9c5f3fde1d5365b23009b04227af5bc76844\n",
            "  Stored in directory: /root/.cache/pip/wheels/fc/36/cb/81af8b985a5f5e0815312d5e52b41263237af07b977e6bcbf3\n",
            "  Building wheel for fairseq (pyproject.toml) ... \u001b[?25l\u001b[?25hdone\n",
            "  Created wheel for fairseq: filename=fairseq-0.12.2-cp310-cp310-linux_x86_64.whl size=11291598 sha256=4c51dcf2716b7b5482ae9705b413279cfa07938159ed28b14dc3b8cbecb060c7\n",
            "  Stored in directory: /root/.cache/pip/wheels/e4/35/55/9c66f65ec7c83fd6fbc2b9502a0ac81b2448a1196159dacc32\n",
            "  Building wheel for antlr4-python3-runtime (setup.py) ... \u001b[?25l\u001b[?25hdone\n",
            "  Created wheel for antlr4-python3-runtime: filename=antlr4_python3_runtime-4.8-py3-none-any.whl size=141210 sha256=a9f2f1496f1a1e8a0031556d40791e5a17c84637f218a53d8f429c8dd69d4d14\n",
            "  Stored in directory: /root/.cache/pip/wheels/a7/20/bd/e1477d664f22d99989fd28ee1a43d6633dddb5cb9e801350d5\n",
            "Successfully built encodec fairseq antlr4-python3-runtime\n",
            "Installing collected packages: sentencepiece, bitarray, antlr4-python3-runtime, safetensors, portalocker, omegaconf, ftfy, einops, colorama, beartype, sacrebleu, hydra-core, huggingface-hub, vector-quantize-pytorch, tokenizers, local-attention, lion-pytorch, ema-pytorch, accelerate, x-clip, transformers, fairseq, encodec, audiolm-pytorch, musiclm-pytorch\n",
            "Successfully installed accelerate-0.24.1 antlr4-python3-runtime-4.8 audiolm-pytorch-1.7.6 beartype-0.16.4 bitarray-2.8.3 colorama-0.4.6 einops-0.7.0 ema-pytorch-0.3.0 encodec-0.1.1 fairseq-0.12.2 ftfy-6.1.1 huggingface-hub-0.17.3 hydra-core-1.0.7 lion-pytorch-0.1.2 local-attention-1.9.0 musiclm-pytorch-0.2.8 omegaconf-2.0.6 portalocker-2.8.2 sacrebleu-2.3.2 safetensors-0.4.0 sentencepiece-0.1.99 tokenizers-0.14.1 transformers-4.35.0 vector-quantize-pytorch-1.11.7 x-clip-0.14.4\n",
            "Requirement already satisfied: tensorflow in /usr/local/lib/python3.10/dist-packages (2.14.0)\n",
            "Collecting tensorflow-io\n",
            "  Downloading tensorflow_io-0.34.0-cp310-cp310-manylinux_2_12_x86_64.manylinux2010_x86_64.whl (28.8 MB)\n",
            "\u001b[2K     \u001b[90m━━━━━━━━━━━━━━━━━━━━━━━━━━━━━━━━━━━━━━━━\u001b[0m \u001b[32m28.8/28.8 MB\u001b[0m \u001b[31m15.1 MB/s\u001b[0m eta \u001b[36m0:00:00\u001b[0m\n",
            "\u001b[?25hRequirement already satisfied: absl-py>=1.0.0 in /usr/local/lib/python3.10/dist-packages (from tensorflow) (1.4.0)\n",
            "Requirement already satisfied: astunparse>=1.6.0 in /usr/local/lib/python3.10/dist-packages (from tensorflow) (1.6.3)\n",
            "Requirement already satisfied: flatbuffers>=23.5.26 in /usr/local/lib/python3.10/dist-packages (from tensorflow) (23.5.26)\n",
            "Requirement already satisfied: gast!=0.5.0,!=0.5.1,!=0.5.2,>=0.2.1 in /usr/local/lib/python3.10/dist-packages (from tensorflow) (0.5.4)\n",
            "Requirement already satisfied: google-pasta>=0.1.1 in /usr/local/lib/python3.10/dist-packages (from tensorflow) (0.2.0)\n",
            "Requirement already satisfied: h5py>=2.9.0 in /usr/local/lib/python3.10/dist-packages (from tensorflow) (3.9.0)\n",
            "Requirement already satisfied: libclang>=13.0.0 in /usr/local/lib/python3.10/dist-packages (from tensorflow) (16.0.6)\n",
            "Requirement already satisfied: ml-dtypes==0.2.0 in /usr/local/lib/python3.10/dist-packages (from tensorflow) (0.2.0)\n",
            "Requirement already satisfied: numpy>=1.23.5 in /usr/local/lib/python3.10/dist-packages (from tensorflow) (1.23.5)\n",
            "Requirement already satisfied: opt-einsum>=2.3.2 in /usr/local/lib/python3.10/dist-packages (from tensorflow) (3.3.0)\n",
            "Requirement already satisfied: packaging in /usr/local/lib/python3.10/dist-packages (from tensorflow) (23.2)\n",
            "Requirement already satisfied: protobuf!=4.21.0,!=4.21.1,!=4.21.2,!=4.21.3,!=4.21.4,!=4.21.5,<5.0.0dev,>=3.20.3 in /usr/local/lib/python3.10/dist-packages (from tensorflow) (3.20.3)\n",
            "Requirement already satisfied: setuptools in /usr/local/lib/python3.10/dist-packages (from tensorflow) (67.7.2)\n",
            "Requirement already satisfied: six>=1.12.0 in /usr/local/lib/python3.10/dist-packages (from tensorflow) (1.16.0)\n",
            "Requirement already satisfied: termcolor>=1.1.0 in /usr/local/lib/python3.10/dist-packages (from tensorflow) (2.3.0)\n",
            "Requirement already satisfied: typing-extensions>=3.6.6 in /usr/local/lib/python3.10/dist-packages (from tensorflow) (4.5.0)\n",
            "Requirement already satisfied: wrapt<1.15,>=1.11.0 in /usr/local/lib/python3.10/dist-packages (from tensorflow) (1.14.1)\n",
            "Requirement already satisfied: tensorflow-io-gcs-filesystem>=0.23.1 in /usr/local/lib/python3.10/dist-packages (from tensorflow) (0.34.0)\n",
            "Requirement already satisfied: grpcio<2.0,>=1.24.3 in /usr/local/lib/python3.10/dist-packages (from tensorflow) (1.59.2)\n",
            "Requirement already satisfied: tensorboard<2.15,>=2.14 in /usr/local/lib/python3.10/dist-packages (from tensorflow) (2.14.1)\n",
            "Requirement already satisfied: tensorflow-estimator<2.15,>=2.14.0 in /usr/local/lib/python3.10/dist-packages (from tensorflow) (2.14.0)\n",
            "Requirement already satisfied: keras<2.15,>=2.14.0 in /usr/local/lib/python3.10/dist-packages (from tensorflow) (2.14.0)\n",
            "Requirement already satisfied: wheel<1.0,>=0.23.0 in /usr/local/lib/python3.10/dist-packages (from astunparse>=1.6.0->tensorflow) (0.41.3)\n",
            "Requirement already satisfied: google-auth<3,>=1.6.3 in /usr/local/lib/python3.10/dist-packages (from tensorboard<2.15,>=2.14->tensorflow) (2.17.3)\n",
            "Requirement already satisfied: google-auth-oauthlib<1.1,>=0.5 in /usr/local/lib/python3.10/dist-packages (from tensorboard<2.15,>=2.14->tensorflow) (1.0.0)\n",
            "Requirement already satisfied: markdown>=2.6.8 in /usr/local/lib/python3.10/dist-packages (from tensorboard<2.15,>=2.14->tensorflow) (3.5.1)\n",
            "Requirement already satisfied: requests<3,>=2.21.0 in /usr/local/lib/python3.10/dist-packages (from tensorboard<2.15,>=2.14->tensorflow) (2.31.0)\n",
            "Requirement already satisfied: tensorboard-data-server<0.8.0,>=0.7.0 in /usr/local/lib/python3.10/dist-packages (from tensorboard<2.15,>=2.14->tensorflow) (0.7.2)\n",
            "Requirement already satisfied: werkzeug>=1.0.1 in /usr/local/lib/python3.10/dist-packages (from tensorboard<2.15,>=2.14->tensorflow) (3.0.1)\n",
            "Requirement already satisfied: cachetools<6.0,>=2.0.0 in /usr/local/lib/python3.10/dist-packages (from google-auth<3,>=1.6.3->tensorboard<2.15,>=2.14->tensorflow) (5.3.2)\n",
            "Requirement already satisfied: pyasn1-modules>=0.2.1 in /usr/local/lib/python3.10/dist-packages (from google-auth<3,>=1.6.3->tensorboard<2.15,>=2.14->tensorflow) (0.3.0)\n",
            "Requirement already satisfied: rsa<5,>=3.1.4 in /usr/local/lib/python3.10/dist-packages (from google-auth<3,>=1.6.3->tensorboard<2.15,>=2.14->tensorflow) (4.9)\n",
            "Requirement already satisfied: requests-oauthlib>=0.7.0 in /usr/local/lib/python3.10/dist-packages (from google-auth-oauthlib<1.1,>=0.5->tensorboard<2.15,>=2.14->tensorflow) (1.3.1)\n",
            "Requirement already satisfied: charset-normalizer<4,>=2 in /usr/local/lib/python3.10/dist-packages (from requests<3,>=2.21.0->tensorboard<2.15,>=2.14->tensorflow) (3.3.2)\n",
            "Requirement already satisfied: idna<4,>=2.5 in /usr/local/lib/python3.10/dist-packages (from requests<3,>=2.21.0->tensorboard<2.15,>=2.14->tensorflow) (3.4)\n",
            "Requirement already satisfied: urllib3<3,>=1.21.1 in /usr/local/lib/python3.10/dist-packages (from requests<3,>=2.21.0->tensorboard<2.15,>=2.14->tensorflow) (2.0.7)\n",
            "Requirement already satisfied: certifi>=2017.4.17 in /usr/local/lib/python3.10/dist-packages (from requests<3,>=2.21.0->tensorboard<2.15,>=2.14->tensorflow) (2023.7.22)\n",
            "Requirement already satisfied: MarkupSafe>=2.1.1 in /usr/local/lib/python3.10/dist-packages (from werkzeug>=1.0.1->tensorboard<2.15,>=2.14->tensorflow) (2.1.3)\n",
            "Requirement already satisfied: pyasn1<0.6.0,>=0.4.6 in /usr/local/lib/python3.10/dist-packages (from pyasn1-modules>=0.2.1->google-auth<3,>=1.6.3->tensorboard<2.15,>=2.14->tensorflow) (0.5.0)\n",
            "Requirement already satisfied: oauthlib>=3.0.0 in /usr/local/lib/python3.10/dist-packages (from requests-oauthlib>=0.7.0->google-auth-oauthlib<1.1,>=0.5->tensorboard<2.15,>=2.14->tensorflow) (3.2.2)\n",
            "Installing collected packages: tensorflow-io\n",
            "Successfully installed tensorflow-io-0.34.0\n",
            "Requirement already satisfied: audiolm_pytorch in /usr/local/lib/python3.10/dist-packages (1.7.6)\n",
            "Requirement already satisfied: accelerate>=0.24.0 in /usr/local/lib/python3.10/dist-packages (from audiolm_pytorch) (0.24.1)\n",
            "Requirement already satisfied: beartype>=0.16.1 in /usr/local/lib/python3.10/dist-packages (from audiolm_pytorch) (0.16.4)\n",
            "Requirement already satisfied: einops>=0.7.0 in /usr/local/lib/python3.10/dist-packages (from audiolm_pytorch) (0.7.0)\n",
            "Requirement already satisfied: ema-pytorch>=0.2.2 in /usr/local/lib/python3.10/dist-packages (from audiolm_pytorch) (0.3.0)\n",
            "Requirement already satisfied: encodec in /usr/local/lib/python3.10/dist-packages (from audiolm_pytorch) (0.1.1)\n",
            "Requirement already satisfied: fairseq in /usr/local/lib/python3.10/dist-packages (from audiolm_pytorch) (0.12.2)\n",
            "Requirement already satisfied: joblib in /usr/local/lib/python3.10/dist-packages (from audiolm_pytorch) (1.3.2)\n",
            "Requirement already satisfied: lion-pytorch in /usr/local/lib/python3.10/dist-packages (from audiolm_pytorch) (0.1.2)\n",
            "Requirement already satisfied: local-attention>=1.9.0 in /usr/local/lib/python3.10/dist-packages (from audiolm_pytorch) (1.9.0)\n",
            "Requirement already satisfied: scikit-learn in /usr/local/lib/python3.10/dist-packages (from audiolm_pytorch) (1.2.2)\n",
            "Requirement already satisfied: sentencepiece in /usr/local/lib/python3.10/dist-packages (from audiolm_pytorch) (0.1.99)\n",
            "Requirement already satisfied: torch>=1.12 in /usr/local/lib/python3.10/dist-packages (from audiolm_pytorch) (2.1.0+cu118)\n",
            "Requirement already satisfied: torchaudio in /usr/local/lib/python3.10/dist-packages (from audiolm_pytorch) (2.1.0+cu118)\n",
            "Requirement already satisfied: transformers in /usr/local/lib/python3.10/dist-packages (from audiolm_pytorch) (4.35.0)\n",
            "Requirement already satisfied: tqdm in /usr/local/lib/python3.10/dist-packages (from audiolm_pytorch) (4.66.1)\n",
            "Requirement already satisfied: vector-quantize-pytorch>=1.11.3 in /usr/local/lib/python3.10/dist-packages (from audiolm_pytorch) (1.11.7)\n",
            "Requirement already satisfied: numpy>=1.17 in /usr/local/lib/python3.10/dist-packages (from accelerate>=0.24.0->audiolm_pytorch) (1.23.5)\n",
            "Requirement already satisfied: packaging>=20.0 in /usr/local/lib/python3.10/dist-packages (from accelerate>=0.24.0->audiolm_pytorch) (23.2)\n",
            "Requirement already satisfied: psutil in /usr/local/lib/python3.10/dist-packages (from accelerate>=0.24.0->audiolm_pytorch) (5.9.5)\n",
            "Requirement already satisfied: pyyaml in /usr/local/lib/python3.10/dist-packages (from accelerate>=0.24.0->audiolm_pytorch) (6.0.1)\n",
            "Requirement already satisfied: huggingface-hub in /usr/local/lib/python3.10/dist-packages (from accelerate>=0.24.0->audiolm_pytorch) (0.17.3)\n",
            "Requirement already satisfied: filelock in /usr/local/lib/python3.10/dist-packages (from torch>=1.12->audiolm_pytorch) (3.13.1)\n",
            "Requirement already satisfied: typing-extensions in /usr/local/lib/python3.10/dist-packages (from torch>=1.12->audiolm_pytorch) (4.5.0)\n",
            "Requirement already satisfied: sympy in /usr/local/lib/python3.10/dist-packages (from torch>=1.12->audiolm_pytorch) (1.12)\n",
            "Requirement already satisfied: networkx in /usr/local/lib/python3.10/dist-packages (from torch>=1.12->audiolm_pytorch) (3.2.1)\n",
            "Requirement already satisfied: jinja2 in /usr/local/lib/python3.10/dist-packages (from torch>=1.12->audiolm_pytorch) (3.1.2)\n",
            "Requirement already satisfied: fsspec in /usr/local/lib/python3.10/dist-packages (from torch>=1.12->audiolm_pytorch) (2023.6.0)\n",
            "Requirement already satisfied: triton==2.1.0 in /usr/local/lib/python3.10/dist-packages (from torch>=1.12->audiolm_pytorch) (2.1.0)\n",
            "Requirement already satisfied: cffi in /usr/local/lib/python3.10/dist-packages (from fairseq->audiolm_pytorch) (1.16.0)\n",
            "Requirement already satisfied: cython in /usr/local/lib/python3.10/dist-packages (from fairseq->audiolm_pytorch) (3.0.5)\n",
            "Requirement already satisfied: hydra-core<1.1,>=1.0.7 in /usr/local/lib/python3.10/dist-packages (from fairseq->audiolm_pytorch) (1.0.7)\n",
            "Requirement already satisfied: omegaconf<2.1 in /usr/local/lib/python3.10/dist-packages (from fairseq->audiolm_pytorch) (2.0.6)\n",
            "Requirement already satisfied: regex in /usr/local/lib/python3.10/dist-packages (from fairseq->audiolm_pytorch) (2023.6.3)\n",
            "Requirement already satisfied: sacrebleu>=1.4.12 in /usr/local/lib/python3.10/dist-packages (from fairseq->audiolm_pytorch) (2.3.2)\n",
            "Requirement already satisfied: bitarray in /usr/local/lib/python3.10/dist-packages (from fairseq->audiolm_pytorch) (2.8.3)\n",
            "Requirement already satisfied: scipy>=1.3.2 in /usr/local/lib/python3.10/dist-packages (from scikit-learn->audiolm_pytorch) (1.11.3)\n",
            "Requirement already satisfied: threadpoolctl>=2.0.0 in /usr/local/lib/python3.10/dist-packages (from scikit-learn->audiolm_pytorch) (3.2.0)\n",
            "Requirement already satisfied: requests in /usr/local/lib/python3.10/dist-packages (from transformers->audiolm_pytorch) (2.31.0)\n",
            "Requirement already satisfied: tokenizers<0.15,>=0.14 in /usr/local/lib/python3.10/dist-packages (from transformers->audiolm_pytorch) (0.14.1)\n",
            "Requirement already satisfied: safetensors>=0.3.1 in /usr/local/lib/python3.10/dist-packages (from transformers->audiolm_pytorch) (0.4.0)\n",
            "Requirement already satisfied: antlr4-python3-runtime==4.8 in /usr/local/lib/python3.10/dist-packages (from hydra-core<1.1,>=1.0.7->fairseq->audiolm_pytorch) (4.8)\n",
            "Requirement already satisfied: portalocker in /usr/local/lib/python3.10/dist-packages (from sacrebleu>=1.4.12->fairseq->audiolm_pytorch) (2.8.2)\n",
            "Requirement already satisfied: tabulate>=0.8.9 in /usr/local/lib/python3.10/dist-packages (from sacrebleu>=1.4.12->fairseq->audiolm_pytorch) (0.9.0)\n",
            "Requirement already satisfied: colorama in /usr/local/lib/python3.10/dist-packages (from sacrebleu>=1.4.12->fairseq->audiolm_pytorch) (0.4.6)\n",
            "Requirement already satisfied: lxml in /usr/local/lib/python3.10/dist-packages (from sacrebleu>=1.4.12->fairseq->audiolm_pytorch) (4.9.3)\n",
            "Requirement already satisfied: pycparser in /usr/local/lib/python3.10/dist-packages (from cffi->fairseq->audiolm_pytorch) (2.21)\n",
            "Requirement already satisfied: MarkupSafe>=2.0 in /usr/local/lib/python3.10/dist-packages (from jinja2->torch>=1.12->audiolm_pytorch) (2.1.3)\n",
            "Requirement already satisfied: charset-normalizer<4,>=2 in /usr/local/lib/python3.10/dist-packages (from requests->transformers->audiolm_pytorch) (3.3.2)\n",
            "Requirement already satisfied: idna<4,>=2.5 in /usr/local/lib/python3.10/dist-packages (from requests->transformers->audiolm_pytorch) (3.4)\n",
            "Requirement already satisfied: urllib3<3,>=1.21.1 in /usr/local/lib/python3.10/dist-packages (from requests->transformers->audiolm_pytorch) (2.0.7)\n",
            "Requirement already satisfied: certifi>=2017.4.17 in /usr/local/lib/python3.10/dist-packages (from requests->transformers->audiolm_pytorch) (2023.7.22)\n",
            "Requirement already satisfied: mpmath>=0.19 in /usr/local/lib/python3.10/dist-packages (from sympy->torch>=1.12->audiolm_pytorch) (1.3.0)\n"
          ]
        }
      ]
    },
    {
      "cell_type": "markdown",
      "source": [
        "## Usage\n",
        "`MuLaN` first needs to be trained"
      ],
      "metadata": {
        "id": "tHqjcLn9RZwS"
      }
    },
    {
      "cell_type": "code",
      "source": [
        "# 重启也要运行\n",
        "\n",
        "import array\n",
        "import torchaudio\n",
        "from torch.utils.data import Dataset\n",
        "from torch.utils.data import DataLoader\n",
        "import numpy\n",
        "import soundfile\n",
        "from scipy.io.wavfile import read\n",
        "import torch\n",
        "from musiclm_pytorch import MuLaN, AudioSpectrogramTransformer, TextTransformer\n",
        "import os\n",
        "import pathlib\n",
        "import numpy\n",
        "import pandas\n",
        "from musiclm_pytorch import MuLaNEmbedQuantizer\n"
      ],
      "metadata": {
        "execution": {
          "iopub.status.busy": "2023-11-13T07:18:01.358048Z",
          "iopub.execute_input": "2023-11-13T07:18:01.358377Z",
          "iopub.status.idle": "2023-11-13T07:18:35.735271Z",
          "shell.execute_reply.started": "2023-11-13T07:18:01.358348Z",
          "shell.execute_reply": "2023-11-13T07:18:35.734213Z"
        },
        "trusted": true,
        "id": "EFiBKvASnjHT"
      },
      "execution_count": 11,
      "outputs": []
    },
    {
      "cell_type": "markdown",
      "source": [
        "## 验证环境\n",
        "如果没有CUDA环境，就要将后面的.cuda()去掉"
      ],
      "metadata": {
        "id": "0T1MJ_TMnjHT"
      }
    },
    {
      "cell_type": "code",
      "source": [
        "if torch.cuda.is_available():\n",
        "    device = 'cuda'\n",
        "else:\n",
        "    device = 'cpu'\n",
        "print(device)"
      ],
      "metadata": {
        "execution": {
          "iopub.status.busy": "2023-11-13T07:18:35.736413Z",
          "iopub.execute_input": "2023-11-13T07:18:35.737026Z",
          "iopub.status.idle": "2023-11-13T07:18:35.768806Z",
          "shell.execute_reply.started": "2023-11-13T07:18:35.736995Z",
          "shell.execute_reply": "2023-11-13T07:18:35.767742Z"
        },
        "trusted": true,
        "colab": {
          "base_uri": "https://localhost:8080/"
        },
        "id": "RsKBSiTnnjHU",
        "outputId": "e2722476-6375-4995-b25b-b302bcd5ba45"
      },
      "execution_count": 12,
      "outputs": [
        {
          "output_type": "stream",
          "name": "stdout",
          "text": [
            "cpu\n"
          ]
        }
      ]
    },
    {
      "cell_type": "markdown",
      "source": [
        "## 加载三个模型\n",
        "`**MusicLM**` 用了三个模型，`MuLan(Audio)`, `w2v-BERT`, `SoundStream`\n",
        "\n",
        "\n",
        "**声学模块SoundStream**：端到端神经音频编解码器，能提供更高质量的音频，并扩展至编码不同的声音类型\n",
        "\n",
        "**语义模块w2v-BERT**：使用该模型的掩码语言建模(MLM)模块的中间层。在预训练和冻结模型之后，从第7层提取embedding，并使用学习到的k-means质心对embedding进行量化。该模块主要起到提取语义词元的作用\n",
        "\n",
        "**音频文本对MuLan**：采用双塔并行编码器架构，使用对比损失进行训练，在音乐音频和文本之间形成共享嵌入空间。即`音频信号和文本语义都具有基于离散标记的同质表示`\n",
        "\n",
        "\n",
        "![musiclm.png](data:image/png;base64,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)\n"
      ],
      "metadata": {
        "id": "hfyNTk9pnjHU"
      }
    },
    {
      "cell_type": "code",
      "source": [
        "# 重启也要运行\n",
        "import torch\n",
        "from musiclm_pytorch import MuLaN, AudioSpectrogramTransformer, TextTransformer\n",
        "\n",
        "audio_transformer = AudioSpectrogramTransformer(\n",
        "    dim = 512,\n",
        "    depth = 6,\n",
        "    heads = 8,\n",
        "    dim_head = 64,\n",
        "    spec_n_fft = 128,\n",
        "    spec_win_length = 24,\n",
        "    spec_aug_stretch_factor = 0.8\n",
        ")\n",
        "\n",
        "text_transformer = TextTransformer(\n",
        "    dim = 512,\n",
        "    depth = 6,\n",
        "    heads = 8,\n",
        "    dim_head = 64\n",
        ")\n",
        "\n",
        "mulan = MuLaN(\n",
        "    audio_transformer = audio_transformer,\n",
        "    text_transformer = text_transformer\n",
        ")\n",
        "\n",
        "# get a ton of <sound, text> pairs and train\n",
        "\n",
        "wavs = torch.randn(2, 1024)\n",
        "texts = torch.randint(0, 20000, (2, 256))\n",
        "\n",
        "loss = mulan(wavs, texts)\n",
        "loss.backward()\n",
        "\n",
        "# after much training, you can embed sounds and text into a joint embedding space\n",
        "# for conditioning the audio LM\n",
        "\n",
        "embeds = mulan.get_audio_latents(wavs)  # during training\n",
        "\n",
        "embeds = mulan.get_text_latents(texts)  # during inference"
      ],
      "metadata": {
        "colab": {
          "base_uri": "https://localhost:8080/"
        },
        "id": "24y5bccQu9XA",
        "outputId": "e23f26d4-2116-49ca-f2c0-8712814d3570",
        "execution": {
          "iopub.status.busy": "2023-11-13T07:18:35.770344Z",
          "iopub.execute_input": "2023-11-13T07:18:35.770774Z",
          "iopub.status.idle": "2023-11-13T07:18:37.131865Z",
          "shell.execute_reply.started": "2023-11-13T07:18:35.770733Z",
          "shell.execute_reply": "2023-11-13T07:18:37.130852Z"
        },
        "trusted": true
      },
      "execution_count": 13,
      "outputs": [
        {
          "output_type": "stream",
          "name": "stdout",
          "text": [
            "spectrogram yielded shape of (65, 86), but had to be cropped to (64, 80) to be patchified for transformer\n"
          ]
        }
      ]
    },
    {
      "cell_type": "markdown",
      "source": [
        "To obtain the conditioning embeddings for the three transformers that are a part of AudioLM, you must use the `MuLaNEmbedQuantizer` as so"
      ],
      "metadata": {
        "id": "7lzG0rfhRgia"
      }
    },
    {
      "cell_type": "markdown",
      "source": [
        "## MusicLM"
      ],
      "metadata": {
        "id": "6zcvphTvnjHV"
      }
    },
    {
      "cell_type": "code",
      "source": [
        "# 重启也要运行\n",
        "from musiclm_pytorch import MuLaNEmbedQuantizer\n",
        "\n",
        "# setup the quantizer with the namespaced conditioning embeddings, unique per quantizer as well as namespace (per transformer)\n",
        "\n",
        "quantizer = MuLaNEmbedQuantizer(\n",
        "    mulan = mulan,                          # pass in trained mulan from above\n",
        "    conditioning_dims = (1024, 1024, 1024), # say all three transformers have model dimensions of 1024\n",
        "    namespaces = ('semantic', 'coarse', 'fine')\n",
        ")\n",
        "\n",
        "# now say you want the conditioning embeddings for semantic transformer\n",
        "\n",
        "wavs = torch.randn(2, 1024)\n",
        "conds = quantizer(wavs = wavs, namespace = 'semantic') # (2, 8, 1024) - 8 is number of quantizers"
      ],
      "metadata": {
        "id": "1mPZ82TAvFDQ",
        "execution": {
          "iopub.status.busy": "2023-11-13T07:18:37.134020Z",
          "iopub.execute_input": "2023-11-13T07:18:37.134330Z",
          "iopub.status.idle": "2023-11-13T07:18:37.649699Z",
          "shell.execute_reply.started": "2023-11-13T07:18:37.134302Z",
          "shell.execute_reply": "2023-11-13T07:18:37.648809Z"
        },
        "trusted": true
      },
      "execution_count": 14,
      "outputs": []
    },
    {
      "cell_type": "markdown",
      "source": [
        "## train Hubert模型，audioLM transformer training, train AudioLM,\n",
        "To train (or finetune) the three transformers that are a part of `AudioLM`, you simply follow the instructions over at `audiolm-pytorch` for training, but pass in the `MulanEmbedQuantizer` instance to the training classes under the keyword `audio_conditioner`\n",
        "\n",
        "ex. `SemanticTransformerTrainer`"
      ],
      "metadata": {
        "id": "yk7RkyYnRrwe"
      }
    },
    {
      "cell_type": "markdown",
      "source": [
        "验证路径是否正确"
      ],
      "metadata": {
        "id": "RplqLBIanjHX"
      }
    },
    {
      "cell_type": "code",
      "source": [
        "import os\n",
        "print(\"Current working directory:\", os.getcwd())\n",
        "print(\"Files in './downloaded_audios':\", os.listdir('./downloaded_audios'))\n"
      ],
      "metadata": {
        "trusted": true,
        "colab": {
          "base_uri": "https://localhost:8080/"
        },
        "id": "NqNdBNuxnjHX",
        "outputId": "2e72c0a8-4f79-449b-eefd-9f5200ece9c8"
      },
      "execution_count": 15,
      "outputs": [
        {
          "output_type": "stream",
          "name": "stdout",
          "text": [
            "Current working directory: /content\n",
            "Files in './downloaded_audios': ['0F-Z0zF1504.wav', '-Vo4CAMX26U.wav', '-O9mnfC61Ac.wav', '-Q9MTRXS4bE.wav', '-1OlgJWehn8.wav', '-lPXTBXa0tE.wav', '0DYH0sqDXB8.wav', '0LLlcPiatiU.wav', '-cLzki-B06o.wav', '-m9pH0WXQto.wav', '03z0rpIkm5g.wav', '-uaTK8sa5Ms.wav', '07xGXxIHOL4.wav', '-M6K3QoHh40.wav', '-jpbCWcz2pk.wav', '0RgGrVklaao.wav', '07-vpXo91XM.wav', '0bRUkLsttto.wav', '03frQGyrgQ4.wav', '-0vPFx-wRRI.wav', '-VclCul6FrI.wav', '0a91szM1Ivw.wav', '0J_TdiZ3TKA.wav', '0SNhAKyXtC8.wav', '04NjXsLyCl4.wav', '-Dtir74TiUM.wav', '0EOQco76eXQ.wav', '-v5hgCh3M2w.wav', '-bgHkxwoliw.wav', '-XN0NtrnfMY.wav', '-FEPOSP7ay0.wav', '-r2-9oyIzkQ.wav', '0NZY0GHQBP0.wav', '-pUfYFcsgG4.wav', '-_OzT7Xyvok.wav', '0DizopdPMBw.wav', '0abzD7hBTRk.wav', '-QuWdnmn-kM.wav', '-sRFfU8k0Zs.wav', '0fCpAuxrQ_I.wav', '0bP2MH3LqvI.wav', '-88me9bBzrk.wav', '0dPx94RPy2M.wav', '0QYNC7J05XI.wav', '-CUp_Tmg2Y0.wav', '0ONdm4sW47c.wav', '0Olm321vgk8.wav', '-mB_XLq6g1g.wav', '0RcMzUdXDRQ.wav', '-ZHpNr_KRXU.wav', '-Gf4Ihv1zwc.wav', '-tKZOl4q1Kw.wav', '0OYlHvyfNk4.wav', '07-3grCQ8EU.wav', '-wymN80CiYU.wav', '00M9FhCet6s.wav', '05OJDYeHLMc.wav', '0LE6Ll1rVlg.wav', '-VI2IRq17rs.wav', '-tmY1GEH3_Y.wav', '0OY8XXZ98rw.wav', '-OUIEnuNd1I.wav', '0ewWspUqB6Y.wav', '-FFx68qSAuY.wav', '-WvVG0wHcTc.wav', '0XxinBtKouQ.wav', '0L3vcdzQPPU.wav', '-zA6LL78KYU.wav', '0ewQiU3q5jM.wav', '0VjPCd62oKg.wav', '0_QcatLmg7c.wav', '0hw_BB4QN34.wav', '06IU9WsEp3s.wav', '0cNYPgD6cEA.wav', '0MzrXd8CUCg.wav', '0OhtODbKajw.wav', '-hYRFCQdbLg.wav', '0M7nETLOsKQ.wav', '0EvpBtracsk.wav', '0TV9zvfwFhs.wav', '0TiEO149Ydc.wav', '-Bu7YaslRW0.wav', '0Ubu4BqSWmU.wav', '0K-zyeLuKho.wav', '-6HBGg1cAI0.wav', '-1UWSisR2zo.wav', '-BIMKnb3tlo.wav', '0BFauf6TGGU.wav', '-i9uQMysy_A.wav', '-1LrH01Ei1w.wav', '0AhX-ReXovI.wav', '0VsjSa1X7iA.wav', '-taO6N-rxv4.wav', '-5xOcMJpTUk.wav', '-R0267o4lLk.wav', '0PMFAO4TIU4.wav', '0NTzOtVmoiU.wav', '-7wUQP6G5EQ.wav', '-kpR93atgd8.wav', '07FxCXxknY4.wav', '0ADP-O_V3vA.wav', '-DeAdhYKbGE.wav', '-6QGvxvaTkI.wav', '-m5ZlWziIeA.wav', '-w4HLksto_k.wav', '0H3FAoDgzhI.wav', '0HXYdGGKV2k.wav', '-3Kv4fdm7Uk.wav', '-oP-XX28B0s.wav', '0Q1JLNfm8oU.wav', '-o0ZtQIkM60.wav', '0Wdh45yt7tY.wav', '01PzcPKT3_E.wav', '-0xzrMun0Rs.wav', '-0Gj8-vB1q4.wav', '-W5c6CeUMPE.wav', '0ZXWSO_Y2C0.wav', '02Qntw26enM.wav', '-Umconw-CRE.wav', '-fxh7jAJR8U.wav', '0_XItMAYkwc.wav', '-BHPu-dPmWQ.wav', '-SD43H5B5hE.wav', '08mf5GxT820.wav', '-w8maIWtnUk.wav', '0hfU27A6tus.wav', '-tpq_bzSKes.wav', '0fiOM---7QI.wav', '0S5zWt91Bwo.wav', '-FlvaZQOr2I.wav', '-NmjCyqIavI.wav', '-IZbvEO9wzU.wav', '-f6s6kQEHFY.wav', '0Gxn9FtaJFc.wav', '08u-jdwjM74.wav', '-r7iz-9v9bA.wav', '-6pcgdLfb_A.wav', '0SnjS2w_c80.wav', '-M-6VinyMiY.wav', '0bvPjMQ_WbE.wav', '0RpkkfkUBRU.wav', '-EVRXQpt1-8.wav', '0ZNFJz-eZTU.wav', '-XkbErI_7EU.wav', '-w12aSkQ9No.wav', '-nlkWWphiaM.wav', '09lQmg2wvsY.wav', '0a6uLBmqZgA.wav', '0JbGxIR8JTk.wav', '0-7PyzhzuYQ.wav', '-i9gpG3vPwA.wav', '-JvB5AL59fM.wav', '-8cgbhIR_pw.wav', '0EzWmAPwoTs.wav', '-4SYC2YgzL8.wav', '06Brdf83RZE.wav', '07mS0mSTDjY.wav', '0QAaln-hjPw.wav', '0298WjE3_tk.wav', '0_hH79HnEdo.wav', '-0SdAVK79lg.wav', '-UuEBhule84.wav', '-rAhS48FkYw.wav', '-YIT4HBM__g.wav', '-hSMzrWZCAE.wav', '-eDAoheZrY8.wav', '-8C-gydUbR8.wav', '-SWaCArvQug.wav', '-mA_bqD1tgU.wav', '-f1DNyngKVY.wav', '-5FoeegAgvU.wav', '-qcTD2o6I9s.wav', '-4NLarMj4xU.wav', '01hjVJN9xCg.wav', '0L2ndtt60Q8.wav', '0VwX92X3iPc.wav', '-ByoSbgzr4M.wav', '0c1YU_VtFRE.wav', '-T4GeTHKtJQ.wav', '05JAmKFVy44.wav', '-RYtUAsNhF0.wav', '0RDz0rLakwc.wav', '-JVWfFPBl84.wav', '-_6RxZyi30Q.wav', '0KCVgexi4yU.wav', '-zOybsEdM5E.wav', '-OAyRsvFGgc.wav', '-dVgUSrR8g4.wav', '-YATTKBtmRA.wav', '-U16iKiXGuY.wav', '0ISHZQJdeSw.wav', '0AGHo8V8HpM.wav', '-wVWjl9Kq6U.wav', '-e4wXAy1iVo.wav', '-7B9tPuIP-w.wav', '-cQ-jUTEgck.wav', '-5f6hjZf9Yw.wav']\n"
          ]
        }
      ]
    },
    {
      "cell_type": "markdown",
      "source": [
        "\n",
        "函数封装：将创建和使用训练器的代码封装在一个函数中。这有助于在函数结束时自动销毁局部变量，包括训练器实例。但这只在训练器没有修改全局状态或在内部维持静态/全局变量的情况下有效。\n",
        "或者每次注释掉一个transformer，然后重启运行\n",
        "\n",
        "防止触发\n",
        "\n",
        "AssertionError: only one Trainer can be instantiated at a time for training\n",
        "\n"
      ],
      "metadata": {
        "id": "UEeqmyGSnjHX"
      }
    },
    {
      "cell_type": "markdown",
      "source": [
        "# 四、加载训练AudioLM\n",
        "\n",
        "##训练三个 transformer\n",
        "\n",
        "这三个transformer是 audioLM里面的"
      ],
      "metadata": {
        "id": "2wx4s8rvehjw"
      }
    },
    {
      "cell_type": "code",
      "source": [
        "\n",
        "!pip install tensorboardX\n",
        "\n",
        "!pip install nltk\n",
        "\n",
        "!pip install librosa\n"
      ],
      "metadata": {
        "colab": {
          "base_uri": "https://localhost:8080/"
        },
        "id": "OnMT1H10_XTq",
        "outputId": "e0c9ee8a-2848-40c9-8c96-71542db3249c"
      },
      "execution_count": 16,
      "outputs": [
        {
          "output_type": "stream",
          "name": "stdout",
          "text": [
            "Collecting tensorboardX\n",
            "  Downloading tensorboardX-2.6.2.2-py2.py3-none-any.whl (101 kB)\n",
            "\u001b[?25l     \u001b[90m━━━━━━━━━━━━━━━━━━━━━━━━━━━━━━━━━━━━━━━━\u001b[0m \u001b[32m0.0/101.7 kB\u001b[0m \u001b[31m?\u001b[0m eta \u001b[36m-:--:--\u001b[0m\r\u001b[2K     \u001b[91m━━━━━━━━━━━━━━━━━━━━━━━━\u001b[0m\u001b[90m╺\u001b[0m\u001b[90m━━━━━━━━━━━━━━━\u001b[0m \u001b[32m61.4/101.7 kB\u001b[0m \u001b[31m1.9 MB/s\u001b[0m eta \u001b[36m0:00:01\u001b[0m\r\u001b[2K     \u001b[90m━━━━━━━━━━━━━━━━━━━━━━━━━━━━━━━━━━━━━━━━\u001b[0m \u001b[32m101.7/101.7 kB\u001b[0m \u001b[31m2.1 MB/s\u001b[0m eta \u001b[36m0:00:00\u001b[0m\n",
            "\u001b[?25hRequirement already satisfied: numpy in /usr/local/lib/python3.10/dist-packages (from tensorboardX) (1.23.5)\n",
            "Requirement already satisfied: packaging in /usr/local/lib/python3.10/dist-packages (from tensorboardX) (23.2)\n",
            "Requirement already satisfied: protobuf>=3.20 in /usr/local/lib/python3.10/dist-packages (from tensorboardX) (3.20.3)\n",
            "Installing collected packages: tensorboardX\n",
            "Successfully installed tensorboardX-2.6.2.2\n",
            "Requirement already satisfied: nltk in /usr/local/lib/python3.10/dist-packages (3.8.1)\n",
            "Requirement already satisfied: click in /usr/local/lib/python3.10/dist-packages (from nltk) (8.1.7)\n",
            "Requirement already satisfied: joblib in /usr/local/lib/python3.10/dist-packages (from nltk) (1.3.2)\n",
            "Requirement already satisfied: regex>=2021.8.3 in /usr/local/lib/python3.10/dist-packages (from nltk) (2023.6.3)\n",
            "Requirement already satisfied: tqdm in /usr/local/lib/python3.10/dist-packages (from nltk) (4.66.1)\n",
            "Requirement already satisfied: librosa in /usr/local/lib/python3.10/dist-packages (0.10.1)\n",
            "Requirement already satisfied: audioread>=2.1.9 in /usr/local/lib/python3.10/dist-packages (from librosa) (3.0.1)\n",
            "Requirement already satisfied: numpy!=1.22.0,!=1.22.1,!=1.22.2,>=1.20.3 in /usr/local/lib/python3.10/dist-packages (from librosa) (1.23.5)\n",
            "Requirement already satisfied: scipy>=1.2.0 in /usr/local/lib/python3.10/dist-packages (from librosa) (1.11.3)\n",
            "Requirement already satisfied: scikit-learn>=0.20.0 in /usr/local/lib/python3.10/dist-packages (from librosa) (1.2.2)\n",
            "Requirement already satisfied: joblib>=0.14 in /usr/local/lib/python3.10/dist-packages (from librosa) (1.3.2)\n",
            "Requirement already satisfied: decorator>=4.3.0 in /usr/local/lib/python3.10/dist-packages (from librosa) (4.4.2)\n",
            "Requirement already satisfied: numba>=0.51.0 in /usr/local/lib/python3.10/dist-packages (from librosa) (0.58.1)\n",
            "Requirement already satisfied: soundfile>=0.12.1 in /usr/local/lib/python3.10/dist-packages (from librosa) (0.12.1)\n",
            "Requirement already satisfied: pooch>=1.0 in /usr/local/lib/python3.10/dist-packages (from librosa) (1.8.0)\n",
            "Requirement already satisfied: soxr>=0.3.2 in /usr/local/lib/python3.10/dist-packages (from librosa) (0.3.7)\n",
            "Requirement already satisfied: typing-extensions>=4.1.1 in /usr/local/lib/python3.10/dist-packages (from librosa) (4.5.0)\n",
            "Requirement already satisfied: lazy-loader>=0.1 in /usr/local/lib/python3.10/dist-packages (from librosa) (0.3)\n",
            "Requirement already satisfied: msgpack>=1.0 in /usr/local/lib/python3.10/dist-packages (from librosa) (1.0.7)\n",
            "Requirement already satisfied: llvmlite<0.42,>=0.41.0dev0 in /usr/local/lib/python3.10/dist-packages (from numba>=0.51.0->librosa) (0.41.1)\n",
            "Requirement already satisfied: platformdirs>=2.5.0 in /usr/local/lib/python3.10/dist-packages (from pooch>=1.0->librosa) (3.11.0)\n",
            "Requirement already satisfied: packaging>=20.0 in /usr/local/lib/python3.10/dist-packages (from pooch>=1.0->librosa) (23.2)\n",
            "Requirement already satisfied: requests>=2.19.0 in /usr/local/lib/python3.10/dist-packages (from pooch>=1.0->librosa) (2.31.0)\n",
            "Requirement already satisfied: threadpoolctl>=2.0.0 in /usr/local/lib/python3.10/dist-packages (from scikit-learn>=0.20.0->librosa) (3.2.0)\n",
            "Requirement already satisfied: cffi>=1.0 in /usr/local/lib/python3.10/dist-packages (from soundfile>=0.12.1->librosa) (1.16.0)\n",
            "Requirement already satisfied: pycparser in /usr/local/lib/python3.10/dist-packages (from cffi>=1.0->soundfile>=0.12.1->librosa) (2.21)\n",
            "Requirement already satisfied: charset-normalizer<4,>=2 in /usr/local/lib/python3.10/dist-packages (from requests>=2.19.0->pooch>=1.0->librosa) (3.3.2)\n",
            "Requirement already satisfied: idna<4,>=2.5 in /usr/local/lib/python3.10/dist-packages (from requests>=2.19.0->pooch>=1.0->librosa) (3.4)\n",
            "Requirement already satisfied: urllib3<3,>=1.21.1 in /usr/local/lib/python3.10/dist-packages (from requests>=2.19.0->pooch>=1.0->librosa) (2.0.7)\n",
            "Requirement already satisfied: certifi>=2017.4.17 in /usr/local/lib/python3.10/dist-packages (from requests>=2.19.0->pooch>=1.0->librosa) (2023.7.22)\n"
          ]
        }
      ]
    },
    {
      "cell_type": "code",
      "source": [
        "! pip install audiolm_pytorch\n"
      ],
      "metadata": {
        "colab": {
          "base_uri": "https://localhost:8080/"
        },
        "id": "NdG2xhMtvPOg",
        "outputId": "3c447d5b-a1eb-4f75-96f0-6b7b257730f6"
      },
      "execution_count": 17,
      "outputs": [
        {
          "output_type": "stream",
          "name": "stdout",
          "text": [
            "Requirement already satisfied: audiolm_pytorch in /usr/local/lib/python3.10/dist-packages (1.7.6)\n",
            "Requirement already satisfied: accelerate>=0.24.0 in /usr/local/lib/python3.10/dist-packages (from audiolm_pytorch) (0.24.1)\n",
            "Requirement already satisfied: beartype>=0.16.1 in /usr/local/lib/python3.10/dist-packages (from audiolm_pytorch) (0.16.4)\n",
            "Requirement already satisfied: einops>=0.7.0 in /usr/local/lib/python3.10/dist-packages (from audiolm_pytorch) (0.7.0)\n",
            "Requirement already satisfied: ema-pytorch>=0.2.2 in /usr/local/lib/python3.10/dist-packages (from audiolm_pytorch) (0.3.0)\n",
            "Requirement already satisfied: encodec in /usr/local/lib/python3.10/dist-packages (from audiolm_pytorch) (0.1.1)\n",
            "Requirement already satisfied: fairseq in /usr/local/lib/python3.10/dist-packages (from audiolm_pytorch) (0.12.2)\n",
            "Requirement already satisfied: joblib in /usr/local/lib/python3.10/dist-packages (from audiolm_pytorch) (1.3.2)\n",
            "Requirement already satisfied: lion-pytorch in /usr/local/lib/python3.10/dist-packages (from audiolm_pytorch) (0.1.2)\n",
            "Requirement already satisfied: local-attention>=1.9.0 in /usr/local/lib/python3.10/dist-packages (from audiolm_pytorch) (1.9.0)\n",
            "Requirement already satisfied: scikit-learn in /usr/local/lib/python3.10/dist-packages (from audiolm_pytorch) (1.2.2)\n",
            "Requirement already satisfied: sentencepiece in /usr/local/lib/python3.10/dist-packages (from audiolm_pytorch) (0.1.99)\n",
            "Requirement already satisfied: torch>=1.12 in /usr/local/lib/python3.10/dist-packages (from audiolm_pytorch) (2.1.0+cu118)\n",
            "Requirement already satisfied: torchaudio in /usr/local/lib/python3.10/dist-packages (from audiolm_pytorch) (2.1.0+cu118)\n",
            "Requirement already satisfied: transformers in /usr/local/lib/python3.10/dist-packages (from audiolm_pytorch) (4.35.0)\n",
            "Requirement already satisfied: tqdm in /usr/local/lib/python3.10/dist-packages (from audiolm_pytorch) (4.66.1)\n",
            "Requirement already satisfied: vector-quantize-pytorch>=1.11.3 in /usr/local/lib/python3.10/dist-packages (from audiolm_pytorch) (1.11.7)\n",
            "Requirement already satisfied: numpy>=1.17 in /usr/local/lib/python3.10/dist-packages (from accelerate>=0.24.0->audiolm_pytorch) (1.23.5)\n",
            "Requirement already satisfied: packaging>=20.0 in /usr/local/lib/python3.10/dist-packages (from accelerate>=0.24.0->audiolm_pytorch) (23.2)\n",
            "Requirement already satisfied: psutil in /usr/local/lib/python3.10/dist-packages (from accelerate>=0.24.0->audiolm_pytorch) (5.9.5)\n",
            "Requirement already satisfied: pyyaml in /usr/local/lib/python3.10/dist-packages (from accelerate>=0.24.0->audiolm_pytorch) (6.0.1)\n",
            "Requirement already satisfied: huggingface-hub in /usr/local/lib/python3.10/dist-packages (from accelerate>=0.24.0->audiolm_pytorch) (0.17.3)\n",
            "Requirement already satisfied: filelock in /usr/local/lib/python3.10/dist-packages (from torch>=1.12->audiolm_pytorch) (3.13.1)\n",
            "Requirement already satisfied: typing-extensions in /usr/local/lib/python3.10/dist-packages (from torch>=1.12->audiolm_pytorch) (4.5.0)\n",
            "Requirement already satisfied: sympy in /usr/local/lib/python3.10/dist-packages (from torch>=1.12->audiolm_pytorch) (1.12)\n",
            "Requirement already satisfied: networkx in /usr/local/lib/python3.10/dist-packages (from torch>=1.12->audiolm_pytorch) (3.2.1)\n",
            "Requirement already satisfied: jinja2 in /usr/local/lib/python3.10/dist-packages (from torch>=1.12->audiolm_pytorch) (3.1.2)\n",
            "Requirement already satisfied: fsspec in /usr/local/lib/python3.10/dist-packages (from torch>=1.12->audiolm_pytorch) (2023.6.0)\n",
            "Requirement already satisfied: triton==2.1.0 in /usr/local/lib/python3.10/dist-packages (from torch>=1.12->audiolm_pytorch) (2.1.0)\n",
            "Requirement already satisfied: cffi in /usr/local/lib/python3.10/dist-packages (from fairseq->audiolm_pytorch) (1.16.0)\n",
            "Requirement already satisfied: cython in /usr/local/lib/python3.10/dist-packages (from fairseq->audiolm_pytorch) (3.0.5)\n",
            "Requirement already satisfied: hydra-core<1.1,>=1.0.7 in /usr/local/lib/python3.10/dist-packages (from fairseq->audiolm_pytorch) (1.0.7)\n",
            "Requirement already satisfied: omegaconf<2.1 in /usr/local/lib/python3.10/dist-packages (from fairseq->audiolm_pytorch) (2.0.6)\n",
            "Requirement already satisfied: regex in /usr/local/lib/python3.10/dist-packages (from fairseq->audiolm_pytorch) (2023.6.3)\n",
            "Requirement already satisfied: sacrebleu>=1.4.12 in /usr/local/lib/python3.10/dist-packages (from fairseq->audiolm_pytorch) (2.3.2)\n",
            "Requirement already satisfied: bitarray in /usr/local/lib/python3.10/dist-packages (from fairseq->audiolm_pytorch) (2.8.3)\n",
            "Requirement already satisfied: scipy>=1.3.2 in /usr/local/lib/python3.10/dist-packages (from scikit-learn->audiolm_pytorch) (1.11.3)\n",
            "Requirement already satisfied: threadpoolctl>=2.0.0 in /usr/local/lib/python3.10/dist-packages (from scikit-learn->audiolm_pytorch) (3.2.0)\n",
            "Requirement already satisfied: requests in /usr/local/lib/python3.10/dist-packages (from transformers->audiolm_pytorch) (2.31.0)\n",
            "Requirement already satisfied: tokenizers<0.15,>=0.14 in /usr/local/lib/python3.10/dist-packages (from transformers->audiolm_pytorch) (0.14.1)\n",
            "Requirement already satisfied: safetensors>=0.3.1 in /usr/local/lib/python3.10/dist-packages (from transformers->audiolm_pytorch) (0.4.0)\n",
            "Requirement already satisfied: antlr4-python3-runtime==4.8 in /usr/local/lib/python3.10/dist-packages (from hydra-core<1.1,>=1.0.7->fairseq->audiolm_pytorch) (4.8)\n",
            "Requirement already satisfied: portalocker in /usr/local/lib/python3.10/dist-packages (from sacrebleu>=1.4.12->fairseq->audiolm_pytorch) (2.8.2)\n",
            "Requirement already satisfied: tabulate>=0.8.9 in /usr/local/lib/python3.10/dist-packages (from sacrebleu>=1.4.12->fairseq->audiolm_pytorch) (0.9.0)\n",
            "Requirement already satisfied: colorama in /usr/local/lib/python3.10/dist-packages (from sacrebleu>=1.4.12->fairseq->audiolm_pytorch) (0.4.6)\n",
            "Requirement already satisfied: lxml in /usr/local/lib/python3.10/dist-packages (from sacrebleu>=1.4.12->fairseq->audiolm_pytorch) (4.9.3)\n",
            "Requirement already satisfied: pycparser in /usr/local/lib/python3.10/dist-packages (from cffi->fairseq->audiolm_pytorch) (2.21)\n",
            "Requirement already satisfied: MarkupSafe>=2.0 in /usr/local/lib/python3.10/dist-packages (from jinja2->torch>=1.12->audiolm_pytorch) (2.1.3)\n",
            "Requirement already satisfied: charset-normalizer<4,>=2 in /usr/local/lib/python3.10/dist-packages (from requests->transformers->audiolm_pytorch) (3.3.2)\n",
            "Requirement already satisfied: idna<4,>=2.5 in /usr/local/lib/python3.10/dist-packages (from requests->transformers->audiolm_pytorch) (3.4)\n",
            "Requirement already satisfied: urllib3<3,>=1.21.1 in /usr/local/lib/python3.10/dist-packages (from requests->transformers->audiolm_pytorch) (2.0.7)\n",
            "Requirement already satisfied: certifi>=2017.4.17 in /usr/local/lib/python3.10/dist-packages (from requests->transformers->audiolm_pytorch) (2023.7.22)\n",
            "Requirement already satisfied: mpmath>=0.19 in /usr/local/lib/python3.10/dist-packages (from sympy->torch>=1.12->audiolm_pytorch) (1.3.0)\n"
          ]
        }
      ]
    },
    {
      "cell_type": "markdown",
      "source": [
        "## 数据处理，音频和.csv文本做预处理\n",
        "\n",
        "数据用不到，但是代码可以用来处理数据和音频的对齐。\n"
      ],
      "metadata": {
        "id": "ph2Asy1Efcsu"
      }
    },
    {
      "cell_type": "code",
      "source": [
        "# # process_audio.py\n",
        "# import librosa\n",
        "# import numpy as np\n",
        "# import pandas as pd\n",
        "# from nltk.tokenize import word_tokenize\n",
        "# import nltk\n",
        "# import torch\n",
        "# import os\n",
        "# import pickle\n",
        "\n",
        "# nltk.download('punkt')\n",
        "\n",
        "# def load_audio_file(file_path, sr=22050):\n",
        "#     # 加载音频文件\n",
        "#     # 'sr' 是采样率，22050 是常用值\n",
        "#     audio, _ = librosa.load(file_path, sr=sr)\n",
        "#     return audio\n",
        "\n",
        "\n",
        "# def audio_to_melspectrogram(audio, sr=22050, n_mels=128, hop_length=512):\n",
        "#     # 将音频转换为梅尔频谱图\n",
        "#     melspec = librosa.feature.melspectrogram(audio, sr=sr, n_mels=n_mels, hop_length=hop_length)\n",
        "#     melspec = librosa.power_to_db(melspec, ref=np.max)\n",
        "#     return melspec\n",
        "\n",
        "\n",
        "# def process_audio_files(file_paths, sr=22050, n_mels=128, hop_length=512):\n",
        "#     processed_audios = []\n",
        "#     valid_indices = []  # 用于存储有效音频的索引\n",
        "\n",
        "#     for index, file_path in enumerate(file_paths):\n",
        "#         try:\n",
        "#             # 尝试加载和预处理音频文件\n",
        "#             audio = load_audio_file(file_path, sr=sr)\n",
        "#             melspec = audio_to_melspectrogram(audio, sr=sr, n_mels=n_mels, hop_length=hop_length)\n",
        "#             processed_audios.append(melspec)\n",
        "#             valid_indices.append(index)\n",
        "#         except Exception as e:\n",
        "#             print(f\"Error processing {file_path}: {e}\")\n",
        "\n",
        "#     return processed_audios, valid_indices\n",
        "\n",
        "\n",
        "\n",
        "# # 简单的文本预处理函数\n",
        "# def preprocess_text(text):\n",
        "#     # 转换为小写\n",
        "#     text = text.lower()\n",
        "#     # 基本标记化\n",
        "#     tokens = word_tokenize(text)\n",
        "#     return tokens\n",
        "\n",
        "# def main():\n",
        "#     # 加载 .csv 文件\n",
        "#     csv_file = 'musiccaps-public.csv'\n",
        "#     df = pd.read_csv(csv_file)\n",
        "\n",
        "#     # 提取字段作为文本数据\n",
        "\n",
        "#     captions = df['caption']\n",
        "#     aspect_list = df['aspect_list']\n",
        "\n",
        "#     # 应用预处理\n",
        "#     preprocessed_captions = [preprocess_text(text) for text in captions]\n",
        "#     preprocessed_aspects = [preprocess_text(text) for text in aspect_list]\n",
        "\n",
        "#     #  并行结合\n",
        "#     combined_data = list(zip(preprocessed_captions, preprocessed_aspects))\n",
        "\n",
        "\n",
        "\n",
        "#     # 提取音频文件名\n",
        "#     audio_filenames = df['ytid'].tolist()\n",
        "#     # 构建音频文件的完整路径\n",
        "#     audio_file_paths = [f'./downloaded_audios/{filename}.wav' for filename in audio_filenames]\n",
        "\n",
        "#     # 初始化计数器\n",
        "#     existing_files_count = 0\n",
        "\n",
        "#     # 检查每个音频文件是否存在\n",
        "#     for file_path in audio_file_paths:\n",
        "#         if os.path.exists(file_path):\n",
        "#             existing_files_count += 1\n",
        "\n",
        "#     print(f\"Total audio files in CSV: {len(audio_filenames)}\")\n",
        "#     print(f\"Existing audio files: {existing_files_count}\")\n",
        "\n",
        "\n",
        "#     # 预处理音频数据，并获取有效音频文件的索引\n",
        "#     audio_data, valid_audio_indices = process_audio_files(audio_file_paths)\n",
        "\n",
        "#     # 根据有效音频文件的索引来同步文本数据\n",
        "#     synced_text_data = [combined_data[i] for i in valid_audio_indices]\n",
        "\n",
        "\n",
        "#     # 确保长度相同, audio_data 和 combined_data 是一一对应的\n",
        "#     # assert len(audio_data) == len(synced_text_data)\n",
        "\n",
        "#     # 保存处理后的数据\n",
        "#     if not os.path.exists('processed_data'):\n",
        "#         os.makedirs('processed_data')\n",
        "\n",
        "#     with open('processed_data/audio_data.pkl', 'wb') as f:\n",
        "#         pickle.dump(audio_data, f)\n",
        "\n",
        "#     with open('processed_data/text_data.pkl', 'wb') as f:\n",
        "#         pickle.dump(synced_text_data, f)\n",
        "\n",
        "# if __name__ == \"__main__\":\n",
        "#     main()\n",
        "\n"
      ],
      "metadata": {
        "id": "yt-iEj1iuEFw"
      },
      "execution_count": 18,
      "outputs": []
    },
    {
      "cell_type": "markdown",
      "source": [
        "## 训练 Semantic Transformer"
      ],
      "metadata": {
        "id": "UCRKHdHOfzfz"
      }
    },
    {
      "cell_type": "code",
      "source": [
        "import torch\n",
        "from audiolm_pytorch import HubertWithKmeans\n",
        "from audiolm_pytorch import SemanticTransformer, SemanticTransformerTrainer\n",
        "from audiolm_pytorch import CoarseTransformer, CoarseTransformerTrainer\n",
        "from audiolm_pytorch import SoundStream, FineTransformer, FineTransformerTrainer\n",
        "from audiolm_pytorch import AudioLMSoundStream, AudioLM\n",
        "import gc  # 导入垃圾回收模块\n",
        "from musiclm_pytorch import MuLaNEmbedQuantizer\n",
        "from musiclm_pytorch import MuLaN, AudioSpectrogramTransformer, TextTransformer\n",
        "\n",
        "audio_transformer = AudioSpectrogramTransformer(\n",
        "    dim = 512,\n",
        "    depth = 6,\n",
        "    heads = 8,\n",
        "    dim_head = 64,\n",
        "    spec_n_fft = 128,\n",
        "    spec_win_length = 24,\n",
        "    spec_aug_stretch_factor = 0.8\n",
        ")\n",
        "\n",
        "text_transformer = TextTransformer(\n",
        "    dim = 512,\n",
        "    depth = 6,\n",
        "    heads = 8,\n",
        "    dim_head = 64\n",
        ")\n",
        "\n",
        "mulan = MuLaN(\n",
        "    audio_transformer = audio_transformer,\n",
        "    text_transformer = text_transformer\n",
        ")\n",
        "\n",
        "# setup the quantizer with the namespaced conditioning embeddings, unique per quantizer as well as namespace (per transformer)\n",
        "\n",
        "quantizer = MuLaNEmbedQuantizer(\n",
        "    mulan = mulan,                          # pass in trained mulan from above\n",
        "    conditioning_dims = (1024, 1024, 1024), # say all three transformers have model dimensions of 1024\n",
        "    namespaces = ('semantic', 'coarse', 'fine')\n",
        ")\n",
        "\n",
        "# now say you want the conditioning embeddings for semantic transformer\n",
        "\n",
        "wavs = torch.randn(2, 1024)\n",
        "conds = quantizer(wavs = wavs, namespace = 'semantic') # (2, 8, 1024) - 8 is number of quantizers\n",
        "\n",
        "# 公共变量\n",
        "checkpoint_path = 'hubert_base_ls960.pt'\n",
        "kmeans_path = 'hubert_base_ls960_L9_km500.bin'\n",
        "\n",
        "audio_output_dir = './downloaded_audios'\n",
        "batch_size = 1\n",
        "data_max_length = 320 * 32\n",
        "num_train_steps = 1_000_000\n",
        "\n",
        "# 函数：训练 SemanticTransformer\n",
        "def train_semantic_transformer():\n",
        "    wav2vec = HubertWithKmeans(\n",
        "        checkpoint_path=checkpoint_path,\n",
        "        kmeans_path=kmeans_path\n",
        "        )   # 每个函数中重新创建 wav2vec，后面会删掉\n",
        "\n",
        "\n",
        "    if torch.cuda.is_available():\n",
        "      semantic_transformer = SemanticTransformer(\n",
        "          num_semantic_tokens=wav2vec.codebook_size,\n",
        "          dim=1024,\n",
        "          depth=6,\n",
        "          audio_text_condition=True\n",
        "          ).cuda()\n",
        "    else:\n",
        "      semantic_transformer = SemanticTransformer(\n",
        "          num_semantic_tokens=wav2vec.codebook_size,\n",
        "          dim=1024,\n",
        "          depth=6,\n",
        "          audio_text_condition=True\n",
        "          )\n",
        "\n",
        "    trainer = SemanticTransformerTrainer(\n",
        "        transformer=semantic_transformer,\n",
        "        wav2vec=wav2vec,\n",
        "        audio_conditioner=quantizer,\n",
        "        folder=audio_output_dir,\n",
        "        batch_size=batch_size,\n",
        "        data_max_length=data_max_length,\n",
        "        num_train_steps=num_train_steps\n",
        "        )\n",
        "\n",
        "    trainer.train()\n",
        "    torch.save(semantic_transformer.state_dict(), 'semantic_transformer.pth')\n",
        "    print(\"save semantic_transformer.pth\")\n",
        "    del semantic_transformer, trainer, wav2vec\n",
        "    gc.collect()  # 执行垃圾回收\n",
        "\n",
        "\n",
        "\n",
        "\n",
        "train_semantic_transformer()\n"
      ],
      "metadata": {
        "colab": {
          "base_uri": "https://localhost:8080/"
        },
        "id": "LQLcpQlbXU92",
        "outputId": "e14cbcdb-b128-4e5c-d278-ab5e0b4bfb90"
      },
      "execution_count": 20,
      "outputs": [
        {
          "output_type": "stream",
          "name": "stdout",
          "text": [
            "training with dataset of 187 samples and validating with randomly splitted 10 samples\n",
            "0: loss: 6.437500476837158\n",
            "0: valid loss 6.2922563552856445\n",
            "0: saving model to results\n",
            "training complete\n",
            "save semantic_transformer.pth\n"
          ]
        }
      ]
    },
    {
      "cell_type": "markdown",
      "source": [
        "## 训练 Coarse Transformer"
      ],
      "metadata": {
        "id": "HAqhFV5ogAds"
      }
    },
    {
      "cell_type": "markdown",
      "source": [
        "重启代码后，直接运行后面代码"
      ],
      "metadata": {
        "id": "J-AMmcsByjS5"
      }
    },
    {
      "cell_type": "code",
      "source": [
        "# 重启也要运行\n",
        "!pip install musiclm-pytorch\n",
        "!pip install --upgrade tensorflow tensorflow-io\n",
        "!pip install audiolm_pytorch\n"
      ],
      "metadata": {
        "colab": {
          "base_uri": "https://localhost:8080/"
        },
        "id": "bxr4yFQ2yh0M",
        "outputId": "9ead6916-af35-4f74-e319-f657e5d4ee65"
      },
      "execution_count": 1,
      "outputs": [
        {
          "output_type": "stream",
          "name": "stdout",
          "text": [
            "Requirement already satisfied: musiclm-pytorch in /usr/local/lib/python3.10/dist-packages (0.2.8)\n",
            "Requirement already satisfied: accelerate in /usr/local/lib/python3.10/dist-packages (from musiclm-pytorch) (0.24.1)\n",
            "Requirement already satisfied: audiolm-pytorch>=0.17.0 in /usr/local/lib/python3.10/dist-packages (from musiclm-pytorch) (1.7.6)\n",
            "Requirement already satisfied: beartype in /usr/local/lib/python3.10/dist-packages (from musiclm-pytorch) (0.16.4)\n",
            "Requirement already satisfied: einops>=0.6 in /usr/local/lib/python3.10/dist-packages (from musiclm-pytorch) (0.7.0)\n",
            "Requirement already satisfied: lion-pytorch in /usr/local/lib/python3.10/dist-packages (from musiclm-pytorch) (0.1.2)\n",
            "Requirement already satisfied: vector-quantize-pytorch>=1.0.0 in /usr/local/lib/python3.10/dist-packages (from musiclm-pytorch) (1.11.7)\n",
            "Requirement already satisfied: x-clip in /usr/local/lib/python3.10/dist-packages (from musiclm-pytorch) (0.14.4)\n",
            "Requirement already satisfied: torch>=1.12 in /usr/local/lib/python3.10/dist-packages (from musiclm-pytorch) (2.1.0+cu118)\n",
            "Requirement already satisfied: torchaudio in /usr/local/lib/python3.10/dist-packages (from musiclm-pytorch) (2.1.0+cu118)\n",
            "Requirement already satisfied: ema-pytorch>=0.2.2 in /usr/local/lib/python3.10/dist-packages (from audiolm-pytorch>=0.17.0->musiclm-pytorch) (0.3.0)\n",
            "Requirement already satisfied: encodec in /usr/local/lib/python3.10/dist-packages (from audiolm-pytorch>=0.17.0->musiclm-pytorch) (0.1.1)\n",
            "Requirement already satisfied: fairseq in /usr/local/lib/python3.10/dist-packages (from audiolm-pytorch>=0.17.0->musiclm-pytorch) (0.12.2)\n",
            "Requirement already satisfied: joblib in /usr/local/lib/python3.10/dist-packages (from audiolm-pytorch>=0.17.0->musiclm-pytorch) (1.3.2)\n",
            "Requirement already satisfied: local-attention>=1.9.0 in /usr/local/lib/python3.10/dist-packages (from audiolm-pytorch>=0.17.0->musiclm-pytorch) (1.9.0)\n",
            "Requirement already satisfied: scikit-learn in /usr/local/lib/python3.10/dist-packages (from audiolm-pytorch>=0.17.0->musiclm-pytorch) (1.2.2)\n",
            "Requirement already satisfied: sentencepiece in /usr/local/lib/python3.10/dist-packages (from audiolm-pytorch>=0.17.0->musiclm-pytorch) (0.1.99)\n",
            "Requirement already satisfied: transformers in /usr/local/lib/python3.10/dist-packages (from audiolm-pytorch>=0.17.0->musiclm-pytorch) (4.35.0)\n",
            "Requirement already satisfied: tqdm in /usr/local/lib/python3.10/dist-packages (from audiolm-pytorch>=0.17.0->musiclm-pytorch) (4.66.1)\n",
            "Requirement already satisfied: numpy>=1.17 in /usr/local/lib/python3.10/dist-packages (from accelerate->musiclm-pytorch) (1.23.5)\n",
            "Requirement already satisfied: packaging>=20.0 in /usr/local/lib/python3.10/dist-packages (from accelerate->musiclm-pytorch) (23.2)\n",
            "Requirement already satisfied: psutil in /usr/local/lib/python3.10/dist-packages (from accelerate->musiclm-pytorch) (5.9.5)\n",
            "Requirement already satisfied: pyyaml in /usr/local/lib/python3.10/dist-packages (from accelerate->musiclm-pytorch) (6.0.1)\n",
            "Requirement already satisfied: huggingface-hub in /usr/local/lib/python3.10/dist-packages (from accelerate->musiclm-pytorch) (0.17.3)\n",
            "Requirement already satisfied: filelock in /usr/local/lib/python3.10/dist-packages (from torch>=1.12->musiclm-pytorch) (3.13.1)\n",
            "Requirement already satisfied: typing-extensions in /usr/local/lib/python3.10/dist-packages (from torch>=1.12->musiclm-pytorch) (4.5.0)\n",
            "Requirement already satisfied: sympy in /usr/local/lib/python3.10/dist-packages (from torch>=1.12->musiclm-pytorch) (1.12)\n",
            "Requirement already satisfied: networkx in /usr/local/lib/python3.10/dist-packages (from torch>=1.12->musiclm-pytorch) (3.2.1)\n",
            "Requirement already satisfied: jinja2 in /usr/local/lib/python3.10/dist-packages (from torch>=1.12->musiclm-pytorch) (3.1.2)\n",
            "Requirement already satisfied: fsspec in /usr/local/lib/python3.10/dist-packages (from torch>=1.12->musiclm-pytorch) (2023.6.0)\n",
            "Requirement already satisfied: triton==2.1.0 in /usr/local/lib/python3.10/dist-packages (from torch>=1.12->musiclm-pytorch) (2.1.0)\n",
            "Requirement already satisfied: ftfy in /usr/local/lib/python3.10/dist-packages (from x-clip->musiclm-pytorch) (6.1.1)\n",
            "Requirement already satisfied: regex in /usr/local/lib/python3.10/dist-packages (from x-clip->musiclm-pytorch) (2023.6.3)\n",
            "Requirement already satisfied: torchvision in /usr/local/lib/python3.10/dist-packages (from x-clip->musiclm-pytorch) (0.16.0+cu118)\n",
            "Requirement already satisfied: cffi in /usr/local/lib/python3.10/dist-packages (from fairseq->audiolm-pytorch>=0.17.0->musiclm-pytorch) (1.16.0)\n",
            "Requirement already satisfied: cython in /usr/local/lib/python3.10/dist-packages (from fairseq->audiolm-pytorch>=0.17.0->musiclm-pytorch) (3.0.5)\n",
            "Requirement already satisfied: hydra-core<1.1,>=1.0.7 in /usr/local/lib/python3.10/dist-packages (from fairseq->audiolm-pytorch>=0.17.0->musiclm-pytorch) (1.0.7)\n",
            "Requirement already satisfied: omegaconf<2.1 in /usr/local/lib/python3.10/dist-packages (from fairseq->audiolm-pytorch>=0.17.0->musiclm-pytorch) (2.0.6)\n",
            "Requirement already satisfied: sacrebleu>=1.4.12 in /usr/local/lib/python3.10/dist-packages (from fairseq->audiolm-pytorch>=0.17.0->musiclm-pytorch) (2.3.2)\n",
            "Requirement already satisfied: bitarray in /usr/local/lib/python3.10/dist-packages (from fairseq->audiolm-pytorch>=0.17.0->musiclm-pytorch) (2.8.3)\n",
            "Requirement already satisfied: wcwidth>=0.2.5 in /usr/local/lib/python3.10/dist-packages (from ftfy->x-clip->musiclm-pytorch) (0.2.9)\n",
            "Requirement already satisfied: requests in /usr/local/lib/python3.10/dist-packages (from huggingface-hub->accelerate->musiclm-pytorch) (2.31.0)\n",
            "Requirement already satisfied: MarkupSafe>=2.0 in /usr/local/lib/python3.10/dist-packages (from jinja2->torch>=1.12->musiclm-pytorch) (2.1.3)\n",
            "Requirement already satisfied: scipy>=1.3.2 in /usr/local/lib/python3.10/dist-packages (from scikit-learn->audiolm-pytorch>=0.17.0->musiclm-pytorch) (1.11.3)\n",
            "Requirement already satisfied: threadpoolctl>=2.0.0 in /usr/local/lib/python3.10/dist-packages (from scikit-learn->audiolm-pytorch>=0.17.0->musiclm-pytorch) (3.2.0)\n",
            "Requirement already satisfied: mpmath>=0.19 in /usr/local/lib/python3.10/dist-packages (from sympy->torch>=1.12->musiclm-pytorch) (1.3.0)\n",
            "Requirement already satisfied: pillow!=8.3.*,>=5.3.0 in /usr/local/lib/python3.10/dist-packages (from torchvision->x-clip->musiclm-pytorch) (9.4.0)\n",
            "Requirement already satisfied: tokenizers<0.15,>=0.14 in /usr/local/lib/python3.10/dist-packages (from transformers->audiolm-pytorch>=0.17.0->musiclm-pytorch) (0.14.1)\n",
            "Requirement already satisfied: safetensors>=0.3.1 in /usr/local/lib/python3.10/dist-packages (from transformers->audiolm-pytorch>=0.17.0->musiclm-pytorch) (0.4.0)\n",
            "Requirement already satisfied: antlr4-python3-runtime==4.8 in /usr/local/lib/python3.10/dist-packages (from hydra-core<1.1,>=1.0.7->fairseq->audiolm-pytorch>=0.17.0->musiclm-pytorch) (4.8)\n",
            "Requirement already satisfied: portalocker in /usr/local/lib/python3.10/dist-packages (from sacrebleu>=1.4.12->fairseq->audiolm-pytorch>=0.17.0->musiclm-pytorch) (2.8.2)\n",
            "Requirement already satisfied: tabulate>=0.8.9 in /usr/local/lib/python3.10/dist-packages (from sacrebleu>=1.4.12->fairseq->audiolm-pytorch>=0.17.0->musiclm-pytorch) (0.9.0)\n",
            "Requirement already satisfied: colorama in /usr/local/lib/python3.10/dist-packages (from sacrebleu>=1.4.12->fairseq->audiolm-pytorch>=0.17.0->musiclm-pytorch) (0.4.6)\n",
            "Requirement already satisfied: lxml in /usr/local/lib/python3.10/dist-packages (from sacrebleu>=1.4.12->fairseq->audiolm-pytorch>=0.17.0->musiclm-pytorch) (4.9.3)\n",
            "Requirement already satisfied: pycparser in /usr/local/lib/python3.10/dist-packages (from cffi->fairseq->audiolm-pytorch>=0.17.0->musiclm-pytorch) (2.21)\n",
            "Requirement already satisfied: charset-normalizer<4,>=2 in /usr/local/lib/python3.10/dist-packages (from requests->huggingface-hub->accelerate->musiclm-pytorch) (3.3.2)\n",
            "Requirement already satisfied: idna<4,>=2.5 in /usr/local/lib/python3.10/dist-packages (from requests->huggingface-hub->accelerate->musiclm-pytorch) (3.4)\n",
            "Requirement already satisfied: urllib3<3,>=1.21.1 in /usr/local/lib/python3.10/dist-packages (from requests->huggingface-hub->accelerate->musiclm-pytorch) (2.0.7)\n",
            "Requirement already satisfied: certifi>=2017.4.17 in /usr/local/lib/python3.10/dist-packages (from requests->huggingface-hub->accelerate->musiclm-pytorch) (2023.7.22)\n",
            "Requirement already satisfied: tensorflow in /usr/local/lib/python3.10/dist-packages (2.14.0)\n",
            "Requirement already satisfied: tensorflow-io in /usr/local/lib/python3.10/dist-packages (0.34.0)\n",
            "Requirement already satisfied: absl-py>=1.0.0 in /usr/local/lib/python3.10/dist-packages (from tensorflow) (1.4.0)\n",
            "Requirement already satisfied: astunparse>=1.6.0 in /usr/local/lib/python3.10/dist-packages (from tensorflow) (1.6.3)\n",
            "Requirement already satisfied: flatbuffers>=23.5.26 in /usr/local/lib/python3.10/dist-packages (from tensorflow) (23.5.26)\n",
            "Requirement already satisfied: gast!=0.5.0,!=0.5.1,!=0.5.2,>=0.2.1 in /usr/local/lib/python3.10/dist-packages (from tensorflow) (0.5.4)\n",
            "Requirement already satisfied: google-pasta>=0.1.1 in /usr/local/lib/python3.10/dist-packages (from tensorflow) (0.2.0)\n",
            "Requirement already satisfied: h5py>=2.9.0 in /usr/local/lib/python3.10/dist-packages (from tensorflow) (3.9.0)\n",
            "Requirement already satisfied: libclang>=13.0.0 in /usr/local/lib/python3.10/dist-packages (from tensorflow) (16.0.6)\n",
            "Requirement already satisfied: ml-dtypes==0.2.0 in /usr/local/lib/python3.10/dist-packages (from tensorflow) (0.2.0)\n",
            "Requirement already satisfied: numpy>=1.23.5 in /usr/local/lib/python3.10/dist-packages (from tensorflow) (1.23.5)\n",
            "Requirement already satisfied: opt-einsum>=2.3.2 in /usr/local/lib/python3.10/dist-packages (from tensorflow) (3.3.0)\n",
            "Requirement already satisfied: packaging in /usr/local/lib/python3.10/dist-packages (from tensorflow) (23.2)\n",
            "Requirement already satisfied: protobuf!=4.21.0,!=4.21.1,!=4.21.2,!=4.21.3,!=4.21.4,!=4.21.5,<5.0.0dev,>=3.20.3 in /usr/local/lib/python3.10/dist-packages (from tensorflow) (3.20.3)\n",
            "Requirement already satisfied: setuptools in /usr/local/lib/python3.10/dist-packages (from tensorflow) (67.7.2)\n",
            "Requirement already satisfied: six>=1.12.0 in /usr/local/lib/python3.10/dist-packages (from tensorflow) (1.16.0)\n",
            "Requirement already satisfied: termcolor>=1.1.0 in /usr/local/lib/python3.10/dist-packages (from tensorflow) (2.3.0)\n",
            "Requirement already satisfied: typing-extensions>=3.6.6 in /usr/local/lib/python3.10/dist-packages (from tensorflow) (4.5.0)\n",
            "Requirement already satisfied: wrapt<1.15,>=1.11.0 in /usr/local/lib/python3.10/dist-packages (from tensorflow) (1.14.1)\n",
            "Requirement already satisfied: tensorflow-io-gcs-filesystem>=0.23.1 in /usr/local/lib/python3.10/dist-packages (from tensorflow) (0.34.0)\n",
            "Requirement already satisfied: grpcio<2.0,>=1.24.3 in /usr/local/lib/python3.10/dist-packages (from tensorflow) (1.59.2)\n",
            "Requirement already satisfied: tensorboard<2.15,>=2.14 in /usr/local/lib/python3.10/dist-packages (from tensorflow) (2.14.1)\n",
            "Requirement already satisfied: tensorflow-estimator<2.15,>=2.14.0 in /usr/local/lib/python3.10/dist-packages (from tensorflow) (2.14.0)\n",
            "Requirement already satisfied: keras<2.15,>=2.14.0 in /usr/local/lib/python3.10/dist-packages (from tensorflow) (2.14.0)\n",
            "Requirement already satisfied: wheel<1.0,>=0.23.0 in /usr/local/lib/python3.10/dist-packages (from astunparse>=1.6.0->tensorflow) (0.41.3)\n",
            "Requirement already satisfied: google-auth<3,>=1.6.3 in /usr/local/lib/python3.10/dist-packages (from tensorboard<2.15,>=2.14->tensorflow) (2.17.3)\n",
            "Requirement already satisfied: google-auth-oauthlib<1.1,>=0.5 in /usr/local/lib/python3.10/dist-packages (from tensorboard<2.15,>=2.14->tensorflow) (1.0.0)\n",
            "Requirement already satisfied: markdown>=2.6.8 in /usr/local/lib/python3.10/dist-packages (from tensorboard<2.15,>=2.14->tensorflow) (3.5.1)\n",
            "Requirement already satisfied: requests<3,>=2.21.0 in /usr/local/lib/python3.10/dist-packages (from tensorboard<2.15,>=2.14->tensorflow) (2.31.0)\n",
            "Requirement already satisfied: tensorboard-data-server<0.8.0,>=0.7.0 in /usr/local/lib/python3.10/dist-packages (from tensorboard<2.15,>=2.14->tensorflow) (0.7.2)\n",
            "Requirement already satisfied: werkzeug>=1.0.1 in /usr/local/lib/python3.10/dist-packages (from tensorboard<2.15,>=2.14->tensorflow) (3.0.1)\n",
            "Requirement already satisfied: cachetools<6.0,>=2.0.0 in /usr/local/lib/python3.10/dist-packages (from google-auth<3,>=1.6.3->tensorboard<2.15,>=2.14->tensorflow) (5.3.2)\n",
            "Requirement already satisfied: pyasn1-modules>=0.2.1 in /usr/local/lib/python3.10/dist-packages (from google-auth<3,>=1.6.3->tensorboard<2.15,>=2.14->tensorflow) (0.3.0)\n",
            "Requirement already satisfied: rsa<5,>=3.1.4 in /usr/local/lib/python3.10/dist-packages (from google-auth<3,>=1.6.3->tensorboard<2.15,>=2.14->tensorflow) (4.9)\n",
            "Requirement already satisfied: requests-oauthlib>=0.7.0 in /usr/local/lib/python3.10/dist-packages (from google-auth-oauthlib<1.1,>=0.5->tensorboard<2.15,>=2.14->tensorflow) (1.3.1)\n",
            "Requirement already satisfied: charset-normalizer<4,>=2 in /usr/local/lib/python3.10/dist-packages (from requests<3,>=2.21.0->tensorboard<2.15,>=2.14->tensorflow) (3.3.2)\n",
            "Requirement already satisfied: idna<4,>=2.5 in /usr/local/lib/python3.10/dist-packages (from requests<3,>=2.21.0->tensorboard<2.15,>=2.14->tensorflow) (3.4)\n",
            "Requirement already satisfied: urllib3<3,>=1.21.1 in /usr/local/lib/python3.10/dist-packages (from requests<3,>=2.21.0->tensorboard<2.15,>=2.14->tensorflow) (2.0.7)\n",
            "Requirement already satisfied: certifi>=2017.4.17 in /usr/local/lib/python3.10/dist-packages (from requests<3,>=2.21.0->tensorboard<2.15,>=2.14->tensorflow) (2023.7.22)\n",
            "Requirement already satisfied: MarkupSafe>=2.1.1 in /usr/local/lib/python3.10/dist-packages (from werkzeug>=1.0.1->tensorboard<2.15,>=2.14->tensorflow) (2.1.3)\n",
            "Requirement already satisfied: pyasn1<0.6.0,>=0.4.6 in /usr/local/lib/python3.10/dist-packages (from pyasn1-modules>=0.2.1->google-auth<3,>=1.6.3->tensorboard<2.15,>=2.14->tensorflow) (0.5.0)\n",
            "Requirement already satisfied: oauthlib>=3.0.0 in /usr/local/lib/python3.10/dist-packages (from requests-oauthlib>=0.7.0->google-auth-oauthlib<1.1,>=0.5->tensorboard<2.15,>=2.14->tensorflow) (3.2.2)\n",
            "Requirement already satisfied: audiolm_pytorch in /usr/local/lib/python3.10/dist-packages (1.7.6)\n",
            "Requirement already satisfied: accelerate>=0.24.0 in /usr/local/lib/python3.10/dist-packages (from audiolm_pytorch) (0.24.1)\n",
            "Requirement already satisfied: beartype>=0.16.1 in /usr/local/lib/python3.10/dist-packages (from audiolm_pytorch) (0.16.4)\n",
            "Requirement already satisfied: einops>=0.7.0 in /usr/local/lib/python3.10/dist-packages (from audiolm_pytorch) (0.7.0)\n",
            "Requirement already satisfied: ema-pytorch>=0.2.2 in /usr/local/lib/python3.10/dist-packages (from audiolm_pytorch) (0.3.0)\n",
            "Requirement already satisfied: encodec in /usr/local/lib/python3.10/dist-packages (from audiolm_pytorch) (0.1.1)\n",
            "Requirement already satisfied: fairseq in /usr/local/lib/python3.10/dist-packages (from audiolm_pytorch) (0.12.2)\n",
            "Requirement already satisfied: joblib in /usr/local/lib/python3.10/dist-packages (from audiolm_pytorch) (1.3.2)\n",
            "Requirement already satisfied: lion-pytorch in /usr/local/lib/python3.10/dist-packages (from audiolm_pytorch) (0.1.2)\n",
            "Requirement already satisfied: local-attention>=1.9.0 in /usr/local/lib/python3.10/dist-packages (from audiolm_pytorch) (1.9.0)\n",
            "Requirement already satisfied: scikit-learn in /usr/local/lib/python3.10/dist-packages (from audiolm_pytorch) (1.2.2)\n",
            "Requirement already satisfied: sentencepiece in /usr/local/lib/python3.10/dist-packages (from audiolm_pytorch) (0.1.99)\n",
            "Requirement already satisfied: torch>=1.12 in /usr/local/lib/python3.10/dist-packages (from audiolm_pytorch) (2.1.0+cu118)\n",
            "Requirement already satisfied: torchaudio in /usr/local/lib/python3.10/dist-packages (from audiolm_pytorch) (2.1.0+cu118)\n",
            "Requirement already satisfied: transformers in /usr/local/lib/python3.10/dist-packages (from audiolm_pytorch) (4.35.0)\n",
            "Requirement already satisfied: tqdm in /usr/local/lib/python3.10/dist-packages (from audiolm_pytorch) (4.66.1)\n",
            "Requirement already satisfied: vector-quantize-pytorch>=1.11.3 in /usr/local/lib/python3.10/dist-packages (from audiolm_pytorch) (1.11.7)\n",
            "Requirement already satisfied: numpy>=1.17 in /usr/local/lib/python3.10/dist-packages (from accelerate>=0.24.0->audiolm_pytorch) (1.23.5)\n",
            "Requirement already satisfied: packaging>=20.0 in /usr/local/lib/python3.10/dist-packages (from accelerate>=0.24.0->audiolm_pytorch) (23.2)\n",
            "Requirement already satisfied: psutil in /usr/local/lib/python3.10/dist-packages (from accelerate>=0.24.0->audiolm_pytorch) (5.9.5)\n",
            "Requirement already satisfied: pyyaml in /usr/local/lib/python3.10/dist-packages (from accelerate>=0.24.0->audiolm_pytorch) (6.0.1)\n",
            "Requirement already satisfied: huggingface-hub in /usr/local/lib/python3.10/dist-packages (from accelerate>=0.24.0->audiolm_pytorch) (0.17.3)\n",
            "Requirement already satisfied: filelock in /usr/local/lib/python3.10/dist-packages (from torch>=1.12->audiolm_pytorch) (3.13.1)\n",
            "Requirement already satisfied: typing-extensions in /usr/local/lib/python3.10/dist-packages (from torch>=1.12->audiolm_pytorch) (4.5.0)\n",
            "Requirement already satisfied: sympy in /usr/local/lib/python3.10/dist-packages (from torch>=1.12->audiolm_pytorch) (1.12)\n",
            "Requirement already satisfied: networkx in /usr/local/lib/python3.10/dist-packages (from torch>=1.12->audiolm_pytorch) (3.2.1)\n",
            "Requirement already satisfied: jinja2 in /usr/local/lib/python3.10/dist-packages (from torch>=1.12->audiolm_pytorch) (3.1.2)\n",
            "Requirement already satisfied: fsspec in /usr/local/lib/python3.10/dist-packages (from torch>=1.12->audiolm_pytorch) (2023.6.0)\n",
            "Requirement already satisfied: triton==2.1.0 in /usr/local/lib/python3.10/dist-packages (from torch>=1.12->audiolm_pytorch) (2.1.0)\n",
            "Requirement already satisfied: cffi in /usr/local/lib/python3.10/dist-packages (from fairseq->audiolm_pytorch) (1.16.0)\n",
            "Requirement already satisfied: cython in /usr/local/lib/python3.10/dist-packages (from fairseq->audiolm_pytorch) (3.0.5)\n",
            "Requirement already satisfied: hydra-core<1.1,>=1.0.7 in /usr/local/lib/python3.10/dist-packages (from fairseq->audiolm_pytorch) (1.0.7)\n",
            "Requirement already satisfied: omegaconf<2.1 in /usr/local/lib/python3.10/dist-packages (from fairseq->audiolm_pytorch) (2.0.6)\n",
            "Requirement already satisfied: regex in /usr/local/lib/python3.10/dist-packages (from fairseq->audiolm_pytorch) (2023.6.3)\n",
            "Requirement already satisfied: sacrebleu>=1.4.12 in /usr/local/lib/python3.10/dist-packages (from fairseq->audiolm_pytorch) (2.3.2)\n",
            "Requirement already satisfied: bitarray in /usr/local/lib/python3.10/dist-packages (from fairseq->audiolm_pytorch) (2.8.3)\n",
            "Requirement already satisfied: scipy>=1.3.2 in /usr/local/lib/python3.10/dist-packages (from scikit-learn->audiolm_pytorch) (1.11.3)\n",
            "Requirement already satisfied: threadpoolctl>=2.0.0 in /usr/local/lib/python3.10/dist-packages (from scikit-learn->audiolm_pytorch) (3.2.0)\n",
            "Requirement already satisfied: requests in /usr/local/lib/python3.10/dist-packages (from transformers->audiolm_pytorch) (2.31.0)\n",
            "Requirement already satisfied: tokenizers<0.15,>=0.14 in /usr/local/lib/python3.10/dist-packages (from transformers->audiolm_pytorch) (0.14.1)\n",
            "Requirement already satisfied: safetensors>=0.3.1 in /usr/local/lib/python3.10/dist-packages (from transformers->audiolm_pytorch) (0.4.0)\n",
            "Requirement already satisfied: antlr4-python3-runtime==4.8 in /usr/local/lib/python3.10/dist-packages (from hydra-core<1.1,>=1.0.7->fairseq->audiolm_pytorch) (4.8)\n",
            "Requirement already satisfied: portalocker in /usr/local/lib/python3.10/dist-packages (from sacrebleu>=1.4.12->fairseq->audiolm_pytorch) (2.8.2)\n",
            "Requirement already satisfied: tabulate>=0.8.9 in /usr/local/lib/python3.10/dist-packages (from sacrebleu>=1.4.12->fairseq->audiolm_pytorch) (0.9.0)\n",
            "Requirement already satisfied: colorama in /usr/local/lib/python3.10/dist-packages (from sacrebleu>=1.4.12->fairseq->audiolm_pytorch) (0.4.6)\n",
            "Requirement already satisfied: lxml in /usr/local/lib/python3.10/dist-packages (from sacrebleu>=1.4.12->fairseq->audiolm_pytorch) (4.9.3)\n",
            "Requirement already satisfied: pycparser in /usr/local/lib/python3.10/dist-packages (from cffi->fairseq->audiolm_pytorch) (2.21)\n",
            "Requirement already satisfied: MarkupSafe>=2.0 in /usr/local/lib/python3.10/dist-packages (from jinja2->torch>=1.12->audiolm_pytorch) (2.1.3)\n",
            "Requirement already satisfied: charset-normalizer<4,>=2 in /usr/local/lib/python3.10/dist-packages (from requests->transformers->audiolm_pytorch) (3.3.2)\n",
            "Requirement already satisfied: idna<4,>=2.5 in /usr/local/lib/python3.10/dist-packages (from requests->transformers->audiolm_pytorch) (3.4)\n",
            "Requirement already satisfied: urllib3<3,>=1.21.1 in /usr/local/lib/python3.10/dist-packages (from requests->transformers->audiolm_pytorch) (2.0.7)\n",
            "Requirement already satisfied: certifi>=2017.4.17 in /usr/local/lib/python3.10/dist-packages (from requests->transformers->audiolm_pytorch) (2023.7.22)\n",
            "Requirement already satisfied: mpmath>=0.19 in /usr/local/lib/python3.10/dist-packages (from sympy->torch>=1.12->audiolm_pytorch) (1.3.0)\n"
          ]
        }
      ]
    },
    {
      "cell_type": "code",
      "source": [
        "import torch\n",
        "from audiolm_pytorch import HubertWithKmeans\n",
        "from audiolm_pytorch import SemanticTransformer, SemanticTransformerTrainer\n",
        "from audiolm_pytorch import CoarseTransformer, CoarseTransformerTrainer\n",
        "from audiolm_pytorch import SoundStream, FineTransformer, FineTransformerTrainer\n",
        "from audiolm_pytorch import AudioLMSoundStream, AudioLM, MusicLMSoundStream\n",
        "import gc  # 导入垃圾回收模块\n",
        "from musiclm_pytorch import MuLaNEmbedQuantizer\n",
        "from musiclm_pytorch import MuLaN, AudioSpectrogramTransformer, TextTransformer\n",
        "\n",
        "audio_transformer = AudioSpectrogramTransformer(\n",
        "    dim = 512,\n",
        "    depth = 6,\n",
        "    heads = 8,\n",
        "    dim_head = 64,\n",
        "    spec_n_fft = 128,\n",
        "    spec_win_length = 24,\n",
        "    spec_aug_stretch_factor = 0.8\n",
        ")\n",
        "\n",
        "text_transformer = TextTransformer(\n",
        "    dim = 512,\n",
        "    depth = 6,\n",
        "    heads = 8,\n",
        "    dim_head = 64\n",
        ")\n",
        "\n",
        "mulan = MuLaN(\n",
        "    audio_transformer = audio_transformer,\n",
        "    text_transformer = text_transformer\n",
        ")\n",
        "\n",
        "\n",
        "# setup the quantizer with the namespaced conditioning embeddings, unique per quantizer as well as namespace (per transformer)\n",
        "\n",
        "quantizer = MuLaNEmbedQuantizer(\n",
        "    mulan = mulan,                          # pass in trained mulan from above\n",
        "    conditioning_dims = (1024, 1024, 1024), # say all three transformers have model dimensions of 1024\n",
        "    namespaces = ('semantic', 'coarse', 'fine')\n",
        ")\n",
        "\n",
        "\n",
        "\n",
        "# now say you want the conditioning embeddings for semantic transformer\n",
        "\n",
        "wavs = torch.randn(2, 1024)\n",
        "conds = quantizer(wavs = wavs, namespace = 'semantic') # (2, 8, 1024) - 8 is number of quantizers\n",
        "\n",
        "# 公共变量\n",
        "checkpoint_path = 'hubert_base_ls960.pt'\n",
        "kmeans_path = 'hubert_base_ls960_L9_km500.bin'\n",
        "\n",
        "audio_output_dir = './downloaded_audios'\n",
        "batch_size = 1\n",
        "data_max_length = 320 * 32\n",
        "num_train_steps = 1_000_000\n",
        "\n",
        "# 函数：训练 CoarseTransformer\n",
        "def train_coarse_transformer():\n",
        "    wav2vec = HubertWithKmeans(\n",
        "        checkpoint_path=checkpoint_path,\n",
        "        kmeans_path=kmeans_path\n",
        "        )   # 每个函数中重新创建 wav2vec，后面会删掉\n",
        "    soundstream = MusicLMSoundStream()\n",
        "\n",
        "    if torch.cuda.is_available():\n",
        "      coarse_transformer = CoarseTransformer(\n",
        "          num_semantic_tokens=wav2vec.codebook_size,\n",
        "          codebook_size=1024,\n",
        "          num_coarse_quantizers=4,\n",
        "          dim=1024,\n",
        "          depth=6,\n",
        "          audio_text_condition=True\n",
        "          ).cuda()\n",
        "    else:\n",
        "      coarse_transformer = CoarseTransformer(\n",
        "          num_semantic_tokens=wav2vec.codebook_size,\n",
        "          codebook_size=1024,\n",
        "          num_coarse_quantizers=4,\n",
        "          dim=1024,\n",
        "          depth=6,\n",
        "          audio_text_condition=True\n",
        "          )\n",
        "\n",
        "    trainer = CoarseTransformerTrainer(\n",
        "        transformer=coarse_transformer,\n",
        "        codec=soundstream,\n",
        "        wav2vec=wav2vec,\n",
        "        audio_conditioner=quantizer,\n",
        "        folder=audio_output_dir,\n",
        "        batch_size=batch_size,\n",
        "        data_max_length=data_max_length,\n",
        "        num_train_steps=num_train_steps\n",
        "        )\n",
        "\n",
        "    trainer.train()\n",
        "    torch.save(coarse_transformer.state_dict(), 'coarse_transformer.pth')\n",
        "    print(\"save coarse_transformer.pth\")\n",
        "    del coarse_transformer, trainer, wav2vec, soundstream\n",
        "    gc.collect()\n",
        "\n",
        "train_coarse_transformer()\n"
      ],
      "metadata": {
        "colab": {
          "base_uri": "https://localhost:8080/"
        },
        "id": "cIJ8rUVZJe08",
        "outputId": "abeb8b77-4ef2-435e-cc09-9fe62487850f"
      },
      "execution_count": 2,
      "outputs": [
        {
          "output_type": "stream",
          "name": "stdout",
          "text": [
            "spectrogram yielded shape of (65, 86), but had to be cropped to (64, 80) to be patchified for transformer\n",
            "training with dataset of 187 samples and validating with randomly splitted 10 samples\n",
            "do you want to clear previous experiment checkpoints and results? (y/n) n\n",
            "0: loss: 89.21683502197266\n",
            "0: valid loss 12.97992992401123\n",
            "0: saving model to results\n",
            "training complete\n",
            "save coarse_transformer.pth\n"
          ]
        }
      ]
    },
    {
      "cell_type": "markdown",
      "source": [
        "## 训练 Fine Transformer"
      ],
      "metadata": {
        "id": "uOftdFzqhiL0"
      }
    },
    {
      "cell_type": "markdown",
      "source": [
        "重启代码后，需要安装库"
      ],
      "metadata": {
        "id": "8yfc9oxTy4fj"
      }
    },
    {
      "cell_type": "code",
      "source": [
        "# 重启也要运行\n",
        "!pip install musiclm-pytorch\n",
        "!pip install --upgrade tensorflow tensorflow-io\n",
        "!pip install audiolm_pytorch\n"
      ],
      "metadata": {
        "colab": {
          "base_uri": "https://localhost:8080/"
        },
        "id": "O2dZrPNTy027",
        "outputId": "90a8134a-296a-48e5-b907-190567cc70e5"
      },
      "execution_count": 1,
      "outputs": [
        {
          "output_type": "stream",
          "name": "stdout",
          "text": [
            "Requirement already satisfied: musiclm-pytorch in /usr/local/lib/python3.10/dist-packages (0.2.8)\n",
            "Requirement already satisfied: accelerate in /usr/local/lib/python3.10/dist-packages (from musiclm-pytorch) (0.24.1)\n",
            "Requirement already satisfied: audiolm-pytorch>=0.17.0 in /usr/local/lib/python3.10/dist-packages (from musiclm-pytorch) (1.7.6)\n",
            "Requirement already satisfied: beartype in /usr/local/lib/python3.10/dist-packages (from musiclm-pytorch) (0.16.4)\n",
            "Requirement already satisfied: einops>=0.6 in /usr/local/lib/python3.10/dist-packages (from musiclm-pytorch) (0.7.0)\n",
            "Requirement already satisfied: lion-pytorch in /usr/local/lib/python3.10/dist-packages (from musiclm-pytorch) (0.1.2)\n",
            "Requirement already satisfied: vector-quantize-pytorch>=1.0.0 in /usr/local/lib/python3.10/dist-packages (from musiclm-pytorch) (1.11.7)\n",
            "Requirement already satisfied: x-clip in /usr/local/lib/python3.10/dist-packages (from musiclm-pytorch) (0.14.4)\n",
            "Requirement already satisfied: torch>=1.12 in /usr/local/lib/python3.10/dist-packages (from musiclm-pytorch) (2.1.0+cu118)\n",
            "Requirement already satisfied: torchaudio in /usr/local/lib/python3.10/dist-packages (from musiclm-pytorch) (2.1.0+cu118)\n",
            "Requirement already satisfied: ema-pytorch>=0.2.2 in /usr/local/lib/python3.10/dist-packages (from audiolm-pytorch>=0.17.0->musiclm-pytorch) (0.3.0)\n",
            "Requirement already satisfied: encodec in /usr/local/lib/python3.10/dist-packages (from audiolm-pytorch>=0.17.0->musiclm-pytorch) (0.1.1)\n",
            "Requirement already satisfied: fairseq in /usr/local/lib/python3.10/dist-packages (from audiolm-pytorch>=0.17.0->musiclm-pytorch) (0.12.2)\n",
            "Requirement already satisfied: joblib in /usr/local/lib/python3.10/dist-packages (from audiolm-pytorch>=0.17.0->musiclm-pytorch) (1.3.2)\n",
            "Requirement already satisfied: local-attention>=1.9.0 in /usr/local/lib/python3.10/dist-packages (from audiolm-pytorch>=0.17.0->musiclm-pytorch) (1.9.0)\n",
            "Requirement already satisfied: scikit-learn in /usr/local/lib/python3.10/dist-packages (from audiolm-pytorch>=0.17.0->musiclm-pytorch) (1.2.2)\n",
            "Requirement already satisfied: sentencepiece in /usr/local/lib/python3.10/dist-packages (from audiolm-pytorch>=0.17.0->musiclm-pytorch) (0.1.99)\n",
            "Requirement already satisfied: transformers in /usr/local/lib/python3.10/dist-packages (from audiolm-pytorch>=0.17.0->musiclm-pytorch) (4.35.0)\n",
            "Requirement already satisfied: tqdm in /usr/local/lib/python3.10/dist-packages (from audiolm-pytorch>=0.17.0->musiclm-pytorch) (4.66.1)\n",
            "Requirement already satisfied: numpy>=1.17 in /usr/local/lib/python3.10/dist-packages (from accelerate->musiclm-pytorch) (1.23.5)\n",
            "Requirement already satisfied: packaging>=20.0 in /usr/local/lib/python3.10/dist-packages (from accelerate->musiclm-pytorch) (23.2)\n",
            "Requirement already satisfied: psutil in /usr/local/lib/python3.10/dist-packages (from accelerate->musiclm-pytorch) (5.9.5)\n",
            "Requirement already satisfied: pyyaml in /usr/local/lib/python3.10/dist-packages (from accelerate->musiclm-pytorch) (6.0.1)\n",
            "Requirement already satisfied: huggingface-hub in /usr/local/lib/python3.10/dist-packages (from accelerate->musiclm-pytorch) (0.17.3)\n",
            "Requirement already satisfied: filelock in /usr/local/lib/python3.10/dist-packages (from torch>=1.12->musiclm-pytorch) (3.13.1)\n",
            "Requirement already satisfied: typing-extensions in /usr/local/lib/python3.10/dist-packages (from torch>=1.12->musiclm-pytorch) (4.5.0)\n",
            "Requirement already satisfied: sympy in /usr/local/lib/python3.10/dist-packages (from torch>=1.12->musiclm-pytorch) (1.12)\n",
            "Requirement already satisfied: networkx in /usr/local/lib/python3.10/dist-packages (from torch>=1.12->musiclm-pytorch) (3.2.1)\n",
            "Requirement already satisfied: jinja2 in /usr/local/lib/python3.10/dist-packages (from torch>=1.12->musiclm-pytorch) (3.1.2)\n",
            "Requirement already satisfied: fsspec in /usr/local/lib/python3.10/dist-packages (from torch>=1.12->musiclm-pytorch) (2023.6.0)\n",
            "Requirement already satisfied: triton==2.1.0 in /usr/local/lib/python3.10/dist-packages (from torch>=1.12->musiclm-pytorch) (2.1.0)\n",
            "Requirement already satisfied: ftfy in /usr/local/lib/python3.10/dist-packages (from x-clip->musiclm-pytorch) (6.1.1)\n",
            "Requirement already satisfied: regex in /usr/local/lib/python3.10/dist-packages (from x-clip->musiclm-pytorch) (2023.6.3)\n",
            "Requirement already satisfied: torchvision in /usr/local/lib/python3.10/dist-packages (from x-clip->musiclm-pytorch) (0.16.0+cu118)\n",
            "Requirement already satisfied: cffi in /usr/local/lib/python3.10/dist-packages (from fairseq->audiolm-pytorch>=0.17.0->musiclm-pytorch) (1.16.0)\n",
            "Requirement already satisfied: cython in /usr/local/lib/python3.10/dist-packages (from fairseq->audiolm-pytorch>=0.17.0->musiclm-pytorch) (3.0.5)\n",
            "Requirement already satisfied: hydra-core<1.1,>=1.0.7 in /usr/local/lib/python3.10/dist-packages (from fairseq->audiolm-pytorch>=0.17.0->musiclm-pytorch) (1.0.7)\n",
            "Requirement already satisfied: omegaconf<2.1 in /usr/local/lib/python3.10/dist-packages (from fairseq->audiolm-pytorch>=0.17.0->musiclm-pytorch) (2.0.6)\n",
            "Requirement already satisfied: sacrebleu>=1.4.12 in /usr/local/lib/python3.10/dist-packages (from fairseq->audiolm-pytorch>=0.17.0->musiclm-pytorch) (2.3.2)\n",
            "Requirement already satisfied: bitarray in /usr/local/lib/python3.10/dist-packages (from fairseq->audiolm-pytorch>=0.17.0->musiclm-pytorch) (2.8.3)\n",
            "Requirement already satisfied: wcwidth>=0.2.5 in /usr/local/lib/python3.10/dist-packages (from ftfy->x-clip->musiclm-pytorch) (0.2.9)\n",
            "Requirement already satisfied: requests in /usr/local/lib/python3.10/dist-packages (from huggingface-hub->accelerate->musiclm-pytorch) (2.31.0)\n",
            "Requirement already satisfied: MarkupSafe>=2.0 in /usr/local/lib/python3.10/dist-packages (from jinja2->torch>=1.12->musiclm-pytorch) (2.1.3)\n",
            "Requirement already satisfied: scipy>=1.3.2 in /usr/local/lib/python3.10/dist-packages (from scikit-learn->audiolm-pytorch>=0.17.0->musiclm-pytorch) (1.11.3)\n",
            "Requirement already satisfied: threadpoolctl>=2.0.0 in /usr/local/lib/python3.10/dist-packages (from scikit-learn->audiolm-pytorch>=0.17.0->musiclm-pytorch) (3.2.0)\n",
            "Requirement already satisfied: mpmath>=0.19 in /usr/local/lib/python3.10/dist-packages (from sympy->torch>=1.12->musiclm-pytorch) (1.3.0)\n",
            "Requirement already satisfied: pillow!=8.3.*,>=5.3.0 in /usr/local/lib/python3.10/dist-packages (from torchvision->x-clip->musiclm-pytorch) (9.4.0)\n",
            "Requirement already satisfied: tokenizers<0.15,>=0.14 in /usr/local/lib/python3.10/dist-packages (from transformers->audiolm-pytorch>=0.17.0->musiclm-pytorch) (0.14.1)\n",
            "Requirement already satisfied: safetensors>=0.3.1 in /usr/local/lib/python3.10/dist-packages (from transformers->audiolm-pytorch>=0.17.0->musiclm-pytorch) (0.4.0)\n",
            "Requirement already satisfied: antlr4-python3-runtime==4.8 in /usr/local/lib/python3.10/dist-packages (from hydra-core<1.1,>=1.0.7->fairseq->audiolm-pytorch>=0.17.0->musiclm-pytorch) (4.8)\n",
            "Requirement already satisfied: portalocker in /usr/local/lib/python3.10/dist-packages (from sacrebleu>=1.4.12->fairseq->audiolm-pytorch>=0.17.0->musiclm-pytorch) (2.8.2)\n",
            "Requirement already satisfied: tabulate>=0.8.9 in /usr/local/lib/python3.10/dist-packages (from sacrebleu>=1.4.12->fairseq->audiolm-pytorch>=0.17.0->musiclm-pytorch) (0.9.0)\n",
            "Requirement already satisfied: colorama in /usr/local/lib/python3.10/dist-packages (from sacrebleu>=1.4.12->fairseq->audiolm-pytorch>=0.17.0->musiclm-pytorch) (0.4.6)\n",
            "Requirement already satisfied: lxml in /usr/local/lib/python3.10/dist-packages (from sacrebleu>=1.4.12->fairseq->audiolm-pytorch>=0.17.0->musiclm-pytorch) (4.9.3)\n",
            "Requirement already satisfied: pycparser in /usr/local/lib/python3.10/dist-packages (from cffi->fairseq->audiolm-pytorch>=0.17.0->musiclm-pytorch) (2.21)\n",
            "Requirement already satisfied: charset-normalizer<4,>=2 in /usr/local/lib/python3.10/dist-packages (from requests->huggingface-hub->accelerate->musiclm-pytorch) (3.3.2)\n",
            "Requirement already satisfied: idna<4,>=2.5 in /usr/local/lib/python3.10/dist-packages (from requests->huggingface-hub->accelerate->musiclm-pytorch) (3.4)\n",
            "Requirement already satisfied: urllib3<3,>=1.21.1 in /usr/local/lib/python3.10/dist-packages (from requests->huggingface-hub->accelerate->musiclm-pytorch) (2.0.7)\n",
            "Requirement already satisfied: certifi>=2017.4.17 in /usr/local/lib/python3.10/dist-packages (from requests->huggingface-hub->accelerate->musiclm-pytorch) (2023.7.22)\n",
            "Requirement already satisfied: tensorflow in /usr/local/lib/python3.10/dist-packages (2.14.0)\n",
            "Requirement already satisfied: tensorflow-io in /usr/local/lib/python3.10/dist-packages (0.34.0)\n",
            "Requirement already satisfied: absl-py>=1.0.0 in /usr/local/lib/python3.10/dist-packages (from tensorflow) (1.4.0)\n",
            "Requirement already satisfied: astunparse>=1.6.0 in /usr/local/lib/python3.10/dist-packages (from tensorflow) (1.6.3)\n",
            "Requirement already satisfied: flatbuffers>=23.5.26 in /usr/local/lib/python3.10/dist-packages (from tensorflow) (23.5.26)\n",
            "Requirement already satisfied: gast!=0.5.0,!=0.5.1,!=0.5.2,>=0.2.1 in /usr/local/lib/python3.10/dist-packages (from tensorflow) (0.5.4)\n",
            "Requirement already satisfied: google-pasta>=0.1.1 in /usr/local/lib/python3.10/dist-packages (from tensorflow) (0.2.0)\n",
            "Requirement already satisfied: h5py>=2.9.0 in /usr/local/lib/python3.10/dist-packages (from tensorflow) (3.9.0)\n",
            "Requirement already satisfied: libclang>=13.0.0 in /usr/local/lib/python3.10/dist-packages (from tensorflow) (16.0.6)\n",
            "Requirement already satisfied: ml-dtypes==0.2.0 in /usr/local/lib/python3.10/dist-packages (from tensorflow) (0.2.0)\n",
            "Requirement already satisfied: numpy>=1.23.5 in /usr/local/lib/python3.10/dist-packages (from tensorflow) (1.23.5)\n",
            "Requirement already satisfied: opt-einsum>=2.3.2 in /usr/local/lib/python3.10/dist-packages (from tensorflow) (3.3.0)\n",
            "Requirement already satisfied: packaging in /usr/local/lib/python3.10/dist-packages (from tensorflow) (23.2)\n",
            "Requirement already satisfied: protobuf!=4.21.0,!=4.21.1,!=4.21.2,!=4.21.3,!=4.21.4,!=4.21.5,<5.0.0dev,>=3.20.3 in /usr/local/lib/python3.10/dist-packages (from tensorflow) (3.20.3)\n",
            "Requirement already satisfied: setuptools in /usr/local/lib/python3.10/dist-packages (from tensorflow) (67.7.2)\n",
            "Requirement already satisfied: six>=1.12.0 in /usr/local/lib/python3.10/dist-packages (from tensorflow) (1.16.0)\n",
            "Requirement already satisfied: termcolor>=1.1.0 in /usr/local/lib/python3.10/dist-packages (from tensorflow) (2.3.0)\n",
            "Requirement already satisfied: typing-extensions>=3.6.6 in /usr/local/lib/python3.10/dist-packages (from tensorflow) (4.5.0)\n",
            "Requirement already satisfied: wrapt<1.15,>=1.11.0 in /usr/local/lib/python3.10/dist-packages (from tensorflow) (1.14.1)\n",
            "Requirement already satisfied: tensorflow-io-gcs-filesystem>=0.23.1 in /usr/local/lib/python3.10/dist-packages (from tensorflow) (0.34.0)\n",
            "Requirement already satisfied: grpcio<2.0,>=1.24.3 in /usr/local/lib/python3.10/dist-packages (from tensorflow) (1.59.2)\n",
            "Requirement already satisfied: tensorboard<2.15,>=2.14 in /usr/local/lib/python3.10/dist-packages (from tensorflow) (2.14.1)\n",
            "Requirement already satisfied: tensorflow-estimator<2.15,>=2.14.0 in /usr/local/lib/python3.10/dist-packages (from tensorflow) (2.14.0)\n",
            "Requirement already satisfied: keras<2.15,>=2.14.0 in /usr/local/lib/python3.10/dist-packages (from tensorflow) (2.14.0)\n",
            "Requirement already satisfied: wheel<1.0,>=0.23.0 in /usr/local/lib/python3.10/dist-packages (from astunparse>=1.6.0->tensorflow) (0.41.3)\n",
            "Requirement already satisfied: google-auth<3,>=1.6.3 in /usr/local/lib/python3.10/dist-packages (from tensorboard<2.15,>=2.14->tensorflow) (2.17.3)\n",
            "Requirement already satisfied: google-auth-oauthlib<1.1,>=0.5 in /usr/local/lib/python3.10/dist-packages (from tensorboard<2.15,>=2.14->tensorflow) (1.0.0)\n",
            "Requirement already satisfied: markdown>=2.6.8 in /usr/local/lib/python3.10/dist-packages (from tensorboard<2.15,>=2.14->tensorflow) (3.5.1)\n",
            "Requirement already satisfied: requests<3,>=2.21.0 in /usr/local/lib/python3.10/dist-packages (from tensorboard<2.15,>=2.14->tensorflow) (2.31.0)\n",
            "Requirement already satisfied: tensorboard-data-server<0.8.0,>=0.7.0 in /usr/local/lib/python3.10/dist-packages (from tensorboard<2.15,>=2.14->tensorflow) (0.7.2)\n",
            "Requirement already satisfied: werkzeug>=1.0.1 in /usr/local/lib/python3.10/dist-packages (from tensorboard<2.15,>=2.14->tensorflow) (3.0.1)\n",
            "Requirement already satisfied: cachetools<6.0,>=2.0.0 in /usr/local/lib/python3.10/dist-packages (from google-auth<3,>=1.6.3->tensorboard<2.15,>=2.14->tensorflow) (5.3.2)\n",
            "Requirement already satisfied: pyasn1-modules>=0.2.1 in /usr/local/lib/python3.10/dist-packages (from google-auth<3,>=1.6.3->tensorboard<2.15,>=2.14->tensorflow) (0.3.0)\n",
            "Requirement already satisfied: rsa<5,>=3.1.4 in /usr/local/lib/python3.10/dist-packages (from google-auth<3,>=1.6.3->tensorboard<2.15,>=2.14->tensorflow) (4.9)\n",
            "Requirement already satisfied: requests-oauthlib>=0.7.0 in /usr/local/lib/python3.10/dist-packages (from google-auth-oauthlib<1.1,>=0.5->tensorboard<2.15,>=2.14->tensorflow) (1.3.1)\n",
            "Requirement already satisfied: charset-normalizer<4,>=2 in /usr/local/lib/python3.10/dist-packages (from requests<3,>=2.21.0->tensorboard<2.15,>=2.14->tensorflow) (3.3.2)\n",
            "Requirement already satisfied: idna<4,>=2.5 in /usr/local/lib/python3.10/dist-packages (from requests<3,>=2.21.0->tensorboard<2.15,>=2.14->tensorflow) (3.4)\n",
            "Requirement already satisfied: urllib3<3,>=1.21.1 in /usr/local/lib/python3.10/dist-packages (from requests<3,>=2.21.0->tensorboard<2.15,>=2.14->tensorflow) (2.0.7)\n",
            "Requirement already satisfied: certifi>=2017.4.17 in /usr/local/lib/python3.10/dist-packages (from requests<3,>=2.21.0->tensorboard<2.15,>=2.14->tensorflow) (2023.7.22)\n",
            "Requirement already satisfied: MarkupSafe>=2.1.1 in /usr/local/lib/python3.10/dist-packages (from werkzeug>=1.0.1->tensorboard<2.15,>=2.14->tensorflow) (2.1.3)\n",
            "Requirement already satisfied: pyasn1<0.6.0,>=0.4.6 in /usr/local/lib/python3.10/dist-packages (from pyasn1-modules>=0.2.1->google-auth<3,>=1.6.3->tensorboard<2.15,>=2.14->tensorflow) (0.5.0)\n",
            "Requirement already satisfied: oauthlib>=3.0.0 in /usr/local/lib/python3.10/dist-packages (from requests-oauthlib>=0.7.0->google-auth-oauthlib<1.1,>=0.5->tensorboard<2.15,>=2.14->tensorflow) (3.2.2)\n",
            "Requirement already satisfied: audiolm_pytorch in /usr/local/lib/python3.10/dist-packages (1.7.6)\n",
            "Requirement already satisfied: accelerate>=0.24.0 in /usr/local/lib/python3.10/dist-packages (from audiolm_pytorch) (0.24.1)\n",
            "Requirement already satisfied: beartype>=0.16.1 in /usr/local/lib/python3.10/dist-packages (from audiolm_pytorch) (0.16.4)\n",
            "Requirement already satisfied: einops>=0.7.0 in /usr/local/lib/python3.10/dist-packages (from audiolm_pytorch) (0.7.0)\n",
            "Requirement already satisfied: ema-pytorch>=0.2.2 in /usr/local/lib/python3.10/dist-packages (from audiolm_pytorch) (0.3.0)\n",
            "Requirement already satisfied: encodec in /usr/local/lib/python3.10/dist-packages (from audiolm_pytorch) (0.1.1)\n",
            "Requirement already satisfied: fairseq in /usr/local/lib/python3.10/dist-packages (from audiolm_pytorch) (0.12.2)\n",
            "Requirement already satisfied: joblib in /usr/local/lib/python3.10/dist-packages (from audiolm_pytorch) (1.3.2)\n",
            "Requirement already satisfied: lion-pytorch in /usr/local/lib/python3.10/dist-packages (from audiolm_pytorch) (0.1.2)\n",
            "Requirement already satisfied: local-attention>=1.9.0 in /usr/local/lib/python3.10/dist-packages (from audiolm_pytorch) (1.9.0)\n",
            "Requirement already satisfied: scikit-learn in /usr/local/lib/python3.10/dist-packages (from audiolm_pytorch) (1.2.2)\n",
            "Requirement already satisfied: sentencepiece in /usr/local/lib/python3.10/dist-packages (from audiolm_pytorch) (0.1.99)\n",
            "Requirement already satisfied: torch>=1.12 in /usr/local/lib/python3.10/dist-packages (from audiolm_pytorch) (2.1.0+cu118)\n",
            "Requirement already satisfied: torchaudio in /usr/local/lib/python3.10/dist-packages (from audiolm_pytorch) (2.1.0+cu118)\n",
            "Requirement already satisfied: transformers in /usr/local/lib/python3.10/dist-packages (from audiolm_pytorch) (4.35.0)\n",
            "Requirement already satisfied: tqdm in /usr/local/lib/python3.10/dist-packages (from audiolm_pytorch) (4.66.1)\n",
            "Requirement already satisfied: vector-quantize-pytorch>=1.11.3 in /usr/local/lib/python3.10/dist-packages (from audiolm_pytorch) (1.11.7)\n",
            "Requirement already satisfied: numpy>=1.17 in /usr/local/lib/python3.10/dist-packages (from accelerate>=0.24.0->audiolm_pytorch) (1.23.5)\n",
            "Requirement already satisfied: packaging>=20.0 in /usr/local/lib/python3.10/dist-packages (from accelerate>=0.24.0->audiolm_pytorch) (23.2)\n",
            "Requirement already satisfied: psutil in /usr/local/lib/python3.10/dist-packages (from accelerate>=0.24.0->audiolm_pytorch) (5.9.5)\n",
            "Requirement already satisfied: pyyaml in /usr/local/lib/python3.10/dist-packages (from accelerate>=0.24.0->audiolm_pytorch) (6.0.1)\n",
            "Requirement already satisfied: huggingface-hub in /usr/local/lib/python3.10/dist-packages (from accelerate>=0.24.0->audiolm_pytorch) (0.17.3)\n",
            "Requirement already satisfied: filelock in /usr/local/lib/python3.10/dist-packages (from torch>=1.12->audiolm_pytorch) (3.13.1)\n",
            "Requirement already satisfied: typing-extensions in /usr/local/lib/python3.10/dist-packages (from torch>=1.12->audiolm_pytorch) (4.5.0)\n",
            "Requirement already satisfied: sympy in /usr/local/lib/python3.10/dist-packages (from torch>=1.12->audiolm_pytorch) (1.12)\n",
            "Requirement already satisfied: networkx in /usr/local/lib/python3.10/dist-packages (from torch>=1.12->audiolm_pytorch) (3.2.1)\n",
            "Requirement already satisfied: jinja2 in /usr/local/lib/python3.10/dist-packages (from torch>=1.12->audiolm_pytorch) (3.1.2)\n",
            "Requirement already satisfied: fsspec in /usr/local/lib/python3.10/dist-packages (from torch>=1.12->audiolm_pytorch) (2023.6.0)\n",
            "Requirement already satisfied: triton==2.1.0 in /usr/local/lib/python3.10/dist-packages (from torch>=1.12->audiolm_pytorch) (2.1.0)\n",
            "Requirement already satisfied: cffi in /usr/local/lib/python3.10/dist-packages (from fairseq->audiolm_pytorch) (1.16.0)\n",
            "Requirement already satisfied: cython in /usr/local/lib/python3.10/dist-packages (from fairseq->audiolm_pytorch) (3.0.5)\n",
            "Requirement already satisfied: hydra-core<1.1,>=1.0.7 in /usr/local/lib/python3.10/dist-packages (from fairseq->audiolm_pytorch) (1.0.7)\n",
            "Requirement already satisfied: omegaconf<2.1 in /usr/local/lib/python3.10/dist-packages (from fairseq->audiolm_pytorch) (2.0.6)\n",
            "Requirement already satisfied: regex in /usr/local/lib/python3.10/dist-packages (from fairseq->audiolm_pytorch) (2023.6.3)\n",
            "Requirement already satisfied: sacrebleu>=1.4.12 in /usr/local/lib/python3.10/dist-packages (from fairseq->audiolm_pytorch) (2.3.2)\n",
            "Requirement already satisfied: bitarray in /usr/local/lib/python3.10/dist-packages (from fairseq->audiolm_pytorch) (2.8.3)\n",
            "Requirement already satisfied: scipy>=1.3.2 in /usr/local/lib/python3.10/dist-packages (from scikit-learn->audiolm_pytorch) (1.11.3)\n",
            "Requirement already satisfied: threadpoolctl>=2.0.0 in /usr/local/lib/python3.10/dist-packages (from scikit-learn->audiolm_pytorch) (3.2.0)\n",
            "Requirement already satisfied: requests in /usr/local/lib/python3.10/dist-packages (from transformers->audiolm_pytorch) (2.31.0)\n",
            "Requirement already satisfied: tokenizers<0.15,>=0.14 in /usr/local/lib/python3.10/dist-packages (from transformers->audiolm_pytorch) (0.14.1)\n",
            "Requirement already satisfied: safetensors>=0.3.1 in /usr/local/lib/python3.10/dist-packages (from transformers->audiolm_pytorch) (0.4.0)\n",
            "Requirement already satisfied: antlr4-python3-runtime==4.8 in /usr/local/lib/python3.10/dist-packages (from hydra-core<1.1,>=1.0.7->fairseq->audiolm_pytorch) (4.8)\n",
            "Requirement already satisfied: portalocker in /usr/local/lib/python3.10/dist-packages (from sacrebleu>=1.4.12->fairseq->audiolm_pytorch) (2.8.2)\n",
            "Requirement already satisfied: tabulate>=0.8.9 in /usr/local/lib/python3.10/dist-packages (from sacrebleu>=1.4.12->fairseq->audiolm_pytorch) (0.9.0)\n",
            "Requirement already satisfied: colorama in /usr/local/lib/python3.10/dist-packages (from sacrebleu>=1.4.12->fairseq->audiolm_pytorch) (0.4.6)\n",
            "Requirement already satisfied: lxml in /usr/local/lib/python3.10/dist-packages (from sacrebleu>=1.4.12->fairseq->audiolm_pytorch) (4.9.3)\n",
            "Requirement already satisfied: pycparser in /usr/local/lib/python3.10/dist-packages (from cffi->fairseq->audiolm_pytorch) (2.21)\n",
            "Requirement already satisfied: MarkupSafe>=2.0 in /usr/local/lib/python3.10/dist-packages (from jinja2->torch>=1.12->audiolm_pytorch) (2.1.3)\n",
            "Requirement already satisfied: charset-normalizer<4,>=2 in /usr/local/lib/python3.10/dist-packages (from requests->transformers->audiolm_pytorch) (3.3.2)\n",
            "Requirement already satisfied: idna<4,>=2.5 in /usr/local/lib/python3.10/dist-packages (from requests->transformers->audiolm_pytorch) (3.4)\n",
            "Requirement already satisfied: urllib3<3,>=1.21.1 in /usr/local/lib/python3.10/dist-packages (from requests->transformers->audiolm_pytorch) (2.0.7)\n",
            "Requirement already satisfied: certifi>=2017.4.17 in /usr/local/lib/python3.10/dist-packages (from requests->transformers->audiolm_pytorch) (2023.7.22)\n",
            "Requirement already satisfied: mpmath>=0.19 in /usr/local/lib/python3.10/dist-packages (from sympy->torch>=1.12->audiolm_pytorch) (1.3.0)\n"
          ]
        }
      ]
    },
    {
      "cell_type": "code",
      "source": [
        "import torch\n",
        "from audiolm_pytorch import HubertWithKmeans\n",
        "from audiolm_pytorch import SemanticTransformer, SemanticTransformerTrainer\n",
        "from audiolm_pytorch import CoarseTransformer, CoarseTransformerTrainer\n",
        "from audiolm_pytorch import SoundStream, FineTransformer, FineTransformerTrainer\n",
        "from audiolm_pytorch import AudioLMSoundStream, AudioLM, MusicLMSoundStream\n",
        "from musiclm_pytorch import MuLaNEmbedQuantizer\n",
        "from musiclm_pytorch import MuLaN, AudioSpectrogramTransformer, TextTransformer\n",
        "import gc  # 导入垃圾回收模块\n",
        "import pandas as pd\n",
        "from nltk.tokenize import word_tokenize\n",
        "import nltk\n",
        "import librosa\n",
        "import numpy as np\n",
        "import pickle\n",
        "\n",
        "\n",
        "nltk.download('punkt')\n",
        "\n",
        "# 公共变量\n",
        "checkpoint_path = 'hubert_base_ls960.pt'\n",
        "kmeans_path = 'hubert_base_ls960_L9_km500.bin'\n",
        "\n",
        "audio_output_dir = './downloaded_audios'\n",
        "batch_size = 1\n",
        "data_max_length = 320 * 32\n",
        "num_train_steps = 1_000_000\n",
        "\n",
        "audio_transformer = AudioSpectrogramTransformer(\n",
        "    dim = 512,\n",
        "    depth = 6,\n",
        "    heads = 8,\n",
        "    dim_head = 64,\n",
        "    spec_n_fft = 128,\n",
        "    spec_win_length = 24,\n",
        "    spec_aug_stretch_factor = 0.8\n",
        ")\n",
        "\n",
        "text_transformer = TextTransformer(\n",
        "    dim = 512,\n",
        "    depth = 6,\n",
        "    heads = 8,\n",
        "    dim_head = 64\n",
        ")\n",
        "\n",
        "mulan = MuLaN(\n",
        "    audio_transformer = audio_transformer,\n",
        "    text_transformer = text_transformer\n",
        ")\n",
        "\n",
        "# setup the quantizer with the namespaced conditioning embeddings, unique per quantizer as well as namespace (per transformer)\n",
        "\n",
        "quantizer = MuLaNEmbedQuantizer(\n",
        "    mulan = mulan,                          # pass in trained mulan from above\n",
        "    conditioning_dims = (1024, 1024, 1024), # say all three transformers have model dimensions of 1024\n",
        "    namespaces = ('semantic', 'coarse', 'fine')\n",
        ")\n",
        "\n",
        "\n",
        "\n",
        "# 函数：训练 FineTransformer\n",
        "def train_fine_transformer():\n",
        "    soundstream = MusicLMSoundStream()\n",
        "\n",
        "    if torch.cuda.is_available():\n",
        "        fine_transformer = FineTransformer(\n",
        "            num_coarse_quantizers = 4,\n",
        "            num_fine_quantizers = 8,\n",
        "            codebook_size = 1024,\n",
        "            dim = 1024,\n",
        "            depth = 6,\n",
        "            audio_text_condition = True\n",
        "                    ).cuda()\n",
        "    else:\n",
        "      fine_transformer = FineTransformer(\n",
        "            num_coarse_quantizers = 4,\n",
        "            num_fine_quantizers = 8,\n",
        "            codebook_size = 1024,\n",
        "            dim = 1024,\n",
        "            depth = 6,\n",
        "            audio_text_condition = True\n",
        "                    )\n",
        "\n",
        "\n",
        "    # 确保 Trainer 接收文本数据作为输入\n",
        "    trainer = FineTransformerTrainer(\n",
        "        transformer=fine_transformer,\n",
        "        codec=soundstream,\n",
        "        # audio_data=audio_data, # 原本想输入对应的音频，没有这个输入\n",
        "        # text_data=combined_data, # 没有这个输入\n",
        "        folder=audio_output_dir,\n",
        "        batch_size=batch_size,\n",
        "        data_max_length=data_max_length,\n",
        "        num_train_steps=num_train_steps,\n",
        "        audio_conditioner = quantizer\n",
        "        )\n",
        "\n",
        "    trainer.train()\n",
        "    torch.save(fine_transformer.state_dict(), 'fine_transformer.pth')\n",
        "    print(\"save fine_transformer.pth\")\n",
        "    del fine_transformer, trainer, soundstream\n",
        "    gc.collect()\n",
        "\n",
        "\n",
        "train_fine_transformer()\n"
      ],
      "metadata": {
        "colab": {
          "base_uri": "https://localhost:8080/"
        },
        "id": "2Vrcpip8JhOs",
        "outputId": "77c21741-bb97-4ef6-ad6d-3b2719305dd6"
      },
      "execution_count": null,
      "outputs": [
        {
          "output_type": "stream",
          "name": "stderr",
          "text": [
            "[nltk_data] Downloading package punkt to /root/nltk_data...\n",
            "[nltk_data]   Package punkt is already up-to-date!\n"
          ]
        },
        {
          "output_type": "stream",
          "name": "stdout",
          "text": [
            "training with dataset of 187 samples and validating with randomly splitted 10 samples\n",
            "do you want to clear previous experiment checkpoints and results? (y/n) n\n",
            "spectrogram yielded shape of (65, 841), but had to be cropped to (64, 832) to be patchified for transformer\n",
            "0: loss: 94.92457580566406\n",
            "0: valid loss 9.719450950622559\n",
            "0: saving model to results\n",
            "1: loss: 10.307683944702148\n",
            "2: loss: 5.287022590637207\n",
            "3: loss: 4.613117218017578\n",
            "4: loss: 11.41645336151123\n",
            "5: loss: 7.272305965423584\n",
            "6: loss: 8.450643539428711\n",
            "7: loss: 4.728140830993652\n",
            "8: loss: 3.8572635650634766\n",
            "9: loss: 3.001547336578369\n",
            "10: loss: 4.591131210327148\n",
            "11: loss: 6.298219203948975\n",
            "12: loss: 3.708010196685791\n",
            "13: loss: 4.636425971984863\n",
            "14: loss: 4.318438529968262\n",
            "15: loss: 5.403580665588379\n",
            "16: loss: 5.974900722503662\n",
            "17: loss: 4.953211307525635\n",
            "18: loss: 4.760310649871826\n",
            "19: loss: 3.7015771865844727\n",
            "20: loss: 4.862442970275879\n",
            "21: loss: 2.4082000255584717\n",
            "22: loss: 3.2899057865142822\n",
            "23: loss: 4.265714168548584\n",
            "24: loss: 3.5276896953582764\n",
            "25: loss: 2.205475091934204\n",
            "26: loss: 2.1063811779022217\n",
            "27: loss: 1.5760117769241333\n",
            "28: loss: 2.213951349258423\n",
            "29: loss: 1.561189889907837\n",
            "30: loss: 2.1729564666748047\n",
            "31: loss: 2.1000752449035645\n",
            "32: loss: 3.27168607711792\n",
            "33: loss: 1.4988669157028198\n",
            "34: loss: 2.279475450515747\n",
            "35: loss: 1.4420995712280273\n",
            "36: loss: 1.7109174728393555\n",
            "37: loss: 1.4913033246994019\n",
            "38: loss: 1.2251924276351929\n",
            "39: loss: 0.7552644610404968\n",
            "40: loss: 1.4315482378005981\n",
            "41: loss: 3.0290567874908447\n",
            "42: loss: 2.3860912322998047\n",
            "43: loss: 1.0585929155349731\n",
            "44: loss: 1.6156632900238037\n",
            "45: loss: 1.7558751106262207\n",
            "46: loss: 2.7661657333374023\n",
            "47: loss: 1.7828035354614258\n",
            "48: loss: 3.022709369659424\n",
            "49: loss: 2.0864920616149902\n",
            "50: loss: 3.7122113704681396\n",
            "51: loss: 1.761696696281433\n",
            "52: loss: 2.3488402366638184\n",
            "53: loss: 0.7265124917030334\n",
            "54: loss: 1.6083707809448242\n",
            "55: loss: 2.8273019790649414\n",
            "56: loss: 2.4343793392181396\n",
            "57: loss: 2.0843749046325684\n",
            "58: loss: 1.7146698236465454\n",
            "59: loss: 1.5372333526611328\n",
            "60: loss: 1.5308423042297363\n",
            "61: loss: 1.6678755283355713\n",
            "62: loss: 1.5051456689834595\n",
            "63: loss: 1.1542989015579224\n",
            "64: loss: 2.4527196884155273\n",
            "65: loss: 0.7576766014099121\n",
            "66: loss: 0.5923264622688293\n",
            "67: loss: 3.0238282680511475\n",
            "68: loss: 2.5185015201568604\n",
            "69: loss: 0.6288486123085022\n",
            "70: loss: 1.923708438873291\n",
            "71: loss: 1.9133775234222412\n",
            "72: loss: 1.6559396982192993\n",
            "73: loss: 1.0983760356903076\n",
            "74: loss: 0.6602584719657898\n",
            "75: loss: 1.3933241367340088\n",
            "76: loss: 0.696877121925354\n",
            "77: loss: 0.7673723101615906\n",
            "78: loss: 0.7876877784729004\n",
            "79: loss: 0.9286630153656006\n",
            "80: loss: 0.734936535358429\n",
            "81: loss: 1.2807239294052124\n",
            "82: loss: 1.0089528560638428\n",
            "83: loss: 1.8727545738220215\n",
            "84: loss: 1.2576030492782593\n",
            "85: loss: 0.6364548206329346\n",
            "86: loss: 1.9696755409240723\n",
            "87: loss: 1.0711265802383423\n",
            "88: loss: 2.3671064376831055\n",
            "89: loss: 1.6350963115692139\n",
            "90: loss: 1.7983673810958862\n",
            "91: loss: 0.8315069675445557\n",
            "92: loss: 1.0040146112442017\n",
            "93: loss: 0.7247922420501709\n",
            "94: loss: 1.1526798009872437\n",
            "95: loss: 1.37833571434021\n"
          ]
        }
      ]
    },
    {
      "cell_type": "code",
      "source": [
        "\n",
        "# # 重启也要运行\n",
        "\n",
        "# import array\n",
        "# import torch\n",
        "# import torchaudio\n",
        "# from torch.utils.data import Dataset\n",
        "# from torch.utils.data import DataLoader\n",
        "# import soundfile\n",
        "# from scipy.io.wavfile import read\n",
        "# from musiclm_pytorch import MuLaN, AudioSpectrogramTransformer, TextTransformer\n",
        "# from musiclm_pytorch import MuLaNEmbedQuantizer\n",
        "# import os\n",
        "# import pathlib\n",
        "# import numpy\n",
        "# import pandas\n",
        "\n",
        "\n",
        "\n",
        "# audio_transformer = AudioSpectrogramTransformer(\n",
        "#     dim = 512,\n",
        "#     depth = 6,\n",
        "#     heads = 8,\n",
        "#     dim_head = 64,\n",
        "#     spec_n_fft = 128,\n",
        "#     spec_win_length = 24,\n",
        "#     spec_aug_stretch_factor = 0.8\n",
        "# )\n",
        "\n",
        "# text_transformer = TextTransformer(\n",
        "#     dim = 512,\n",
        "#     depth = 6,\n",
        "#     heads = 8,\n",
        "#     dim_head = 64\n",
        "# )\n",
        "\n",
        "# mulan = MuLaN(\n",
        "#     audio_transformer = audio_transformer,\n",
        "#     text_transformer = text_transformer\n",
        "# )\n",
        "\n",
        "# # get a ton of <sound, text> pairs and train\n",
        "\n",
        "# wavs = torch.randn(2, 1024)\n",
        "# texts = torch.randint(0, 20000, (2, 256))\n",
        "\n",
        "# loss = mulan(wavs, texts)\n",
        "# loss.backward()\n",
        "\n",
        "# # after much training, you can embed sounds and text into a joint embedding space\n",
        "# # for conditioning the audio LM\n",
        "\n",
        "# embeds = mulan.get_audio_latents(wavs)  # during training\n",
        "\n",
        "# embeds = mulan.get_text_latents(texts)  # during inference\n",
        "\n",
        "\n",
        "# # setup the quantizer with the namespaced conditioning embeddings, unique per quantizer as well as namespace (per transformer)\n",
        "\n",
        "# quantizer = MuLaNEmbedQuantizer(\n",
        "#     mulan = mulan,                          # pass in trained mulan from above\n",
        "#     conditioning_dims = (1024, 1024, 1024), # say all three transformers have model dimensions of 1024\n",
        "#     namespaces = ('semantic', 'coarse', 'fine')\n",
        "# )\n",
        "\n",
        "# # now say you want the conditioning embeddings for semantic transformer\n",
        "# conds = quantizer(wavs = wavs, namespace = 'semantic') # (2, 8, 1024) - 8 is number of quantizers\n",
        "\n"
      ],
      "metadata": {
        "id": "-1dtnYemy03C"
      },
      "execution_count": null,
      "outputs": []
    },
    {
      "cell_type": "markdown",
      "source": [
        "## 加载AudioLM\n",
        "把训练好的模型加载进来"
      ],
      "metadata": {
        "id": "4ucxS_-qh_3V"
      }
    },
    {
      "cell_type": "code",
      "source": [
        "import torch\n",
        "from audiolm_pytorch import HubertWithKmeans\n",
        "from audiolm_pytorch import SemanticTransformer, SemanticTransformerTrainer\n",
        "from audiolm_pytorch import CoarseTransformer, CoarseTransformerTrainer\n",
        "from audiolm_pytorch import FineTransformer, FineTransformerTrainer\n",
        "from audiolm_pytorch import AudioLMSoundStream, AudioLM\n",
        "\n",
        "# 创建并加载 AudioLM 实例\n",
        "wav2vec = HubertWithKmeans(checkpoint_path=checkpoint_path, kmeans_path=kmeans_path) # 前面被删掉了\n",
        "soundstream = AudioLMSoundStream()\n",
        "\n",
        "if torch.cuda.is_available():\n",
        "    semantic_transformer = SemanticTransformer(\n",
        "      num_semantic_tokens=wav2vec.codebook_size,\n",
        "      dim=1024,\n",
        "      depth=6,\n",
        "      audio_text_condition=True\n",
        "    ).cuda()\n",
        "\n",
        "    coarse_transformer = CoarseTransformer(\n",
        "      num_semantic_tokens=wav2vec.codebook_size,\n",
        "      codebook_size=1024,\n",
        "      num_coarse_quantizers=4,\n",
        "      dim=1024,\n",
        "      depth=6,\n",
        "      audio_text_condition=True\n",
        "    ).cuda()\n",
        "\n",
        "    fine_transformer = FineTransformer(\n",
        "      num_coarse_quantizers=4,\n",
        "      num_fine_quantizers=8,\n",
        "      codebook_size=1024,\n",
        "      dim=1024,\n",
        "      depth=6,\n",
        "      audio_text_condition=True\n",
        "    ).cuda()\n",
        "else:\n",
        "    semantic_transformer = SemanticTransformer(\n",
        "      num_semantic_tokens=wav2vec.codebook_size,\n",
        "      dim=1024,\n",
        "      depth=6,\n",
        "      audio_text_condition=True\n",
        "    )\n",
        "\n",
        "    coarse_transformer = CoarseTransformer(\n",
        "      num_semantic_tokens=wav2vec.codebook_size,\n",
        "      codebook_size=1024,\n",
        "      num_coarse_quantizers=4,\n",
        "      dim=1024,\n",
        "      depth=6,\n",
        "      audio_text_condition=True\n",
        "    )\n",
        "\n",
        "    fine_transformer = FineTransformer(\n",
        "      num_coarse_quantizers=4,\n",
        "      num_fine_quantizers=8,\n",
        "      codebook_size=1024,\n",
        "      dim=1024,\n",
        "      depth=6,\n",
        "      audio_text_condition=True\n",
        "    )\n",
        "\n",
        "\n",
        "\n",
        "# 加载模型状态\n",
        "semantic_transformer.load_state_dict(torch.load('semantic_transformer.pth'))\n",
        "coarse_transformer.load_state_dict(torch.load('coarse_transformer.pth'))\n",
        "fine_transformer.load_state_dict(torch.load('fine_transformer.pth'))\n",
        "\n",
        "audiolm = AudioLM(wav2vec=wav2vec, codec=soundstream, semantic_transformer=semantic_transformer, coarse_transformer=coarse_transformer, fine_transformer=fine_transformer)\n"
      ],
      "metadata": {
        "id": "rA8dOWf53f9P"
      },
      "execution_count": null,
      "outputs": []
    },
    {
      "cell_type": "markdown",
      "source": [
        "下面是可能会缺失的参数"
      ],
      "metadata": {
        "id": "PshsPpWOiQY-"
      }
    },
    {
      "cell_type": "code",
      "source": [
        "# # 重启也要运行\n",
        "# import torch\n",
        "# from audiolm_pytorch import HubertWithKmeans\n",
        "# from audiolm_pytorch import SemanticTransformer, SemanticTransformerTrainer, SoundStream\n",
        "# from audiolm_pytorch import CoarseTransformer, CoarseTransformerTrainer\n",
        "# from audiolm_pytorch import FineTransformer, FineTransformerTrainer\n",
        "# from audiolm_pytorch import AudioLMSoundStream, MusicLMSoundStream\n",
        "# from unittest import mock\n",
        "# import multiprocessing as mp\n",
        "# import gc  # 导入垃圾回收模块\n",
        "\n",
        "\n",
        "# # 设置多进程启动方式为 'spawn'\n",
        "# mp.set_start_method('spawn', force=True)\n",
        "\n",
        "# def train_semantic_transformer_process(checkpoint_path, kmeans_path):\n",
        "#     wav2vec = HubertWithKmeans(checkpoint_path=checkpoint_path, kmeans_path=kmeans_path)\n",
        "#     semantic_transformer = SemanticTransformer(\n",
        "#         num_semantic_tokens = wav2vec.codebook_size,\n",
        "#         dim = 1024,\n",
        "#         depth = 6,\n",
        "#         audio_text_condition = True      # this must be set to True (same for CoarseTransformer and FineTransformers)\n",
        "#     ).cuda()\n",
        "\n",
        "#     trainer = SemanticTransformerTrainer(\n",
        "#         transformer = semantic_transformer,\n",
        "#         wav2vec = wav2vec,\n",
        "#         audio_conditioner = quantizer,   # pass in the MulanEmbedQuantizer instance above\n",
        "#         folder ='./downloaded_audios',\n",
        "#         batch_size = 1,\n",
        "#         data_max_length = 320 * 32,\n",
        "#         num_train_steps = 1\n",
        "#     )\n",
        "\n",
        "#     trainer.train()\n",
        "#     torch.save(semantic_transformer.state_dict(), '/content/semantic_transformer.pth') # 保存模型\n",
        "# #     del trainer  # 显式删除实例，删除好像没有效果，需要存下来重启\n",
        "\n",
        "\n",
        "# def train_coarse_transformer_process(checkpoint_path, kmeans_path):\n",
        "#     wav2vec = HubertWithKmeans(checkpoint_path=checkpoint_path, kmeans_path=kmeans_path)\n",
        "#     soundstream = MusicLMSoundStream()\n",
        "\n",
        "#     coarse_transformer = CoarseTransformer(\n",
        "#         num_semantic_tokens = wav2vec.codebook_size,\n",
        "#         codebook_size = 1024,\n",
        "#         num_coarse_quantizers = 4,\n",
        "#         dim = 1024,\n",
        "#         depth = 6,\n",
        "#         audio_text_condition = True\n",
        "#     ).cuda()\n",
        "\n",
        "#     with mock.patch('builtins.input', return_value='n'):\n",
        "#         trainer = CoarseTransformerTrainer(\n",
        "#             transformer = coarse_transformer,\n",
        "#             codec = soundstream,\n",
        "#             wav2vec = wav2vec,\n",
        "#             audio_conditioner = quantizer,\n",
        "#             folder = './downloaded_audios/',\n",
        "#             batch_size = 1,\n",
        "#             data_max_length = 320 * 32,\n",
        "#             num_train_steps = 1\n",
        "#         )\n",
        "#         trainer.train()\n",
        "#         # 保存模型状态字典\n",
        "#         torch.save(coarse_transformer.state_dict(), '/content/coarse_transformer.pth') # 保存模型\n",
        "\n",
        "\n",
        "# def train_fine_transformer_process():\n",
        "#     soundstream = MusicLMSoundStream()\n",
        "#     fine_transformer = FineTransformer(\n",
        "#         num_coarse_quantizers = 4,\n",
        "#         num_fine_quantizers = 8,\n",
        "#         codebook_size = 1024,\n",
        "#         dim = 1024,\n",
        "#         depth = 6,\n",
        "#         audio_text_condition = True\n",
        "#     ).cuda()\n",
        "\n",
        "#     with mock.patch('builtins.input', return_value='n'):\n",
        "#         trainer = FineTransformerTrainer(\n",
        "#             transformer = fine_transformer,\n",
        "#             codec = soundstream,\n",
        "#             folder = './downloaded_audios/',\n",
        "#             batch_size = 1,\n",
        "#             data_max_length = 320 * 32,\n",
        "#             num_train_steps = 1,\n",
        "#             audio_conditioner = quantizer\n",
        "#         )\n",
        "\n",
        "#         trainer.train()\n",
        "#         torch.save(fine_transformer.state_dict(), '/content/fine_transformer.pth') # 保存模型\n",
        "\n",
        "\n",
        "\n",
        "# def run_training_process(train_function, *args):\n",
        "#     process = mp.Process(target=train_function, args=args)\n",
        "#     process.start()\n",
        "#     process.join()  # 等待进程结束\n",
        "\n",
        "\n",
        "\n",
        "# def train_all_transformers():\n",
        "\n",
        "#     # 加载 wav2vec 的参数\n",
        "#     checkpoint_path = 'hubert_base_ls960.pt'\n",
        "#     kmeans_path = 'hubert_base_ls960_L9_km500.bin'\n",
        "\n",
        "#     # 多线程运行\n",
        "#     run_training_process(train_semantic_transformer_process, checkpoint_path, kmeans_path)\n",
        "#     run_training_process(train_coarse_transformer_process, checkpoint_path, kmeans_path)\n",
        "#     run_training_process(train_fine_transformer_process)\n",
        "\n",
        "# train_all_transformers()\n"
      ],
      "metadata": {
        "execution": {
          "iopub.status.busy": "2023-11-13T07:27:18.164969Z",
          "iopub.execute_input": "2023-11-13T07:27:18.165867Z"
        },
        "trusted": true,
        "id": "b4r8SNwJnjHX"
      },
      "execution_count": null,
      "outputs": []
    },
    {
      "cell_type": "markdown",
      "source": [
        "# 解决one trainer问题--没有解决\n",
        "\n",
        "\n",
        "暂时无法解决，必须要不断重启。"
      ],
      "metadata": {
        "id": "83uGNsQenjHX"
      }
    },
    {
      "cell_type": "markdown",
      "source": [
        "## 使用不同的.py文件来调用 解决冲突-无效\n",
        "\n",
        "因为方法不能避免 one trainer的问题，所以暂时不用。"
      ],
      "metadata": {
        "id": "Wa5y9TA_djkW"
      }
    },
    {
      "cell_type": "markdown",
      "source": [
        "生成`train_semantic_transformer.py`"
      ],
      "metadata": {
        "id": "DFd1Vh8e7ALZ"
      }
    },
    {
      "cell_type": "code",
      "source": [
        "# # train_semantic_transformer.py\n",
        "# import torch\n",
        "# from audiolm_pytorch import HubertWithKmeans\n",
        "# from audiolm_pytorch import SemanticTransformer, SemanticTransformerTrainer\n",
        "# from audiolm_pytorch import CoarseTransformer, CoarseTransformerTrainer\n",
        "# from audiolm_pytorch import FineTransformer, FineTransformerTrainer\n",
        "# from audiolm_pytorch import AudioLMSoundStream, AudioLM\n",
        "# import gc  # 导入垃圾回收模块\n",
        "\n",
        "# # 公共变量\n",
        "# checkpoint_path = 'hubert_base_ls960.pt'\n",
        "# kmeans_path = 'hubert_base_ls960_L9_km500.bin'\n",
        "\n",
        "# audio_output_dir = './downloaded_audios'\n",
        "# batch_size = 1\n",
        "# data_max_length = 320 * 32\n",
        "# num_train_steps = 1\n",
        "\n",
        "# # 函数：训练 SemanticTransformer\n",
        "# def train_semantic_transformer():\n",
        "#     wav2vec = HubertWithKmeans(checkpoint_path=checkpoint_path, kmeans_path=kmeans_path)   # 每个函数中重新创建 wav2vec，后面会删掉\n",
        "#     soundstream = AudioLMSoundStream()\n",
        "#     semantic_transformer = SemanticTransformer(num_semantic_tokens=wav2vec.codebook_size, dim=1024, depth=6, audio_text_condition=True).cuda()\n",
        "#     trainer = SemanticTransformerTrainer(transformer=semantic_transformer, wav2vec=wav2vec, audio_conditioner=quantizer, folder=audio_output_dir, batch_size=batch_size, data_max_length=data_max_length, num_train_steps=num_train_steps)\n",
        "#     trainer.train()\n",
        "#     torch.save(semantic_transformer.state_dict(), 'semantic_transformer.pth')\n",
        "#     del semantic_transformer, trainer, wav2vec\n",
        "#     gc.collect()  # 执行垃圾回收\n",
        "\n",
        "\n",
        "\n",
        "# # 依次训练每个模型\n",
        "# train_semantic_transformer()\n"
      ],
      "metadata": {
        "id": "uH0MqXnSpW33"
      },
      "execution_count": null,
      "outputs": []
    },
    {
      "cell_type": "markdown",
      "source": [
        "`train_coarse_transformer.py`"
      ],
      "metadata": {
        "id": "80RSbKlt7WMB"
      }
    },
    {
      "cell_type": "code",
      "source": [
        "# # train_coarse_transformer.py\n",
        "# import torch\n",
        "# from audiolm_pytorch import HubertWithKmeans\n",
        "# from audiolm_pytorch import SemanticTransformer, SemanticTransformerTrainer\n",
        "# from audiolm_pytorch import CoarseTransformer, CoarseTransformerTrainer\n",
        "# from audiolm_pytorch import FineTransformer, FineTransformerTrainer\n",
        "# from audiolm_pytorch import AudioLMSoundStream, AudioLM\n",
        "# import gc  # 导入垃圾回收模块\n",
        "\n",
        "# # 公共变量\n",
        "# checkpoint_path = 'hubert_base_ls960.pt'\n",
        "# kmeans_path = 'hubert_base_ls960_L9_km500.bin'\n",
        "\n",
        "# audio_output_dir = './downloaded_audios'\n",
        "# batch_size = 1\n",
        "# data_max_length = 320 * 32\n",
        "# num_train_steps = 1\n",
        "\n",
        "# # 函数：训练 CoarseTransformer\n",
        "# def train_coarse_transformer():\n",
        "#     wav2vec = HubertWithKmeans(checkpoint_path=checkpoint_path, kmeans_path=kmeans_path)   # 每个函数中重新创建 wav2vec，后面会删掉\n",
        "#     soundstream = AudioLMSoundStream()\n",
        "\n",
        "#     coarse_transformer = CoarseTransformer(num_semantic_tokens=wav2vec.codebook_size, codebook_size=1024, num_coarse_quantizers=4, dim=1024, depth=6, audio_text_condition=True).cuda()\n",
        "#     trainer = CoarseTransformerTrainer(transformer=coarse_transformer, codec=soundstream, wav2vec=wav2vec, audio_conditioner=quantizer, folder=audio_output_dir, batch_size=batch_size, data_max_length=data_max_length, num_train_steps=num_train_steps)\n",
        "#     trainer.train()\n",
        "#     torch.save(coarse_transformer.state_dict(), 'coarse_transformer.pth')\n",
        "#     del coarse_transformer, trainer, wav2vec, soundstream\n",
        "#     gc.collect()\n",
        "\n",
        "# train_coarse_transformer()\n",
        "\n",
        "\n",
        "\n"
      ],
      "metadata": {
        "id": "baXcz5lC3Jyx"
      },
      "execution_count": null,
      "outputs": []
    },
    {
      "cell_type": "markdown",
      "source": [
        "`train_fine_transformer.py`"
      ],
      "metadata": {
        "id": "0H-4ZhEU7o7R"
      }
    },
    {
      "cell_type": "code",
      "source": [
        "# # train_fine_transformer.py\n",
        "\n",
        "# import torch\n",
        "# from audiolm_pytorch import HubertWithKmeans\n",
        "# from audiolm_pytorch import SemanticTransformer, SemanticTransformerTrainer\n",
        "# from audiolm_pytorch import CoarseTransformer, CoarseTransformerTrainer\n",
        "# from audiolm_pytorch import FineTransformer, FineTransformerTrainer\n",
        "# from audiolm_pytorch import AudioLMSoundStream, AudioLM\n",
        "# import gc  # 导入垃圾回收模块\n",
        "\n",
        "# # 公共变量\n",
        "# checkpoint_path = 'hubert_base_ls960.pt'\n",
        "# kmeans_path = 'hubert_base_ls960_L9_km500.bin'\n",
        "\n",
        "# audio_output_dir = './downloaded_audios'\n",
        "# batch_size = 1\n",
        "# data_max_length = 320 * 32\n",
        "# num_train_steps = 1\n",
        "\n",
        "\n",
        "# # 函数：训练 FineTransformer\n",
        "# def train_fine_transformer():\n",
        "#     soundstream = AudioLMSoundStream()\n",
        "\n",
        "#     fine_transformer = FineTransformer(num_coarse_quantizers=4, num_fine_quantizers=8, codebook_size=1024, dim=1024, depth=6, audio_text_condition=True).cuda()\n",
        "#     trainer = FineTransformerTrainer(transformer=fine_transformer, codec=soundstream, folder=audio_output_dir, batch_size=batch_size, data_max_length=data_max_length, num_train_steps=num_train_steps)\n",
        "#     trainer.train()\n",
        "#     torch.save(fine_transformer.state_dict(), 'fine_transformer.pth')\n",
        "#     del fine_transformer, trainer, soundstream\n",
        "#     gc.collect()\n",
        "\n",
        "# train_fine_transformer()"
      ],
      "metadata": {
        "id": "uQG_GAub3Qxg"
      },
      "execution_count": null,
      "outputs": []
    },
    {
      "cell_type": "markdown",
      "source": [
        "强制覆盖文件"
      ],
      "metadata": {
        "id": "e6Zt92_39_gi"
      }
    },
    {
      "cell_type": "code",
      "source": [
        "# !wget -O train_semantic_transformer.py https://raw.githubusercontent.com/Huang-Yongzhi/MusicLM_Jupyter/main/train_semantic_transformer.py\n",
        "# !wget -O train_coarse_transformer.py https://raw.githubusercontent.com/Huang-Yongzhi/MusicLM_Jupyter/main/train_coarse_transformer.py\n",
        "# !wget -O train_fine_transformer.py https://raw.githubusercontent.com/Huang-Yongzhi/MusicLM_Jupyter/main/train_fine_transformer.py\n",
        "# !wget -O process_audio.py https://raw.githubusercontent.com/Huang-Yongzhi/MusicLM_Jupyter/main/process_audio.py"
      ],
      "metadata": {
        "id": "tiT79g1PeMbT"
      },
      "execution_count": null,
      "outputs": []
    },
    {
      "cell_type": "code",
      "source": [
        "# !ls"
      ],
      "metadata": {
        "id": "lpMvxtg2-ORW"
      },
      "execution_count": null,
      "outputs": []
    },
    {
      "cell_type": "code",
      "source": [
        "\n",
        "# !pip install tensorboardX\n",
        "\n",
        "# !pip install nltk\n",
        "\n",
        "# !pip install librosa\n",
        "\n",
        "# ! pip install audiolm_pytorch\n",
        "\n",
        "# %run process_audio.py\n",
        "\n",
        "# %run train_semantic_transformer.py\n",
        "\n",
        "# %run train_coarse_transformer.py\n"
      ],
      "metadata": {
        "id": "vo2p24YAfEEW"
      },
      "execution_count": null,
      "outputs": []
    },
    {
      "cell_type": "markdown",
      "source": [
        "## 使用单线程调用解决 one trainer问题--无效"
      ],
      "metadata": {
        "id": "MccYi5hIindw"
      }
    },
    {
      "cell_type": "markdown",
      "source": [
        "下面是单线程运行，但是需要每次调用一个网络训练。"
      ],
      "metadata": {
        "id": "LcJ7f-EMnjHX"
      }
    },
    {
      "cell_type": "code",
      "source": [
        "# # 重启也要运行\n",
        "# import torch\n",
        "# from audiolm_pytorch import HubertWithKmeans\n",
        "# from audiolm_pytorch import SemanticTransformer, SemanticTransformerTrainer, SoundStream\n",
        "# from audiolm_pytorch import CoarseTransformer, CoarseTransformerTrainer\n",
        "# from audiolm_pytorch import FineTransformer, FineTransformerTrainer\n",
        "# from audiolm_pytorch import AudioLMSoundStream, MusicLMSoundStream\n",
        "# from unittest import mock\n",
        "# import multiprocessing\n",
        "\n",
        "\n",
        "# def train_semantic_transformer(wav2vec):\n",
        "\n",
        "#     semantic_transformer = SemanticTransformer(\n",
        "#         num_semantic_tokens = wav2vec.codebook_size,\n",
        "#         dim = 1024,\n",
        "#         depth = 6,\n",
        "#         audio_text_condition = True      # this must be set to True (same for CoarseTransformer and FineTransformers)\n",
        "#     ).cuda()\n",
        "\n",
        "#     trainer = SemanticTransformerTrainer(\n",
        "#         transformer = semantic_transformer,\n",
        "#         wav2vec = wav2vec,\n",
        "#         audio_conditioner = quantizer,   # pass in the MulanEmbedQuantizer instance above\n",
        "#         folder ='./downloaded_audios',\n",
        "#         batch_size = 1,\n",
        "#         data_max_length = 320 * 32,\n",
        "#         num_train_steps = 1\n",
        "#     )\n",
        "\n",
        "#     trainer.train()\n",
        "#     torch.save(semantic_transformer.state_dict(), 'semantic_transformer.pth') # 保存模型\n",
        "#     del trainer  # 显式删除实例，删除好像没有效果，需要存下来重启\n",
        "\n",
        "\n",
        "# def train_coarse_transformer(wav2vec, soundstream):\n",
        "\n",
        "#     coarse_transformer = CoarseTransformer(\n",
        "#         num_semantic_tokens = wav2vec.codebook_size,\n",
        "#         codebook_size = 1024,\n",
        "#         num_coarse_quantizers = 4,\n",
        "#         dim = 1024,\n",
        "#         depth = 6,\n",
        "#         audio_text_condition = True\n",
        "#     ).cuda()\n",
        "\n",
        "#     with mock.patch('builtins.input', return_value='n'):\n",
        "#         trainer = CoarseTransformerTrainer(\n",
        "#             transformer = coarse_transformer,\n",
        "#             codec = soundstream,\n",
        "#             wav2vec = wav2vec,\n",
        "#             audio_conditioner = quantizer,\n",
        "#             folder = './downloaded_audios/',\n",
        "#             batch_size = 1,\n",
        "#             data_max_length = 320 * 32,\n",
        "#             num_train_steps = 1\n",
        "#         )\n",
        "#         trainer.train()\n",
        "#         # 保存模型状态字典\n",
        "#         torch.save(coarse_transformer.state_dict(), 'coarse_transformer.pth') # 保存模型\n",
        "\n",
        "# def train_fine_transformer(soundstream):\n",
        "#     fine_transformer = FineTransformer(\n",
        "#         num_coarse_quantizers = 4,\n",
        "#         num_fine_quantizers = 8,\n",
        "#         codebook_size = 1024,\n",
        "#         dim = 1024,\n",
        "#         depth = 6,\n",
        "#         audio_text_condition = True\n",
        "#     ).cuda()\n",
        "\n",
        "#     with mock.patch('builtins.input', return_value='n'):\n",
        "#         trainer = FineTransformerTrainer(\n",
        "#             transformer = fine_transformer,\n",
        "#             codec = soundstream,\n",
        "#             folder = './downloaded_audios/',\n",
        "#             batch_size = 1,\n",
        "#             data_max_length = 320 * 32,\n",
        "#             num_train_steps = 1,\n",
        "#             audio_conditioner = quantizer\n",
        "#         )\n",
        "\n",
        "#         trainer.train()\n",
        "#         torch.save(fine_transformer.state_dict(), 'fine_transformer.pth') # 保存模型\n",
        "\n",
        "# def train_all_transformers():\n",
        "#      # soundstream = SoundStream.init_and_load_from('/path/to/trained/soundstream.pt')\n",
        "#     soundstream = MusicLMSoundStream()\n",
        "#     # 重新加载 wav2vec 和 soundstream\n",
        "#     wav2vec = HubertWithKmeans(\n",
        "#         checkpoint_path='hubert_base_ls960.pt',\n",
        "#         kmeans_path='hubert_base_ls960_L9_km500.bin'\n",
        "#     )\n",
        "\n",
        "#    # 训练 SemanticTransformer\n",
        "#     train_semantic_transformer(wav2vec)\n",
        "#     # 训练 CoarseTransformer\n",
        "#     train_coarse_transformer(wav2vec, soundstream)\n",
        "\n",
        "#     # 训练 FineTransformer\n",
        "#     train_fine_transformer(soundstream)\n",
        "\n",
        "# train_all_transformers()\n"
      ],
      "metadata": {
        "id": "ShVM60ELvHnh",
        "execution": {
          "iopub.status.busy": "2023-11-13T07:18:37.651345Z",
          "iopub.execute_input": "2023-11-13T07:18:37.651929Z",
          "iopub.status.idle": "2023-11-13T07:18:58.886553Z",
          "shell.execute_reply.started": "2023-11-13T07:18:37.651889Z",
          "shell.execute_reply": "2023-11-13T07:18:58.885143Z"
        },
        "trusted": true
      },
      "execution_count": null,
      "outputs": []
    },
    {
      "cell_type": "markdown",
      "source": [
        "调用训练模型"
      ],
      "metadata": {
        "id": "-mby2TpAnjHY"
      }
    },
    {
      "cell_type": "code",
      "source": [
        "# train_semantic_transformer()\n"
      ],
      "metadata": {
        "trusted": true,
        "id": "2z8dR7--njHZ"
      },
      "execution_count": null,
      "outputs": []
    },
    {
      "cell_type": "markdown",
      "source": [
        "# 五、把mulan和AudioLM加载生成MusicLM\n"
      ],
      "metadata": {
        "id": "YsTSMxCenjHb"
      }
    },
    {
      "cell_type": "code",
      "source": [
        "# you need the trained AudioLM (audio_lm) from above\n",
        "# with the MulanEmbedQuantizer (mulan_embed_quantizer)\n",
        "\n",
        "from musiclm_pytorch import MusicLM\n",
        "\n",
        "if torch.cuda.is_available():\n",
        "    musiclm = MusicLM(\n",
        "    audio_lm = audiolm,\n",
        "    mulan_embed_quantizer = quantizer\n",
        "    ).cuda()\n",
        "else:\n",
        "  musiclm = MusicLM(\n",
        "    audio_lm = audiolm,\n",
        "    mulan_embed_quantizer = quantizer\n",
        "    )\n",
        "\n",
        "\n"
      ],
      "metadata": {
        "trusted": true,
        "id": "_2yetJScnjHb"
      },
      "execution_count": null,
      "outputs": []
    },
    {
      "cell_type": "markdown",
      "source": [
        "## 测试"
      ],
      "metadata": {
        "id": "IGjtULRhjNzc"
      }
    },
    {
      "cell_type": "code",
      "source": [
        "music = musiclm('the crystalline sounds of the piano in a ballroom', num_samples = 1) # sample 4 and pick the top match with mulan"
      ],
      "metadata": {
        "trusted": true,
        "id": "6ETViNGVnjHb"
      },
      "execution_count": null,
      "outputs": []
    },
    {
      "cell_type": "code",
      "source": [
        "torch.save(music, 'generated_music.pt')"
      ],
      "metadata": {
        "trusted": true,
        "id": "FKp-uWHznjHb"
      },
      "execution_count": null,
      "outputs": []
    },
    {
      "cell_type": "code",
      "source": [
        "output_path = \"out.wav\"\n",
        "sample_rate = 44100\n",
        "torchaudio.save(output_path, music.cpu() , sample_rate)"
      ],
      "metadata": {
        "trusted": true,
        "id": "274TmO6gnjHb"
      },
      "execution_count": null,
      "outputs": []
    }
  ]
}